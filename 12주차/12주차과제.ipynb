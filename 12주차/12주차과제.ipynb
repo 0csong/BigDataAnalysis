{
  "nbformat": 4,
  "nbformat_minor": 0,
  "metadata": {
    "colab": {
      "name": "12주차과제.ipynb",
      "provenance": [],
      "collapsed_sections": []
    },
    "kernelspec": {
      "name": "python3",
      "display_name": "Python 3"
    },
    "language_info": {
      "name": "python"
    }
  },
  "cells": [
    {
      "cell_type": "code",
      "metadata": {
        "colab": {
          "base_uri": "https://localhost:8080/"
        },
        "id": "mHvHa3dopIkG",
        "outputId": "6b67429a-2728-44c7-9a17-ff23f551f3a9"
      },
      "source": [
        "from google.colab import drive\n",
        "drive.mount('/content/gdrive')"
      ],
      "execution_count": 1,
      "outputs": [
        {
          "output_type": "stream",
          "name": "stdout",
          "text": [
            "Mounted at /content/gdrive\n"
          ]
        }
      ]
    },
    {
      "cell_type": "code",
      "metadata": {
        "colab": {
          "base_uri": "https://localhost:8080/"
        },
        "id": "V_c62Qdqpaak",
        "outputId": "3ca4875f-d45a-4bce-f43d-2e0fd80c5331"
      },
      "source": [
        "!pip install pyspark"
      ],
      "execution_count": 2,
      "outputs": [
        {
          "output_type": "stream",
          "name": "stdout",
          "text": [
            "Collecting pyspark\n",
            "  Downloading pyspark-3.2.0.tar.gz (281.3 MB)\n",
            "\u001b[K     |████████████████████████████████| 281.3 MB 38 kB/s \n",
            "\u001b[?25hCollecting py4j==0.10.9.2\n",
            "  Downloading py4j-0.10.9.2-py2.py3-none-any.whl (198 kB)\n",
            "\u001b[K     |████████████████████████████████| 198 kB 55.2 MB/s \n",
            "\u001b[?25hBuilding wheels for collected packages: pyspark\n",
            "  Building wheel for pyspark (setup.py) ... \u001b[?25l\u001b[?25hdone\n",
            "  Created wheel for pyspark: filename=pyspark-3.2.0-py2.py3-none-any.whl size=281805912 sha256=1055eac73b45542ad771b059b6e93feee105659cf0360381f7298ba090b9780a\n",
            "  Stored in directory: /root/.cache/pip/wheels/0b/de/d2/9be5d59d7331c6c2a7c1b6d1a4f463ce107332b1ecd4e80718\n",
            "Successfully built pyspark\n",
            "Installing collected packages: py4j, pyspark\n",
            "Successfully installed py4j-0.10.9.2 pyspark-3.2.0\n"
          ]
        }
      ]
    },
    {
      "cell_type": "markdown",
      "metadata": {
        "id": "AA4L4yMHpj5b"
      },
      "source": [
        "## 12주 matrix inverse method 회귀분석\n",
        "데이터가 다음과 같이 주어졌을 때:\n",
        "\n",
        "* x: [1,2],[1,4],[1,6]\n",
        "\n",
        "* y: 3,6,7\n",
        "\n",
        "\n",
        "\n",
        "회귀식을 도출해보자.\n",
        "\n",
        "* 1) matrix inverse method로 계수를 계산하고 출력,\n",
        "\n",
        "* 2) 예측과 실제의 오류 합계를 계산하고 출력,\n",
        "\n",
        "* 2) 입력 데이터와 회귀선의 그래프를 작성한다."
      ]
    },
    {
      "cell_type": "code",
      "metadata": {
        "colab": {
          "base_uri": "https://localhost:8080/"
        },
        "id": "PPgZ9RXZpac1",
        "outputId": "53c25fbf-da23-4def-eb81-7aeefb369593"
      },
      "source": [
        "import numpy as np\n",
        "x=np.array([[1,2],[1,4],[1,6]])\n",
        "y=np.array([3,6,7])\n",
        "\n",
        "x1=x1.T\n",
        "\n",
        "print(x)\n",
        "print(x1)\n",
        "print(y)"
      ],
      "execution_count": 7,
      "outputs": [
        {
          "output_type": "stream",
          "name": "stdout",
          "text": [
            "[[1 2]\n",
            " [1 4]\n",
            " [1 6]]\n",
            "[[1. 2.]\n",
            " [1. 4.]\n",
            " [1. 6.]]\n",
            "[3 6 7]\n"
          ]
        }
      ]
    },
    {
      "cell_type": "markdown",
      "metadata": {
        "id": "GgevQyU0qO6B"
      },
      "source": [
        "## 1) matrix inverse method로 계수를 계산하고 출력,"
      ]
    },
    {
      "cell_type": "code",
      "metadata": {
        "colab": {
          "base_uri": "https://localhost:8080/",
          "height": 35
        },
        "id": "eHB2uCCopafE",
        "outputId": "ad876544-342a-42d9-eaa8-be4cdd69602c"
      },
      "source": [
        "f\"x1 shape: {x1.shape} xT shape:{x1.T.shape}\""
      ],
      "execution_count": 8,
      "outputs": [
        {
          "output_type": "execute_result",
          "data": {
            "application/vnd.google.colaboratory.intrinsic+json": {
              "type": "string"
            },
            "text/plain": [
              "'x1 shape: (3, 2) xT shape:(2, 3)'"
            ]
          },
          "metadata": {},
          "execution_count": 8
        }
      ]
    },
    {
      "cell_type": "code",
      "metadata": {
        "colab": {
          "base_uri": "https://localhost:8080/"
        },
        "id": "29UJ5duYqU5y",
        "outputId": "1f5d6b89-b601-4deb-f7af-1490f6f4f52d"
      },
      "source": [
        "xTx=np.dot(x1.T,x1)#X^T X\n",
        "print(\"xTx=\",xTx)"
      ],
      "execution_count": 9,
      "outputs": [
        {
          "output_type": "stream",
          "name": "stdout",
          "text": [
            "xTx= [[ 3. 12.]\n",
            " [12. 56.]]\n"
          ]
        }
      ]
    },
    {
      "cell_type": "code",
      "metadata": {
        "colab": {
          "base_uri": "https://localhost:8080/"
        },
        "id": "LPBylrCvqVR8",
        "outputId": "5369a6d9-a606-45ef-81f4-99e4969439ea"
      },
      "source": [
        "xTxI=np.linalg.inv(xTx)#(X^T X) ^{-1}\n",
        "print(\"xTxI=\",xTxI)"
      ],
      "execution_count": 10,
      "outputs": [
        {
          "output_type": "stream",
          "name": "stdout",
          "text": [
            "xTxI= [[ 2.33333333 -0.5       ]\n",
            " [-0.5         0.125     ]]\n"
          ]
        }
      ]
    },
    {
      "cell_type": "code",
      "metadata": {
        "colab": {
          "base_uri": "https://localhost:8080/"
        },
        "id": "gmWoRzSyqVUS",
        "outputId": "f5ccc48c-fe67-49ed-c197-4b28f5ed76eb"
      },
      "source": [
        "xTyT=np.dot(x1.T,y)#X^T y\n",
        "print(\"xTyT=\",xTyT)"
      ],
      "execution_count": 12,
      "outputs": [
        {
          "output_type": "stream",
          "name": "stdout",
          "text": [
            "xTyT= [16. 72.]\n"
          ]
        }
      ]
    },
    {
      "cell_type": "code",
      "metadata": {
        "colab": {
          "base_uri": "https://localhost:8080/"
        },
        "id": "jLaasE51qVWH",
        "outputId": "0c41b295-878d-4558-afff-41c3edfed369"
      },
      "source": [
        "print(\"weights=\",np.dot(xTxI,xTyT))"
      ],
      "execution_count": 13,
      "outputs": [
        {
          "output_type": "stream",
          "name": "stdout",
          "text": [
            "weights= [1.33333333 1.        ]\n"
          ]
        }
      ]
    },
    {
      "cell_type": "markdown",
      "metadata": {
        "id": "4NweDW8_qnV_"
      },
      "source": [
        "## 2) 예측과 실제의 오류 합계를 계산하고 출력,"
      ]
    },
    {
      "cell_type": "code",
      "metadata": {
        "colab": {
          "base_uri": "https://localhost:8080/"
        },
        "id": "m1LkbGh8qrYg",
        "outputId": "827868ba-2278-4739-a5b8-18dfb9cd00a6"
      },
      "source": [
        "w0, w1=np.dot(np.linalg.inv(xTx), xTyT) \n",
        "print(w0)\n",
        "print(w1)"
      ],
      "execution_count": 33,
      "outputs": [
        {
          "output_type": "stream",
          "name": "stdout",
          "text": [
            "1.3333333333333286\n",
            "1.0\n"
          ]
        }
      ]
    },
    {
      "cell_type": "code",
      "metadata": {
        "id": "rgv0O490sr_Z"
      },
      "source": [
        "xslice=np.array([2,4,6])"
      ],
      "execution_count": 34,
      "outputs": []
    },
    {
      "cell_type": "code",
      "metadata": {
        "colab": {
          "base_uri": "https://localhost:8080/"
        },
        "id": "8GObxTIiqrbH",
        "outputId": "8b90263d-3a22-4140-d779-b1097d22b58c"
      },
      "source": [
        "yhat=w0+w1*xslice\n",
        "print(yhat)\n",
        "print(y)"
      ],
      "execution_count": 35,
      "outputs": [
        {
          "output_type": "stream",
          "name": "stdout",
          "text": [
            "[3.33333333 5.33333333 7.33333333]\n",
            "[3 6 7]\n"
          ]
        }
      ]
    },
    {
      "cell_type": "code",
      "metadata": {
        "colab": {
          "base_uri": "https://localhost:8080/",
          "height": 35
        },
        "id": "h5heg5paqrdl",
        "outputId": "e61c460b-2102-47cc-9cf0-41e4de478d12"
      },
      "source": [
        "f\"오류 합계: {np.sum(np.power(yhat-y,2))}\""
      ],
      "execution_count": 36,
      "outputs": [
        {
          "output_type": "execute_result",
          "data": {
            "application/vnd.google.colaboratory.intrinsic+json": {
              "type": "string"
            },
            "text/plain": [
              "'오류 합계: 0.6666666666666666'"
            ]
          },
          "metadata": {},
          "execution_count": 36
        }
      ]
    },
    {
      "cell_type": "markdown",
      "metadata": {
        "id": "LbW7cZqWs41J"
      },
      "source": [
        "## 2) 입력 데이터와 회귀선의 그래프를 작성한다."
      ]
    },
    {
      "cell_type": "code",
      "metadata": {
        "colab": {
          "base_uri": "https://localhost:8080/",
          "height": 283
        },
        "id": "LAej47M5qrht",
        "outputId": "b3168617-81a1-40a3-e528-c4a92b40e985"
      },
      "source": [
        "%matplotlib inline\n",
        "import matplotlib.pyplot as plt\n",
        "\n",
        "fig=plt.figure()\n",
        "ax=fig.add_subplot(111)\n",
        "ax.scatter(xslice,y)\n",
        "ax.plot(xslice,yhat)"
      ],
      "execution_count": 38,
      "outputs": [
        {
          "output_type": "execute_result",
          "data": {
            "text/plain": [
              "[<matplotlib.lines.Line2D at 0x7f4b35adcdd0>]"
            ]
          },
          "metadata": {},
          "execution_count": 38
        },
        {
          "output_type": "display_data",
          "data": {
            "image/png": "[encoded data removed]",
            "text/plain": [
              "<Figure size 432x288 with 1 Axes>"
            ]
          },
          "metadata": {
            "needs_background": "light"
          }
        }
      ]
    }
  ]
}
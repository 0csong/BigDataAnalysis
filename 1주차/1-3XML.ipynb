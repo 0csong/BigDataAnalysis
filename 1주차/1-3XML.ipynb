{
 "cells": [
  {
   "cell_type": "code",
   "execution_count": 1,
   "id": "5a9099d7",
   "metadata": {},
   "outputs": [],
   "source": [
    "input = '''\n",
    "<students>               # root 태그는 하나만 허용.\n",
    "    <student x=\"1\">      # 속성은 시작태그에 적고, key=\"value\"로 구성. value는 따옴표.\n",
    "        <id>001</id>     # 계층적으로 태그 구성.\n",
    "        <name>Kim</name>\n",
    "    </student>\n",
    "    <student x=\"2\">\n",
    "        <id>002</id>\n",
    "        <name>Lee</name>\n",
    "    </student>\n",
    "</students>\n",
    "'''"
   ]
  },
  {
   "cell_type": "markdown",
   "id": "e3b01621",
   "metadata": {},
   "source": [
    "## XML정의"
   ]
  },
  {
   "cell_type": "code",
   "execution_count": 2,
   "id": "e2a3d556",
   "metadata": {},
   "outputs": [],
   "source": [
    "import lxml.etree\n",
    "root=lxml.etree.fromstring(input)"
   ]
  },
  {
   "cell_type": "code",
   "execution_count": 3,
   "id": "7e5e2bbd",
   "metadata": {},
   "outputs": [],
   "source": [
    "from io import StringIO\n",
    "tree=lxml.etree.parse(StringIO(input))\n",
    "root=tree.getroot()"
   ]
  },
  {
   "cell_type": "code",
   "execution_count": 4,
   "id": "7e2fff0c",
   "metadata": {},
   "outputs": [
    {
     "data": {
      "text/plain": [
       "'C:\\\\Users\\\\nicky\\\\Desktop\\\\3-2학기\\\\빅데이터분석'"
      ]
     },
     "execution_count": 4,
     "metadata": {},
     "output_type": "execute_result"
    }
   ],
   "source": [
    "import os\n",
    "os.getcwd()"
   ]
  },
  {
   "cell_type": "code",
   "execution_count": 6,
   "id": "0b98a09f",
   "metadata": {},
   "outputs": [
    {
     "name": "stdout",
     "output_type": "stream",
     "text": [
      "Writing src/ds_open_hello.xml\n"
     ]
    }
   ],
   "source": [
    "%%writefile src/ds_open_hello.xml\n",
    "<students>\n",
    "<student x=\"1\">\n",
    "    <id>001</id>\n",
    "    <name>Kim</name>\n",
    "</student>\n",
    "<student x=\"2\">\n",
    "    <id>002</id>\n",
    "    <name>Lee</name>\n",
    "</student>\n",
    "</students>"
   ]
  },
  {
   "cell_type": "code",
   "execution_count": 7,
   "id": "171537c1",
   "metadata": {},
   "outputs": [],
   "source": [
    "import os\n",
    "tree=lxml.etree.parse(os.path.join('src','ds_open_hello.xml'))"
   ]
  },
  {
   "cell_type": "code",
   "execution_count": 8,
   "id": "4601ab9b",
   "metadata": {},
   "outputs": [],
   "source": [
    "root=tree.getroot() #student"
   ]
  },
  {
   "cell_type": "code",
   "execution_count": 9,
   "id": "cf7f17be",
   "metadata": {},
   "outputs": [
    {
     "data": {
      "text/plain": [
       "str"
      ]
     },
     "execution_count": 9,
     "metadata": {},
     "output_type": "execute_result"
    }
   ],
   "source": [
    "type(root.tag)"
   ]
  },
  {
   "cell_type": "code",
   "execution_count": 10,
   "id": "e7805f2f",
   "metadata": {},
   "outputs": [
    {
     "name": "stdout",
     "output_type": "stream",
     "text": [
      "student\n",
      "student\n"
     ]
    }
   ],
   "source": [
    "for e in root:\n",
    "    print(e.tag)"
   ]
  },
  {
   "cell_type": "code",
   "execution_count": 14,
   "id": "c33cf716",
   "metadata": {},
   "outputs": [
    {
     "name": "stdout",
     "output_type": "stream",
     "text": [
      "[<Element student at 0x21dc151aac0>, <Element student at 0x21dc151a680>]\n"
     ]
    },
    {
     "data": {
      "text/plain": [
       "list"
      ]
     },
     "execution_count": 14,
     "metadata": {},
     "output_type": "execute_result"
    }
   ],
   "source": [
    "print(root.getchildren()) #주소값\n",
    "type(root.getchildren())"
   ]
  },
  {
   "cell_type": "markdown",
   "id": "14188460",
   "metadata": {},
   "source": [
    "* 리스트형으로 index로 접근\n"
   ]
  },
  {
   "cell_type": "code",
   "execution_count": 15,
   "id": "b165d8e8",
   "metadata": {},
   "outputs": [
    {
     "data": {
      "text/plain": [
       "<Element student at 0x21dc151a680>"
      ]
     },
     "execution_count": 15,
     "metadata": {},
     "output_type": "execute_result"
    }
   ],
   "source": [
    "root.getchildren()[1] #두번째 자식 주소 가져옴"
   ]
  },
  {
   "cell_type": "code",
   "execution_count": 16,
   "id": "80abafea",
   "metadata": {},
   "outputs": [
    {
     "name": "stdout",
     "output_type": "stream",
     "text": [
      "id => 001\n",
      "name => Kim\n",
      "id => 002\n",
      "name => Lee\n"
     ]
    }
   ],
   "source": [
    "for ee in root.getchildren():    # 하위 요소를 읽음\n",
    "    for e in ee.getchildren():   # 하위의 하위 요소를 읽음\n",
    "        if not e.text:\n",
    "            text = \"None\"\n",
    "        else:\n",
    "            text = e.text\n",
    "        print(e.tag + \" => \" + text)"
   ]
  },
  {
   "cell_type": "code",
   "execution_count": 17,
   "id": "dc46ccd1",
   "metadata": {},
   "outputs": [
    {
     "name": "stdout",
     "output_type": "stream",
     "text": [
      "TAG: students \tATTRIB: {} \t\t TEXT: \n",
      "\n",
      "TAG: student \tATTRIB: {'x': '1'} \t\t TEXT: \n",
      "    \n",
      "TAG: id \tATTRIB: {} \t\t TEXT: 001\n",
      "TAG: name \tATTRIB: {} \t\t TEXT: Kim\n",
      "TAG: student \tATTRIB: {'x': '2'} \t\t TEXT: \n",
      "    \n",
      "TAG: id \tATTRIB: {} \t\t TEXT: 002\n",
      "TAG: name \tATTRIB: {} \t\t TEXT: Lee\n"
     ]
    }
   ],
   "source": [
    "for node in root.getiterator():\n",
    "    #print('TAG: {0:10s} ATTRIB: {1:10s}'.format(node.tag, node.attrib))\n",
    "    print('TAG: {0} \\tATTRIB: {1} \\t\\t TEXT: {2}'.format(node.tag, node.attrib, node.text))"
   ]
  },
  {
   "cell_type": "code",
   "execution_count": 18,
   "id": "6e30164e",
   "metadata": {},
   "outputs": [],
   "source": [
    "std=root.find('student')"
   ]
  },
  {
   "cell_type": "code",
   "execution_count": 19,
   "id": "5eb11516",
   "metadata": {},
   "outputs": [
    {
     "name": "stdout",
     "output_type": "stream",
     "text": [
      "001\n",
      "Kim\n"
     ]
    }
   ],
   "source": [
    "\n",
    "for node in std:\n",
    "    print (node.text)"
   ]
  },
  {
   "cell_type": "code",
   "execution_count": 21,
   "id": "7a4ff6a0",
   "metadata": {},
   "outputs": [
    {
     "name": "stdout",
     "output_type": "stream",
     "text": [
      "{'x': '1'}\n",
      "student\n"
     ]
    }
   ],
   "source": [
    "print (std.attrib)\n",
    "print(std.tag)"
   ]
  },
  {
   "cell_type": "code",
   "execution_count": 23,
   "id": "091ab294",
   "metadata": {},
   "outputs": [
    {
     "name": "stdout",
     "output_type": "stream",
     "text": [
      "001\n",
      "Kim\n",
      "002\n",
      "Lee\n"
     ]
    }
   ],
   "source": [
    "stds=root.findall('student')\n",
    "for node in stds:\n",
    "    for item in node:\n",
    "        print (item.text)"
   ]
  },
  {
   "cell_type": "markdown",
   "id": "c0f73554",
   "metadata": {},
   "source": [
    "* getiterator()를 사용하여, 태그를 하나씩 접근해, tag, text, attribute를 출력한다."
   ]
  },
  {
   "cell_type": "code",
   "execution_count": 24,
   "id": "7a06244d",
   "metadata": {},
   "outputs": [
    {
     "name": "stdout",
     "output_type": "stream",
     "text": [
      "TAG: students \tATTRIB: {} \t\t TEXT: \n",
      "\n",
      "TAG: student \tATTRIB: {'x': '1'} \t\t TEXT: \n",
      "    \n",
      "TAG: id \tATTRIB: {} \t\t TEXT: 001\n",
      "TAG: name \tATTRIB: {} \t\t TEXT: Kim\n",
      "TAG: student \tATTRIB: {'x': '2'} \t\t TEXT: \n",
      "    \n",
      "TAG: id \tATTRIB: {} \t\t TEXT: 002\n",
      "TAG: name \tATTRIB: {} \t\t TEXT: Lee\n"
     ]
    }
   ],
   "source": [
    "for node in root.getiterator():\n",
    "    #print('TAG: {0:10s} ATTRIB: {1:10s}'.format(node.tag, node.attrib))\n",
    "    print('TAG: {0} \\tATTRIB: {1} \\t\\t TEXT: {2}'.format(node.tag, node.attrib, node.text))"
   ]
  },
  {
   "cell_type": "code",
   "execution_count": 26,
   "id": "67e847e8",
   "metadata": {},
   "outputs": [],
   "source": [
    "input = '''[\n",
    "    { \"id\" : \"001\", \"x\" : \"2\", \"name\" : \"Chuck\"},\n",
    "    { \"id\" : \"009\",\"x\" : \"7\",\"name\" : \"Brent\" }\n",
    "]'''"
   ]
  },
  {
   "cell_type": "code",
   "execution_count": 27,
   "id": "37476d6c",
   "metadata": {},
   "outputs": [],
   "source": [
    "import json\n",
    "\n",
    "info = json.loads(input)"
   ]
  },
  {
   "cell_type": "code",
   "execution_count": 30,
   "id": "5883b8f4",
   "metadata": {},
   "outputs": [
    {
     "name": "stdout",
     "output_type": "stream",
     "text": [
      "User count:2\n",
      "id: 001 \tname: Chuck\n",
      "id: 009 \tname: Brent\n"
     ]
    }
   ],
   "source": [
    "print('User count:{}'.format(len(info)))\n",
    "for item in info:\n",
    "    print (\"id: {} \\tname: {}\".format(item['id'], item['name']))"
   ]
  },
  {
   "cell_type": "code",
   "execution_count": null,
   "id": "88634239",
   "metadata": {},
   "outputs": [],
   "source": []
  }
 ],
 "metadata": {
  "kernelspec": {
   "display_name": "bigdata",
   "language": "python",
   "name": "bigdata"
  },
  "language_info": {
   "codemirror_mode": {
    "name": "ipython",
    "version": 3
   },
   "file_extension": ".py",
   "mimetype": "text/x-python",
   "name": "python",
   "nbconvert_exporter": "python",
   "pygments_lexer": "ipython3",
   "version": "3.8.8"
  }
 },
 "nbformat": 4,
 "nbformat_minor": 5
}

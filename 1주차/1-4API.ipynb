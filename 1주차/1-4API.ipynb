{
 "cells": [
  {
   "cell_type": "code",
   "execution_count": 8,
   "id": "1d0e1e9f",
   "metadata": {},
   "outputs": [
    {
     "name": "stdout",
     "output_type": "stream",
     "text": [
      "%23q=%ED%95%9C%EA%B8%80\n",
      "%23q=%ED%95%9C%EA%B8%80\n"
     ]
    }
   ],
   "source": [
    "import urllib\n",
    "\n",
    "print (urllib.parse.urlencode({'#q':'한글'}))\n",
    "print (urllib.parse.urlencode({'#q':u'한글'.encode('utf-8')}))"
   ]
  },
  {
   "cell_type": "code",
   "execution_count": 2,
   "id": "4f5be38d",
   "metadata": {},
   "outputs": [
    {
     "name": "stdout",
     "output_type": "stream",
     "text": [
      "key=%253D\n"
     ]
    }
   ],
   "source": [
    "import urllib\n",
    "\n",
    "params=urllib.parse.urlencode({'key':'%3D'})\n",
    "print (params)"
   ]
  },
  {
   "cell_type": "code",
   "execution_count": 3,
   "id": "367e3b80",
   "metadata": {},
   "outputs": [
    {
     "name": "stdout",
     "output_type": "stream",
     "text": [
      "Writing src/mylib.py\n"
     ]
    }
   ],
   "source": [
    "%%writefile src/mylib.py\n",
    "def sayHello():\n",
    "    print(\"hello\")\n",
    "\n",
    "def getKey(keyPath):\n",
    "    d=dict()\n",
    "    f=open(keyPath,'r')\n",
    "    for line in f.readlines():\n",
    "        row=line.split('=')\n",
    "        row0=row[0]\n",
    "        d[row0]=row[1].strip()\n",
    "    return d\n"
   ]
  },
  {
   "cell_type": "code",
   "execution_count": 4,
   "id": "4bc97407",
   "metadata": {},
   "outputs": [
    {
     "name": "stdout",
     "output_type": "stream",
     "text": [
      "hello\n",
      "None\n"
     ]
    }
   ],
   "source": [
    "import src.mylib\n",
    "\n",
    "print (src.mylib.sayHello())"
   ]
  },
  {
   "cell_type": "code",
   "execution_count": 13,
   "id": "399b4d62",
   "metadata": {},
   "outputs": [],
   "source": [
    "import os\n",
    "import src.mylib\n",
    "\n",
    "keyPath=os.path.join(os.getcwd(), 'src', 'kettt.txt')\n",
    "key=src.mylib.getKey(keyPath)"
   ]
  },
  {
   "cell_type": "code",
   "execution_count": 14,
   "id": "b3af9fea",
   "metadata": {},
   "outputs": [
    {
     "name": "stdout",
     "output_type": "stream",
     "text": [
      "73725...\n"
     ]
    }
   ],
   "source": [
    "print (key['dataseoul'])"
   ]
  },
  {
   "cell_type": "code",
   "execution_count": 15,
   "id": "8f3dcdc2",
   "metadata": {},
   "outputs": [
    {
     "name": "stdout",
     "output_type": "stream",
     "text": [
      "8Bx4C1%2B...\n"
     ]
    }
   ],
   "source": [
    "print (key['gokr'])"
   ]
  }
 ],
 "metadata": {
  "kernelspec": {
   "display_name": "bigdata",
   "language": "python",
   "name": "bigdata"
  },
  "language_info": {
   "codemirror_mode": {
    "name": "ipython",
    "version": 3
   },
   "file_extension": ".py",
   "mimetype": "text/x-python",
   "name": "python",
   "nbconvert_exporter": "python",
   "pygments_lexer": "ipython3",
   "version": "3.8.8"
  }
 },
 "nbformat": 4,
 "nbformat_minor": 5
}

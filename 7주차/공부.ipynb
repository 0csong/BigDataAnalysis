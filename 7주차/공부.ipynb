{
 "cells": [
  {
   "cell_type": "code",
   "execution_count": 1,
   "id": "60364109",
   "metadata": {},
   "outputs": [],
   "source": [
    "from pyspark.context import SparkContext\n",
    "from pyspark.sql.session import SparkSession\n",
    "sc = SparkContext('local')\n",
    "spark = SparkSession(sc)"
   ]
  },
  {
   "cell_type": "code",
   "execution_count": 2,
   "id": "1ad66ecc",
   "metadata": {},
   "outputs": [],
   "source": [
    "_subway = spark.read.format('com.databricks.spark.csv')\\\n",
    "    .options(header='true', inferschema='true').load('data/CARD_SUBWAY_MONTH_202008.csv')"
   ]
  },
  {
   "cell_type": "code",
   "execution_count": 3,
   "id": "f763fbca",
   "metadata": {},
   "outputs": [
    {
     "name": "stdout",
     "output_type": "stream",
     "text": [
      "root\n",
      " |-- 사용일자: integer (nullable = true)\n",
      " |-- 노선명: string (nullable = true)\n",
      " |-- 역명: string (nullable = true)\n",
      " |-- 승차총승객수: integer (nullable = true)\n",
      " |-- 하차총승객수: integer (nullable = true)\n",
      " |-- 등록일자: integer (nullable = true)\n",
      "\n"
     ]
    }
   ],
   "source": [
    "_subway.printSchema()"
   ]
  },
  {
   "cell_type": "code",
   "execution_count": 4,
   "id": "99bcb7b9",
   "metadata": {},
   "outputs": [
    {
     "name": "stdout",
     "output_type": "stream",
     "text": [
      "+--------+------+-----------------------+------------+------------+--------+\n",
      "|사용일자|노선명|                   역명|승차총승객수|하차총승객수|등록일자|\n",
      "+--------+------+-----------------------+------------+------------+--------+\n",
      "|20200801|중앙선|                   오빈|         249|         239|20200804|\n",
      "|20200801|중앙선|                   아신|         467|         595|20200804|\n",
      "|20200801|중앙선|                   국수|         520|         598|20200804|\n",
      "|20200801| 2호선|                 한양대|        3244|        3022|20200804|\n",
      "|20200801| 2호선|       왕십리(성동구청)|       11110|        9769|20200804|\n",
      "|20200801| 2호선|               상왕십리|        8110|        7289|20200804|\n",
      "|20200801| 2호선|                   신당|        8703|        8731|20200804|\n",
      "|20200801| 2호선|동대문역사문화공원(DDP)|        8183|        8474|20200804|\n",
      "|20200801| 2호선|              을지로4가|        5103|        5207|20200804|\n",
      "|20200801| 2호선|              을지로3가|        7714|        7826|20200804|\n",
      "+--------+------+-----------------------+------------+------------+--------+\n",
      "only showing top 10 rows\n",
      "\n"
     ]
    }
   ],
   "source": [
    "_subway.show(10)"
   ]
  },
  {
   "cell_type": "code",
   "execution_count": 31,
   "id": "3e01952f",
   "metadata": {},
   "outputs": [],
   "source": [
    "subway=_subway\\\n",
    "    .withColumnRenamed(\"사용일자\", \"dataUse\")\\\n",
    "    .withColumnRenamed(\"노선명\", \"line\")\\\n",
    "    .withColumnRenamed(\"역ID\", \"stationID\")\\\n",
    "    .withColumnRenamed(\"역명\", \"station\")\\\n",
    "    .withColumnRenamed(\"승차총승객수\", \"NInPassengers\")\\\n",
    "    .withColumnRenamed(\"하차총승객수\", \"NOutPassengers\")\\\n",
    "    .withColumnRenamed(\"등록일자\", \"dateRegi\")"
   ]
  },
  {
   "cell_type": "code",
   "execution_count": 6,
   "id": "8f067f11",
   "metadata": {},
   "outputs": [
    {
     "name": "stdout",
     "output_type": "stream",
     "text": [
      "root\n",
      " |-- dataUse: integer (nullable = true)\n",
      " |-- line: string (nullable = true)\n",
      " |-- station: string (nullable = true)\n",
      " |-- NInPassengers: integer (nullable = true)\n",
      " |-- NOutPassengers: integer (nullable = true)\n",
      " |-- dateRegi: integer (nullable = true)\n",
      "\n"
     ]
    }
   ],
   "source": [
    "\n",
    "subway.printSchema()"
   ]
  },
  {
   "cell_type": "code",
   "execution_count": 7,
   "id": "981585d2",
   "metadata": {},
   "outputs": [],
   "source": [
    "import pyspark.sql.functions as F\n",
    "from pyspark.sql.types import IntegerType\n",
    "sum_columns = F.udf(lambda x,y: x+y,IntegerType())"
   ]
  },
  {
   "cell_type": "code",
   "execution_count": 8,
   "id": "b7d54617",
   "metadata": {},
   "outputs": [],
   "source": [
    "subway=subway.withColumn(\"total\",sum_columns(\"NInPassengers\",\"NOutPassengers\"))"
   ]
  },
  {
   "cell_type": "code",
   "execution_count": 9,
   "id": "b2a4a4e3",
   "metadata": {},
   "outputs": [
    {
     "name": "stdout",
     "output_type": "stream",
     "text": [
      "root\n",
      " |-- dataUse: integer (nullable = true)\n",
      " |-- line: string (nullable = true)\n",
      " |-- station: string (nullable = true)\n",
      " |-- NInPassengers: integer (nullable = true)\n",
      " |-- NOutPassengers: integer (nullable = true)\n",
      " |-- dateRegi: integer (nullable = true)\n",
      " |-- total: integer (nullable = true)\n",
      "\n"
     ]
    }
   ],
   "source": [
    "subway.printSchema()"
   ]
  },
  {
   "cell_type": "code",
   "execution_count": 10,
   "id": "01fd7076",
   "metadata": {},
   "outputs": [],
   "source": [
    "from pyspark.sql.window import Window\n",
    "win = Window.partitionBy(\"line\").orderBy(F.col(\"total\").desc()) # line기준 SumInOut 많은것부터 count,.desc()는 내림차순"
   ]
  },
  {
   "cell_type": "code",
   "execution_count": 23,
   "id": "f36bf4cb",
   "metadata": {},
   "outputs": [
    {
     "name": "stdout",
     "output_type": "stream",
     "text": [
      "+--------+--------------+--------------------+-------------+--------------+--------+------+----------+---------+----+\n",
      "| dataUse|          line|             station|NInPassengers|NOutPassengers|dateRegi| total|      date|      Day|rank|\n",
      "+--------+--------------+--------------------+-------------+--------------+--------+------+----------+---------+----+\n",
      "|20200807|        일산선|                화정|        17591|         17916|20200810| 35507|2020-08-07|   Friday|   1|\n",
      "|20200814|        장항선|            온양온천|         4528|          4534|20200817|  9062|2020-08-14|   Friday|   1|\n",
      "|20200807|        경부선|              영등포|        43168|         46982|20200810| 90150|2020-08-07|   Friday|   1|\n",
      "|20200807|    우이신설선|        북한산보국문|         5767|          5036|20200810| 10803|2020-08-07|   Friday|   1|\n",
      "|20200812|        분당선|                야탑|        26098|         27415|20200815| 53513|2020-08-12|Wednesday|   1|\n",
      "|20200812|         7호선|      가산디지털단지|        46117|         46836|20200815| 92953|2020-08-12|Wednesday|   1|\n",
      "|20200807|        수인선|            인천논현|         5555|          5751|20200810| 11306|2020-08-07|   Friday|   1|\n",
      "|20200812|        안산선|              상록수|        17961|         17605|20200815| 35566|2020-08-12|Wednesday|   1|\n",
      "|20200807|         4호선|      수유(강북구청)|        35229|         35040|20200810| 70269|2020-08-07|   Friday|   1|\n",
      "|20200807|         1호선|              서울역|        48690|         47346|20200810| 96036|2020-08-07|   Friday|   1|\n",
      "|20200813|        경의선|                일산|         9812|          9629|20200816| 19441|2020-08-13| Thursday|   1|\n",
      "|20200814|         3호선|          고속터미널|        49312|         57842|20200817|107154|2020-08-14|   Friday|   1|\n",
      "|20200807|        경강선|            경기광주|         7059|          6545|20200810| 13604|2020-08-07|   Friday|   1|\n",
      "|20200807|        경춘선|            평내호평|         5904|          5788|20200810| 11692|2020-08-07|   Friday|   1|\n",
      "|20200807|         9호선|              신논현|        35701|         38782|20200810| 74483|2020-08-07|   Friday|   1|\n",
      "|20200807|         6호선|                공덕|        19817|         19484|20200810| 39301|2020-08-07|   Friday|   1|\n",
      "|20200815|         5호선|광화문(세종문화회관)|        39181|         39792|20200818| 78973|2020-08-15| Saturday|   1|\n",
      "|20200810|         8호선|                문정|        21546|         22525|20200813| 44071|2020-08-10|   Monday|   1|\n",
      "|20200807|        과천선|                범계|        26478|         26718|20200810| 53196|2020-08-07|   Friday|   1|\n",
      "|20200807|        경인선|                부천|        33761|         34519|20200810| 68280|2020-08-07|   Friday|   1|\n",
      "|20200807|        중앙선|                회기|        24548|         23474|20200810| 48022|2020-08-07|   Friday|   1|\n",
      "|20200814|  9호선2~3단계|              봉은사|        19184|         19435|20200817| 38619|2020-08-14|   Friday|   1|\n",
      "|20200807|         2호선|                강남|        98692|        104043|20200810|202735|2020-08-07|   Friday|   1|\n",
      "|20200811|공항철도 1호선|    디지털미디어시티|        14311|         13310|20200814| 27621|2020-08-11|  Tuesday|   1|\n",
      "|20200807|        경원선|              의정부|        18455|         20025|20200810| 38480|2020-08-07|   Friday|   1|\n",
      "+--------+--------------+--------------------+-------------+--------------+--------+------+----------+---------+----+\n",
      "\n"
     ]
    }
   ],
   "source": [
    "from pyspark.sql.functions import row_number\n",
    "from pyspark.sql.functions import rank\n",
    "subway_rank=subway.withColumn(\"rank\", row_number().over(win))\n",
    "subway_rank.filter(subway_rank.rank==1).show(26)"
   ]
  },
  {
   "cell_type": "code",
   "execution_count": 12,
   "id": "6b40f49c",
   "metadata": {},
   "outputs": [],
   "source": [
    "toDate = F.udf(lambda x: str(x)[0:4]+'-'+str(x)[4:6]+'-'+str(x)[6:])"
   ]
  },
  {
   "cell_type": "code",
   "execution_count": 13,
   "id": "0b85b884",
   "metadata": {},
   "outputs": [],
   "source": [
    "subway=subway.withColumn(\"date\",toDate(subway.dataUse))"
   ]
  },
  {
   "cell_type": "code",
   "execution_count": 14,
   "id": "23804322",
   "metadata": {},
   "outputs": [],
   "source": [
    "subway=subway.withColumn(\"Day\",F.dayofweek(\"date\")) # 1: 일요일, 2: 월요일... 7:토요일"
   ]
  },
  {
   "cell_type": "code",
   "execution_count": 15,
   "id": "8854027f",
   "metadata": {},
   "outputs": [],
   "source": [
    "from pyspark.sql.types import StringType\n",
    "def dateToStr(x):\n",
    "    q=\"\"\n",
    "    if x==1:\n",
    "        q=\"Sunday\"\n",
    "    elif x==2:\n",
    "        q=\"Monday\"\n",
    "    elif x==3:\n",
    "        q=\"Tuesday\"\n",
    "    elif x==4:\n",
    "        q=\"Wednesday\"\n",
    "    elif x==5:\n",
    "        q=\"Thursday\"\n",
    "    elif x==6:\n",
    "        q=\"Friday\"\n",
    "    elif x==7:\n",
    "        q=\"Saturday\"\n",
    "    else:\n",
    "        q=\"error!\"\n",
    "    return q"
   ]
  },
  {
   "cell_type": "code",
   "execution_count": 16,
   "id": "dd09a73d",
   "metadata": {},
   "outputs": [],
   "source": [
    "dateToStr_udf=F.udf(dateToStr,StringType())"
   ]
  },
  {
   "cell_type": "code",
   "execution_count": 17,
   "id": "beeb8eae",
   "metadata": {},
   "outputs": [],
   "source": [
    "\n",
    "# 숫자로 되어있던 요일을 String으로\n",
    "subway=subway.withColumn(\"Day\",dateToStr_udf('Day'))"
   ]
  },
  {
   "cell_type": "code",
   "execution_count": 21,
   "id": "e8f0b941",
   "metadata": {},
   "outputs": [],
   "source": [
    "dayCount=subway.groupby('line').pivot('Day').agg({\"total\":\"sum\"})"
   ]
  },
  {
   "cell_type": "code",
   "execution_count": 22,
   "id": "ba749b2e",
   "metadata": {},
   "outputs": [
    {
     "name": "stdout",
     "output_type": "stream",
     "text": [
      "+--------------+--------+--------+--------+-------+--------+--------+---------+\n",
      "|          line|  Friday|  Monday|Saturday| Sunday|Thursday| Tuesday|Wednesday|\n",
      "+--------------+--------+--------+--------+-------+--------+--------+---------+\n",
      "|        일산선|  738944|  807345|  561959| 392381|  717131|  735412|   733889|\n",
      "|        장항선|   84187|   91065|   78907|  68037|   72019|   77146|    76949|\n",
      "|        경부선| 3099082| 3330164| 2573749|1963225| 2877890| 2927549|  2934851|\n",
      "|    우이신설선|  289007|  326212|  232855| 176868|  284225|  291323|   294205|\n",
      "|        분당선| 2594521| 2751372| 1857203|1245970| 2464308| 2542687|  2532730|\n",
      "|         7호선| 4978092| 5484297| 3424446|2354267| 4891009| 4975629|  4964896|\n",
      "|        수인선|  291246|  319792|  232872| 167942|  278856|  283623|   286097|\n",
      "|        안산선|  812413|  905466|  676656| 498383|  773801|  801668|   796552|\n",
      "|         4호선| 3477064| 3719651| 2624746|1775413| 3386256| 3401055|  3406441|\n",
      "|         1호선| 1618805| 1739011| 1272247| 814265| 1554120| 1573564|  1554262|\n",
      "|        경의선|  721643|  784221|  516058| 372857|  696063|  710348|   702634|\n",
      "|         3호선| 3738791| 3957327| 2751918|1812205| 3582653| 3638156|  3613673|\n",
      "|        경강선|  193925|  203452|  154194| 116916|  177802|  179353|   183775|\n",
      "|        경춘선|  255357|  291576|  230952| 185217|  242812|  248276|   248263|\n",
      "|         9호선| 2036508| 2126800| 1338946| 934652| 1965176| 1971316|  1951697|\n",
      "|         6호선| 2284098| 2473920| 1700510|1197699| 2236616| 2257821|  2263564|\n",
      "|         5호선| 4335814| 4709284| 2940421|1963172| 4274610| 4340176|  4325900|\n",
      "|         8호선| 1337891| 1464884|  950656| 668791| 1296954| 1329056|  1328924|\n",
      "|        과천선|  679088|  724017|  451593| 306299|  658358|  669923|   675080|\n",
      "|        경인선| 2025994| 2236972| 1691480|1180629| 1939069| 1981542|  1988438|\n",
      "|        중앙선|  628005|  702117|  538312| 403541|  602149|  614813|   608650|\n",
      "|  9호선2~3단계|  664252|  701231|  443269| 305653|  645619|  652084|   654574|\n",
      "|         2호선|10135008|10762724| 7137275|4780422| 9867446|10015223| 10014123|\n",
      "|공항철도 1호선|  652408|  695928|  493853| 405606|  624773|  629508|   616531|\n",
      "|        경원선| 1362777| 1495589| 1193857| 890288| 1292129| 1315704|  1279581|\n",
      "+--------------+--------+--------+--------+-------+--------+--------+---------+\n",
      "\n"
     ]
    }
   ],
   "source": [
    "dayCount.show(25)"
   ]
  },
  {
   "cell_type": "code",
   "execution_count": null,
   "id": "fde46900",
   "metadata": {},
   "outputs": [],
   "source": []
  }
 ],
 "metadata": {
  "kernelspec": {
   "display_name": "bigdata",
   "language": "python",
   "name": "bigdata"
  },
  "language_info": {
   "codemirror_mode": {
    "name": "ipython",
    "version": 3
   },
   "file_extension": ".py",
   "mimetype": "text/x-python",
   "name": "python",
   "nbconvert_exporter": "python",
   "pygments_lexer": "ipython3",
   "version": "3.8.8"
  }
 },
 "nbformat": 4,
 "nbformat_minor": 5
}

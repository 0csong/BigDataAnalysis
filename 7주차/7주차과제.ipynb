{
 "cells": [
  {
   "cell_type": "code",
   "execution_count": 1,
   "id": "ed583f4d",
   "metadata": {},
   "outputs": [],
   "source": [
    "from pyspark.context import SparkContext\n",
    "from pyspark.sql.session import SparkSession\n",
    "sc = SparkContext('local')\n",
    "spark = SparkSession(sc)"
   ]
  },
  {
   "cell_type": "code",
   "execution_count": 2,
   "id": "74120528",
   "metadata": {},
   "outputs": [],
   "source": [
    "marks=[\n",
    "    \"김하나, English, 100\",\n",
    "    \"김하나, Math, 80\",\n",
    "    \"임하나, English, 70\",\n",
    "    \"임하나, Math, 100\",\n",
    "    \"김갑돌, English, 82.3\",\n",
    "    \"김갑돌, Math, 98.5\"\n",
    "]"
   ]
  },
  {
   "cell_type": "markdown",
   "id": "c56f7527",
   "metadata": {},
   "source": [
    "## 1-1 성적데이터로 DataFrame을 생성."
   ]
  },
  {
   "cell_type": "code",
   "execution_count": 5,
   "id": "02b78d1d",
   "metadata": {},
   "outputs": [],
   "source": [
    "_marksRdd=spark.sparkContext.parallelize(marks).map(lambda x:x.split(','))"
   ]
  },
  {
   "cell_type": "code",
   "execution_count": 6,
   "id": "d2e1226f",
   "metadata": {},
   "outputs": [
    {
     "data": {
      "text/plain": [
       "[['김하나', ' English', ' 100'],\n",
       " ['김하나', ' Math', ' 80'],\n",
       " ['임하나', ' English', ' 70']]"
      ]
     },
     "execution_count": 6,
     "metadata": {},
     "output_type": "execute_result"
    }
   ],
   "source": [
    "_marksRdd.take(3)"
   ]
  },
  {
   "cell_type": "code",
   "execution_count": 9,
   "id": "6827043c",
   "metadata": {},
   "outputs": [],
   "source": [
    "_marksDf=spark.createDataFrame(_marksRdd, schema=[\"name\", \"subject\", \"score\"])"
   ]
  },
  {
   "cell_type": "code",
   "execution_count": 10,
   "id": "16622ad1",
   "metadata": {},
   "outputs": [
    {
     "name": "stdout",
     "output_type": "stream",
     "text": [
      "root\n",
      " |-- name: string (nullable = true)\n",
      " |-- subject: string (nullable = true)\n",
      " |-- score: string (nullable = true)\n",
      "\n"
     ]
    }
   ],
   "source": [
    "_marksDf.printSchema()"
   ]
  },
  {
   "cell_type": "code",
   "execution_count": 17,
   "id": "e65cf50d",
   "metadata": {},
   "outputs": [],
   "source": [
    "from pyspark.sql.types import FloatType\n",
    "\n",
    "_marksDf = _marksDf.withColumn('scoref', _marksDf['score'].cast(FloatType()))"
   ]
  },
  {
   "cell_type": "code",
   "execution_count": 18,
   "id": "ea65eb72",
   "metadata": {},
   "outputs": [
    {
     "name": "stdout",
     "output_type": "stream",
     "text": [
      "+------+--------+-----+------+\n",
      "|  name| subject|score|scoref|\n",
      "+------+--------+-----+------+\n",
      "|김하나| English|  100| 100.0|\n",
      "|김하나|    Math|   80|  80.0|\n",
      "|임하나| English|   70|  70.0|\n",
      "|임하나|    Math|  100| 100.0|\n",
      "|김갑돌| English| 82.3|  82.3|\n",
      "|김갑돌|    Math| 98.5|  98.5|\n",
      "+------+--------+-----+------+\n",
      "\n"
     ]
    }
   ],
   "source": [
    "_marksDf.show()"
   ]
  },
  {
   "cell_type": "code",
   "execution_count": 19,
   "id": "95b00dca",
   "metadata": {},
   "outputs": [
    {
     "name": "stdout",
     "output_type": "stream",
     "text": [
      "root\n",
      " |-- name: string (nullable = true)\n",
      " |-- subject: string (nullable = true)\n",
      " |-- score: string (nullable = true)\n",
      " |-- scoref: float (nullable = true)\n",
      "\n"
     ]
    }
   ],
   "source": [
    "_marksDf.printSchema()"
   ]
  },
  {
   "cell_type": "markdown",
   "id": "d6472393",
   "metadata": {},
   "source": [
    "## 1-2 zscore 컬럼을 생성."
   ]
  },
  {
   "cell_type": "code",
   "execution_count": 27,
   "id": "cb34ca9a",
   "metadata": {},
   "outputs": [],
   "source": [
    "_s=_marksDf.rdd.map(lambda x:x[3]).collect()"
   ]
  },
  {
   "cell_type": "code",
   "execution_count": 28,
   "id": "c9cfa6c6",
   "metadata": {},
   "outputs": [
    {
     "data": {
      "text/plain": [
       "[100.0, 80.0, 70.0, 100.0, 82.30000305175781, 98.5]"
      ]
     },
     "execution_count": 28,
     "metadata": {},
     "output_type": "execute_result"
    }
   ],
   "source": [
    "_s"
   ]
  },
  {
   "cell_type": "code",
   "execution_count": 29,
   "id": "e9a74bad",
   "metadata": {},
   "outputs": [],
   "source": [
    "import numpy as np\n",
    "\n",
    "xbar=np.mean(_s)\n",
    "sigmax=np.std(_s) #ddof=0\n",
    "sx=np.std(_s,ddof=1) #1이 기본 defalut"
   ]
  },
  {
   "cell_type": "code",
   "execution_count": 36,
   "id": "6da92b0e",
   "metadata": {},
   "outputs": [],
   "source": [
    "#_zscore=_marksDf.withColumn('zscore',(_marksDf['scoref']-xbar)/sx)\n",
    "_marksDf=_marksDf.withColumn('zscore',(_marksDf['scoref']-xbar)/sx)"
   ]
  },
  {
   "cell_type": "code",
   "execution_count": 37,
   "id": "1c5fa1ce",
   "metadata": {},
   "outputs": [
    {
     "name": "stdout",
     "output_type": "stream",
     "text": [
      "+------+--------+-----+------+-------------------+\n",
      "|  name| subject|score|scoref|             zscore|\n",
      "+------+--------+-----+------+-------------------+\n",
      "|김하나| English|  100| 100.0|  0.902014804151829|\n",
      "|김하나|    Math|   80|  80.0| -0.662172786480269|\n",
      "|임하나| English|   70|  70.0| -1.444266581796318|\n",
      "|임하나|    Math|  100| 100.0|  0.902014804151829|\n",
      "|김갑돌| English| 82.3|  82.3|-0.4822909748814927|\n",
      "|김갑돌|    Math| 98.5|  98.5| 0.7847007348544217|\n",
      "+------+--------+-----+------+-------------------+\n",
      "\n"
     ]
    }
   ],
   "source": [
    "# _zscore.show() #이러면 marksDF가 바뀌는게 아닌 zscore 생성\n",
    "_marksDf.show()"
   ]
  },
  {
   "cell_type": "markdown",
   "id": "ffcb882b",
   "metadata": {},
   "source": [
    "## 1-3 cdf 컬럼을 생성"
   ]
  },
  {
   "cell_type": "code",
   "execution_count": 38,
   "id": "7a3a2bc4",
   "metadata": {},
   "outputs": [
    {
     "data": {
      "text/plain": [
       "0.5"
      ]
     },
     "execution_count": 38,
     "metadata": {},
     "output_type": "execute_result"
    }
   ],
   "source": [
    "from scipy.stats import norm\n",
    "norm.cdf(0, loc=0, scale=1)#요게 함수"
   ]
  },
  {
   "cell_type": "code",
   "execution_count": 40,
   "id": "31bb3567",
   "metadata": {},
   "outputs": [],
   "source": [
    "from pyspark.sql.functions import udf\n",
    "contocdf=udf(lambda x: float(norm.cdf(x)))"
   ]
  },
  {
   "cell_type": "code",
   "execution_count": 42,
   "id": "198c4261",
   "metadata": {},
   "outputs": [],
   "source": [
    "_marksDf=_marksDf.withColumn(\"cdf\", contocdf(_marksDf['zscore']))"
   ]
  },
  {
   "cell_type": "code",
   "execution_count": 43,
   "id": "166d0812",
   "metadata": {},
   "outputs": [
    {
     "name": "stdout",
     "output_type": "stream",
     "text": [
      "+------+--------+-----+------+-------------------+-------------------+\n",
      "|  name| subject|score|scoref|             zscore|                cdf|\n",
      "+------+--------+-----+------+-------------------+-------------------+\n",
      "|김하나| English|  100| 100.0|  0.902014804151829| 0.8164754981807292|\n",
      "|김하나|    Math|   80|  80.0| -0.662172786480269| 0.2539302463290559|\n",
      "|임하나| English|   70|  70.0| -1.444266581796318| 0.0743320011235712|\n",
      "|임하나|    Math|  100| 100.0|  0.902014804151829| 0.8164754981807292|\n",
      "|김갑돌| English| 82.3|  82.3|-0.4822909748814927|0.31479962882028223|\n",
      "|김갑돌|    Math| 98.5|  98.5| 0.7847007348544217| 0.7836854740814176|\n",
      "+------+--------+-----+------+-------------------+-------------------+\n",
      "\n"
     ]
    }
   ],
   "source": [
    "_marksDf.show()"
   ]
  },
  {
   "cell_type": "code",
   "execution_count": null,
   "id": "55105af3",
   "metadata": {},
   "outputs": [],
   "source": []
  },
  {
   "cell_type": "code",
   "execution_count": null,
   "id": "7a4b98ff",
   "metadata": {},
   "outputs": [],
   "source": []
  }
 ],
 "metadata": {
  "kernelspec": {
   "display_name": "bigdata",
   "language": "python",
   "name": "bigdata"
  },
  "language_info": {
   "codemirror_mode": {
    "name": "ipython",
    "version": 3
   },
   "file_extension": ".py",
   "mimetype": "text/x-python",
   "name": "python",
   "nbconvert_exporter": "python",
   "pygments_lexer": "ipython3",
   "version": "3.8.8"
  }
 },
 "nbformat": 4,
 "nbformat_minor": 5
}

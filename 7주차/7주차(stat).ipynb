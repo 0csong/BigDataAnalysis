{
 "cells": [
  {
   "cell_type": "code",
   "execution_count": 1,
   "id": "959be3ba",
   "metadata": {},
   "outputs": [],
   "source": [
    "data = \"\"\"30 14-11-2003\n",
    "10 15-03-2004\n",
    "12 04-12-2012\n",
    "33 09-05-2007\n",
    "44 16-08-2005\n",
    "55 25-07-2001\n",
    "76 31-12-2011\n",
    "87 25-06-2009\n",
    "118 16-02-2006\n",
    "119 10-02-2000\n",
    "145 03-05-2014\"\"\""
   ]
  },
  {
   "cell_type": "code",
   "execution_count": 2,
   "id": "689c4301",
   "metadata": {},
   "outputs": [],
   "source": [
    "import datetime\n",
    "\n",
    "yvalues = []\n",
    "xdates = []\n",
    "for line in data.split(\"\\n\"):\n",
    "    x, y = line.split()\n",
    "    yvalues.append(int(x))\n",
    "    xdates.append(datetime.datetime.strptime(y, \"%d-%m-%Y\").date())"
   ]
  },
  {
   "cell_type": "code",
   "execution_count": 12,
   "id": "15b49253",
   "metadata": {},
   "outputs": [
    {
     "data": {
      "text/plain": [
       "<Figure size 640x480 with 0 Axes>"
      ]
     },
     "metadata": {},
     "output_type": "display_data"
    },
    {
     "data": {
      "image/png": "[encoded data removed]",
      "text/plain": [
       "<Figure size 640x480 with 1 Axes>"
      ]
     },
     "metadata": {},
     "output_type": "display_data"
    }
   ],
   "source": [
    "import matplotlib.pyplot as plt\n",
    "\n",
    "fig = plt.figure()\n",
    "ax = plt.subplot(111)\n",
    "ax.bar(xdates, yvalues, width=30)\n",
    "plt.show()"
   ]
  },
  {
   "cell_type": "markdown",
   "id": "bf932611",
   "metadata": {},
   "source": [
    "## 정규분포\n"
   ]
  },
  {
   "cell_type": "code",
   "execution_count": 13,
   "id": "e56e4648",
   "metadata": {},
   "outputs": [],
   "source": [
    "import numpy as np\n",
    "x=np.random.randn(100)"
   ]
  },
  {
   "cell_type": "code",
   "execution_count": 14,
   "id": "b034e499",
   "metadata": {},
   "outputs": [
    {
     "name": "stdout",
     "output_type": "stream",
     "text": [
      "mean\t: 0.0392901122595306\n",
      "median\t: -0.06977879970273013\n"
     ]
    }
   ],
   "source": [
    "print (\"mean\\t: {}\".format(np.mean(x)))\n",
    "print (\"median\\t: {}\".format(np.median(x)))"
   ]
  },
  {
   "cell_type": "code",
   "execution_count": 15,
   "id": "26e84867",
   "metadata": {},
   "outputs": [
    {
     "name": "stdout",
     "output_type": "stream",
     "text": [
      "skewness\t: 0.4604268815158929\n"
     ]
    }
   ],
   "source": [
    "from scipy.stats import skew\n",
    "\n",
    "print (\"skewness\\t: {}\".format(skew(x)))#분포의 대칭성을 설명하는 지표"
   ]
  },
  {
   "cell_type": "code",
   "execution_count": 19,
   "id": "3ec7cf88",
   "metadata": {
    "scrolled": true
   },
   "outputs": [
    {
     "name": "stdout",
     "output_type": "stream",
     "text": [
      "kurtosis\t: 0.004896122417523685\n"
     ]
    }
   ],
   "source": [
    "from scipy.stats import kurtosis\n",
    "\n",
    "print (\"kurtosis\\t: {}\".format(kurtosis(x)))#뾰족한 정도"
   ]
  },
  {
   "cell_type": "code",
   "execution_count": 20,
   "id": "f6fede97",
   "metadata": {},
   "outputs": [],
   "source": [
    "\n",
    "import pyspark\n",
    "\n",
    "myConf=pyspark.SparkConf()\n",
    "spark = pyspark.sql.SparkSession.builder\\\n",
    "    .master(\"local\")\\\n",
    "    .appName(\"myApp\")\\\n",
    "    .config(conf=myConf)\\\n",
    "    .getOrCreate()"
   ]
  },
  {
   "cell_type": "code",
   "execution_count": 21,
   "id": "411b3e26",
   "metadata": {},
   "outputs": [],
   "source": [
    "import pandas as pd\n",
    "xPd=pd.DataFrame(x, columns=['x'], dtype=float)"
   ]
  },
  {
   "cell_type": "code",
   "execution_count": 22,
   "id": "d8725d42",
   "metadata": {},
   "outputs": [],
   "source": [
    "df=spark.createDataFrame(xPd)"
   ]
  },
  {
   "cell_type": "code",
   "execution_count": 23,
   "id": "029b0603",
   "metadata": {},
   "outputs": [
    {
     "name": "stdout",
     "output_type": "stream",
     "text": [
      "+------------------+--------------------+\n",
      "|       skewness(x)|         kurtosis(x)|\n",
      "+------------------+--------------------+\n",
      "|0.4604268815158927|0.004896122417524129|\n",
      "+------------------+--------------------+\n",
      "\n"
     ]
    }
   ],
   "source": [
    "from pyspark.sql import functions as f\n",
    "df.select(f.skewness(df['x']), f.kurtosis(df['x'])).show()"
   ]
  },
  {
   "cell_type": "code",
   "execution_count": 25,
   "id": "c7ff73c2",
   "metadata": {},
   "outputs": [
    {
     "name": "stdout",
     "output_type": "stream",
     "text": [
      "simple mean of x = 0.039\n"
     ]
    }
   ],
   "source": [
    "#평균\n",
    "X=x\n",
    "print (\"simple mean of x = {:.3f}\".format(float(sum(X))/len(X)))"
   ]
  },
  {
   "cell_type": "code",
   "execution_count": 26,
   "id": "44facdd8",
   "metadata": {},
   "outputs": [],
   "source": [
    "import numpy as np\n",
    "\n",
    "xbar=np.mean(X)"
   ]
  },
  {
   "cell_type": "code",
   "execution_count": 27,
   "id": "a6e04629",
   "metadata": {},
   "outputs": [
    {
     "name": "stdout",
     "output_type": "stream",
     "text": [
      "numpy mean of X = 0.039\n"
     ]
    }
   ],
   "source": [
    "print (\"numpy mean of X = {:.3f}\".format(xbar))"
   ]
  },
  {
   "cell_type": "markdown",
   "id": "64edb029",
   "metadata": {},
   "source": [
    "## 분산 계산식\n",
    "분산 variance나 표준편차 Standard Deviation은 평균으로부터 얼마나 멀리 떨어져 또는 흩어져 분포하는지 알려주는 값이다.\n",
    "\n",
    "분산은 평균에서 관측값을 뺀 차이값을 제곱하여 평균을 계산한다. 제곱을 하지 않고 차이값을 더하면 0이 나오므로 제곱을 한다.\n",
    "* 분산을 제곱근하면 표준편차가 된다.\n",
    "* 분산보다는 표준편차가 더 자주 사용된다.\n",
    "\n",
    "수식으로 분산을 계산을 해보자."
   ]
  },
  {
   "cell_type": "code",
   "execution_count": 29,
   "id": "e8f63dc3",
   "metadata": {},
   "outputs": [
    {
     "name": "stdout",
     "output_type": "stream",
     "text": [
      "0.9312614535231819\n"
     ]
    }
   ],
   "source": [
    "print(np.sqrt(sum( [ (x-xbar)**2 for x in X ] )/len(X))) # ddof=0"
   ]
  },
  {
   "cell_type": "markdown",
   "id": "5aa464e4",
   "metadata": {},
   "source": [
    "\n",
    "n-1 보정을 해주어서 분산을 계산하면 다음과 같이 미세하게 값이 증가한다. 이러한 보정은 샘플의 크기가 커지면 영향이 더욱 적어지게 된다.\n",
    "\n",
    "n-1 보정을 해주어야 하는 이유는 하나는 제외해도 되기 때문이다. 분산을 계산하려면 평균을 알아야 한다. 분산이란 평균에서 얼마나 떨어져 있는지 나타내는 값이기 때문이다. 모집단에서 5개의 수를 샘플링한다고 하자. 예를 들어 1, 5, 3, 4, 9이라고 하자. 표본의 평균을 알고 있다고 하자. 그러면 1, 5, 3, 4까지만 샘플링을 해도 평균이 4.4 (22/5)이니까 분산을 계산할 때 마지막 수는 필요하지 않아서 자유도에서 -1을 해주게 된다. 표본의 평균을 알고 있다면, 마지막 수는 변경될 필요없이 고정된다."
   ]
  },
  {
   "cell_type": "code",
   "execution_count": 32,
   "id": "f2622a67",
   "metadata": {},
   "outputs": [
    {
     "name": "stdout",
     "output_type": "stream",
     "text": [
      "0.935952976684057\n"
     ]
    }
   ],
   "source": [
    "print(np.sqrt(sum( [ (x-xbar)**2 for x in X ] )/(len(X)-1))) # ddof=1"
   ]
  },
  {
   "cell_type": "markdown",
   "id": "ab1b9b37",
   "metadata": {},
   "source": [
    "## zscore 계산식\n"
   ]
  },
  {
   "cell_type": "code",
   "execution_count": 33,
   "id": "a2d9d24a",
   "metadata": {},
   "outputs": [],
   "source": [
    "X=[10, 7, 12, 12, 9, 16, 12, 18, 8, 12, 14, 16]"
   ]
  },
  {
   "cell_type": "code",
   "execution_count": 35,
   "id": "51624916",
   "metadata": {},
   "outputs": [
    {
     "name": "stdout",
     "output_type": "stream",
     "text": [
      "-0.6410300618768864 -1.5286101475525755 -0.04931000475976033 -0.04931000475976033 -0.9368900904354495 1.1341301094744918 -0.04931000475976033 1.725850166591618 -1.2327501189940124 -0.04931000475976033 0.5424100523573657 1.1341301094744918 "
     ]
    }
   ],
   "source": [
    "import numpy as np\n",
    "\n",
    "xbar=np.mean(X)\n",
    "sigmax=np.std(X) #ddof=0\n",
    "sx=np.std(X,ddof=1)\n",
    "for x in X:\n",
    "   zscore=(x-xbar)/sx\n",
    "   print (zscore, end= ' ')"
   ]
  },
  {
   "cell_type": "code",
   "execution_count": 36,
   "id": "d7561f99",
   "metadata": {},
   "outputs": [],
   "source": [
    "from scipy import stats"
   ]
  },
  {
   "cell_type": "code",
   "execution_count": 37,
   "id": "811bf678",
   "metadata": {},
   "outputs": [
    {
     "data": {
      "text/plain": [
       "array([-0.66953406, -1.59658123, -0.05150262, -0.05150262, -0.97854978,\n",
       "        1.18456027, -0.05150262,  1.80259171, -1.28756551, -0.05150262,\n",
       "        0.56652882,  1.18456027])"
      ]
     },
     "execution_count": 37,
     "metadata": {},
     "output_type": "execute_result"
    }
   ],
   "source": [
    "stats.zscore(X)"
   ]
  },
  {
   "cell_type": "code",
   "execution_count": null,
   "id": "6ef5a723",
   "metadata": {},
   "outputs": [],
   "source": []
  }
 ],
 "metadata": {
  "kernelspec": {
   "display_name": "bigdata",
   "language": "python",
   "name": "bigdata"
  },
  "language_info": {
   "codemirror_mode": {
    "name": "ipython",
    "version": 3
   },
   "file_extension": ".py",
   "mimetype": "text/x-python",
   "name": "python",
   "nbconvert_exporter": "python",
   "pygments_lexer": "ipython3",
   "version": "3.8.8"
  }
 },
 "nbformat": 4,
 "nbformat_minor": 5
}

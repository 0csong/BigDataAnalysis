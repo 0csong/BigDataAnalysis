{
  "nbformat": 4,
  "nbformat_minor": 0,
  "metadata": {
    "colab": {
      "name": "11주차과제.ipynb",
      "provenance": [],
      "collapsed_sections": []
    },
    "kernelspec": {
      "name": "python3",
      "display_name": "Python 3"
    },
    "language_info": {
      "name": "python"
    }
  },
  "cells": [
    {
      "cell_type": "markdown",
      "metadata": {
        "id": "E1cfv3Sm5uvP"
      },
      "source": [
        "```sklearn.datasets.make_blobs```를 사용하여 아래 코드로 데이터를 생성하세요.\n",
        "\n",
        "\n",
        "\n",
        "```\n",
        "\n",
        "from sklearn.datasets import make_blobs\n",
        "\n",
        "\n",
        "\n",
        "X, y = make_blobs(n_samples=100, centers=4, cluster_std=0.60, random_state=0)\n",
        "\n",
        "```\n",
        "\n",
        "\n",
        "\n",
        "이 데이터를 4개의 클러스터로 군집화하세요.\n",
        "\n",
        "Python으로 구현해서 클러스터링하는데, 강의에서 만든 함수 코드를 한 군데 수정해야 한다.\n",
        "\n",
        "(1) 클러스터의 중심점을 몇 회만에 찾는지, 매 반복 중심값만을 출력한다.\n",
        "\n",
        "(2) 배정된 클러스터가 맞는지 비교하여 동일한지 확인하세요.\n",
        "\n"
      ]
    },
    {
      "cell_type": "code",
      "metadata": {
        "id": "Qr8X-PYs5kk4"
      },
      "source": [
        "from sklearn.datasets import make_blobs\n",
        "\n",
        "X, y = make_blobs(n_samples=100, centers=4, cluster_std=0.6, random_state=0)"
      ],
      "execution_count": 51,
      "outputs": []
    },
    {
      "cell_type": "markdown",
      "metadata": {
        "id": "AoDzoj0x55Vw"
      },
      "source": [
        "1)4개로 군집화\n"
      ]
    },
    {
      "cell_type": "code",
      "metadata": {
        "id": "8xDLYu515rf-"
      },
      "source": [
        "def normDist(x1, x2):\n",
        "    #dist=np.sqrt(sum(np.power(x1 - x2, 2))) #36.406001444695193 #식으로 구하기\n",
        "    dist = np.linalg.norm(x1 - x2) #36.406001444695193\n",
        "    return dist"
      ],
      "execution_count": 52,
      "outputs": []
    },
    {
      "cell_type": "code",
      "metadata": {
        "id": "6t9_JTAx5ria"
      },
      "source": [
        "def draw(x, centroids):\n",
        "    import matplotlib.pyplot as plt\n",
        "    #plt.subplot(5,2,iter)\n",
        "    plt.scatter(x[:,0], x[:,1], color='blue')\n",
        "    plt.scatter(centroids[:,0], centroids[:,1], color='red')"
      ],
      "execution_count": 53,
      "outputs": []
    },
    {
      "cell_type": "code",
      "metadata": {
        "id": "AfxhaTbt5rk4"
      },
      "source": [
        "def cluster(x, k, centroids):\n",
        "    row, col = x.shape\n",
        "    clusterAssigned = np.zeros(shape=(row, 2), dtype=float)\n",
        "    _centroids=np.zeros(shape = (k, x.shape[1]), dtype=float)\n",
        "    clusterUpdated=True\n",
        "    iter = 1\n",
        "    while(clusterUpdated):\n",
        "        print(\"\\n\\n====== Iteration {} ======\".format(iter))\n",
        "        for i in range(row):\n",
        "            minDist = np.inf\n",
        "            minIndex = -1\n",
        "            for j in range(k):\n",
        "                distJI = normDist(centroids[j], x[i])\n",
        "                if distJI < minDist:\n",
        "                    minDist = distJI\n",
        "                    minIndex = j\n",
        "            clusterAssigned[i] = [minIndex, minDist]\n",
        "        for cent in range(k):\n",
        "            _centroids[cent] = np.mean(x[clusterAssigned[:,0]==cent],axis=0)\n",
        "        comparison = np.equal(centroids, _centroids)\n",
        "        if(comparison.all()==True):\n",
        "            print (\"\\n.....NOT Updating Centroids\\n {} => \\n{}\".format(centroids, _centroids))\n",
        "            clusterUpdated = False\n",
        "            print(\"\\n Centroids {}회만에 찾기 완료\".format(iter))\n",
        "            return centroids, clusterAssigned\n",
        "        else:\n",
        "            print (\"\\n.....Updating Centroids\\n {} => \\n{}\".format(centroids, _centroids))\n",
        "            centroids = _centroids\n",
        "            iter += 1"
      ],
      "execution_count": 59,
      "outputs": []
    },
    {
      "cell_type": "code",
      "metadata": {
        "id": "i5te9zls_VFA"
      },
      "source": [
        "def cluster(x, k, centroids): #x,k, 초기중심점\n",
        "    row, col = x.shape\n",
        "    clusterAssigned = np.zeros(shape=(row, 2), dtype=float) #수정부분\n",
        "    # print (clusterAssigned)\n",
        "    clusterUpdated=True\n",
        "    iter = 1\n",
        "    while(clusterUpdated):\n",
        "        print (\"\\n\\n====== Iteration {} ======\".format(iter))\n",
        "        # STEP 1: assign to closer cluster\n",
        "        for i in range(row):\n",
        "            minDist = np.inf   # set arbitray max to minDist\n",
        "            minIndex = -1      # set arbitray index to minIndex\n",
        "            # compute distance and assign to closer cluster\n",
        "            for j in range(k):\n",
        "                # distance from centroids[j] to x[0]\n",
        "                distJI = normDist(centroids[j], x[i])\n",
        "                # print (\"Distance {:.3f} between {} and {}\".format(distJI, centroids[j], x[i]))\n",
        "                # pick the closest centroid\n",
        "                if distJI < minDist:\n",
        "                    minDist = distJI\n",
        "                    minIndex = j\n",
        "            #print (\".....Assigning {} to {}th centroid by {:.3f}\".format(x[i], minIndex, minDist))\n",
        "            clusterAssigned[i] = [minIndex, minDist]   #-----changed\n",
        "        #print (\"\\n.....Assigned clusters: \\n {}\".format(clusterAssigned))\n",
        "        \n",
        "        # STEP 2: update centroids\n",
        "        _centroids=np.zeros(shape = (k, x.shape[1]), dtype=float)\n",
        "        for cent in range(k):\n",
        "            # read data by index and average them\n",
        "            _centroids[cent] = np.mean(x[clusterAssigned[:,0]==cent],axis=0)\n",
        "        # print (\"Centroids updated: \\n\", _centroids)\n",
        "        \n",
        "        # STEP 3: see if centroids is updated. STOP if NOT updated\n",
        "        comparison = np.equal(centroids, _centroids) # np.isclose() in case some tolerence is required\n",
        "        if(comparison.all() == True):\n",
        "            print (\"\\n.....NOT Updating Centroids!!\\n\")# {} => \\n{}\".format(centroids, _centroids))\n",
        "            print(\"\\n-----Final Centroids is...\\n{}\\n\".format(_centroids))\n",
        "            print(\"\\n We found Centroids at {} times.\\n\".format(iter))\n",
        "            clusterUpdated = False\n",
        "            return centroids, clusterAssigned\n",
        "        else:\n",
        "            #print (\"\\n.....Updating Centroids\\n {} => \\n{}\".format(centroids, _centroids))\n",
        "            if iter==1:\n",
        "                print(\"\\n Init Centroids is...\\n{}\".format(centroids))\n",
        "            print (\"\\n.....Updating Centroids To..\\n{}\".format(_centroids))\n",
        "            centroids = _centroids\n",
        "            iter += 1"
      ],
      "execution_count": 81,
      "outputs": []
    },
    {
      "cell_type": "markdown",
      "metadata": {
        "id": "rDX6iNuM6Els"
      },
      "source": [
        "## (1) 클러스터의 중심점을 몇 회만에 찾는지, 매 반복 중심값만을 출력한다."
      ]
    },
    {
      "cell_type": "code",
      "metadata": {
        "colab": {
          "base_uri": "https://localhost:8080/"
        },
        "id": "MC4YRfnV5rnQ",
        "outputId": "f7d4f765-96ea-4ff4-bdea-bd11b64c2a66"
      },
      "source": [
        "print(y)"
      ],
      "execution_count": 82,
      "outputs": [
        {
          "output_type": "stream",
          "name": "stdout",
          "text": [
            "[0 3 0 0 0 0 2 3 0 3 3 3 3 3 3 1 1 2 2 1 0 3 2 1 0 2 2 0 1 1 1 3 1 1 2 0 3\n",
            " 1 3 2 0 2 3 2 2 3 1 2 0 0 0 1 2 2 2 3 3 1 1 3 3 1 1 0 1 3 2 2 1 0 3 1 0 3\n",
            " 0 0 2 2 1 1 1 3 2 0 1 2 1 1 0 0 0 2 0 2 2 3 3 2 3 0]\n"
          ]
        }
      ]
    },
    {
      "cell_type": "code",
      "metadata": {
        "colab": {
          "base_uri": "https://localhost:8080/",
          "height": 1000
        },
        "id": "s7I2emZO5rpu",
        "outputId": "9797992b-822e-4c14-8eb4-688185023237"
      },
      "source": [
        "%matplotlib inline\n",
        "import matplotlib.pyplot as plt\n",
        "import numpy as np\n",
        "\n",
        "\n",
        "k = 4\n",
        "centroids = np.array([[3,5],[3,2],[-2,2],[0,10]], dtype = float)\n",
        "#centroids = np.array([[1,1],[4,1]], dtype = float)\n",
        "centroids, clusterAssigned = cluster(X, k, centroids)\n",
        "draw(X, centroids)"
      ],
      "execution_count": 83,
      "outputs": [
        {
          "output_type": "stream",
          "name": "stdout",
          "text": [
            "\n",
            "\n",
            "====== Iteration 1 ======\n",
            "\n",
            " Init Centroids is...\n",
            "[[ 3.  5.]\n",
            " [ 3.  2.]\n",
            " [-2.  2.]\n",
            " [ 0. 10.]]\n",
            "\n",
            ".....Updating Centroids To..\n",
            "[[ 1.01554581  4.46767227]\n",
            " [ 1.99299447  1.07350657]\n",
            " [-1.25872549  3.25396018]\n",
            " [-1.27208964  7.74944718]]\n",
            "\n",
            "\n",
            "====== Iteration 2 ======\n",
            "\n",
            ".....Updating Centroids To..\n",
            "[[ 0.91568734  4.32895204]\n",
            " [ 1.97918933  0.97920012]\n",
            " [-1.46984735  3.1570263 ]\n",
            " [-1.27208964  7.74944718]]\n",
            "\n",
            "\n",
            "====== Iteration 3 ======\n",
            "\n",
            ".....Updating Centroids To..\n",
            "[[ 0.87673717  4.2964758 ]\n",
            " [ 1.97918933  0.97920012]\n",
            " [-1.52704861  3.14337865]\n",
            " [-1.27208964  7.74944718]]\n",
            "\n",
            "\n",
            "====== Iteration 4 ======\n",
            "\n",
            ".....NOT Updating Centroids!!\n",
            "\n",
            "\n",
            "-----Final Centroids is...\n",
            "[[ 0.87673717  4.2964758 ]\n",
            " [ 1.97918933  0.97920012]\n",
            " [-1.52704861  3.14337865]\n",
            " [-1.27208964  7.74944718]]\n",
            "\n",
            "\n",
            " We found Centroids at 4 times.\n",
            "\n"
          ]
        },
        {
          "output_type": "display_data",
          "data": {
            "image/png": "[encoded data removed]",
            "text/plain": [
              "<Figure size 432x288 with 1 Axes>"
            ]
          },
          "metadata": {
            "needs_background": "light"
          }
        }
      ]
    },
    {
      "cell_type": "markdown",
      "metadata": {
        "id": "OPaCGsvW7BEc"
      },
      "source": [
        "## (2) 배정된 클러스터가 맞는지 비교하여 동일한지 확인하세요."
      ]
    },
    {
      "cell_type": "code",
      "metadata": {
        "colab": {
          "base_uri": "https://localhost:8080/"
        },
        "id": "E00lI6QF5rr5",
        "outputId": "efe64e05-6408-4def-e88d-107b259b8c33"
      },
      "source": [
        "print(y)"
      ],
      "execution_count": 84,
      "outputs": [
        {
          "output_type": "stream",
          "name": "stdout",
          "text": [
            "[0 3 0 0 0 0 2 3 0 3 3 3 3 3 3 1 1 2 2 1 0 3 2 1 0 2 2 0 1 1 1 3 1 1 2 0 3\n",
            " 1 3 2 0 2 3 2 2 3 1 2 0 0 0 1 2 2 2 3 3 1 1 3 3 1 1 0 1 3 2 2 1 0 3 1 0 3\n",
            " 0 0 2 2 1 1 1 3 2 0 1 2 1 1 0 0 0 2 0 2 2 3 3 2 3 0]\n"
          ]
        }
      ]
    },
    {
      "cell_type": "code",
      "metadata": {
        "colab": {
          "base_uri": "https://localhost:8080/"
        },
        "id": "_Vky_QwT7Dfn",
        "outputId": "4980dfc7-d34b-4afa-aad8-8859e34c8c01"
      },
      "source": [
        "x1=clusterAssigned[:,0]\n",
        "print(x1)"
      ],
      "execution_count": 87,
      "outputs": [
        {
          "output_type": "stream",
          "name": "stdout",
          "text": [
            "[0. 3. 0. 0. 0. 0. 2. 3. 0. 3. 3. 3. 3. 3. 3. 1. 1. 0. 2. 1. 0. 3. 2. 1.\n",
            " 0. 2. 2. 0. 1. 1. 1. 3. 1. 1. 2. 0. 3. 1. 3. 2. 0. 2. 3. 2. 2. 3. 1. 2.\n",
            " 0. 0. 0. 1. 2. 2. 2. 3. 3. 1. 1. 3. 3. 1. 1. 0. 1. 3. 2. 2. 1. 0. 3. 1.\n",
            " 0. 3. 0. 0. 2. 2. 1. 1. 1. 3. 2. 0. 1. 2. 1. 1. 0. 0. 0. 2. 0. 2. 2. 3.\n",
            " 3. 2. 3. 0.]\n"
          ]
        }
      ]
    },
    {
      "cell_type": "code",
      "metadata": {
        "colab": {
          "base_uri": "https://localhost:8080/"
        },
        "id": "YHhSEmni86q6",
        "outputId": "d53aa220-e8f0-42b7-838b-b65bfd6ca88d"
      },
      "source": [
        "np.equal(x1, y)"
      ],
      "execution_count": 88,
      "outputs": [
        {
          "output_type": "execute_result",
          "data": {
            "text/plain": [
              "array([ True,  True,  True,  True,  True,  True,  True,  True,  True,\n",
              "        True,  True,  True,  True,  True,  True,  True,  True, False,\n",
              "        True,  True,  True,  True,  True,  True,  True,  True,  True,\n",
              "        True,  True,  True,  True,  True,  True,  True,  True,  True,\n",
              "        True,  True,  True,  True,  True,  True,  True,  True,  True,\n",
              "        True,  True,  True,  True,  True,  True,  True,  True,  True,\n",
              "        True,  True,  True,  True,  True,  True,  True,  True,  True,\n",
              "        True,  True,  True,  True,  True,  True,  True,  True,  True,\n",
              "        True,  True,  True,  True,  True,  True,  True,  True,  True,\n",
              "        True,  True,  True,  True,  True,  True,  True,  True,  True,\n",
              "        True,  True,  True,  True,  True,  True,  True,  True,  True,\n",
              "        True])"
            ]
          },
          "metadata": {},
          "execution_count": 88
        }
      ]
    }
  ]
}
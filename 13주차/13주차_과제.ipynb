{
  "nbformat": 4,
  "nbformat_minor": 0,
  "metadata": {
    "colab": {
      "name": "13주차 과제.ipynb",
      "provenance": []
    },
    "kernelspec": {
      "name": "python3",
      "display_name": "Python 3"
    },
    "language_info": {
      "name": "python"
    }
  },
  "cells": [
    {
      "cell_type": "code",
      "metadata": {
        "colab": {
          "base_uri": "https://localhost:8080/"
        },
        "id": "4AuNPjtUVK4t",
        "outputId": "8fb819d0-4a85-4053-ec9e-b3c0364a094d"
      },
      "source": [
        "from google.colab import drive\n",
        "drive.mount('/content/gdrive')"
      ],
      "execution_count": 1,
      "outputs": [
        {
          "output_type": "stream",
          "name": "stdout",
          "text": [
            "Mounted at /content/gdrive\n"
          ]
        }
      ]
    },
    {
      "cell_type": "code",
      "metadata": {
        "colab": {
          "base_uri": "https://localhost:8080/"
        },
        "id": "J5qQ5KW5VPvi",
        "outputId": "01aed32a-3913-4691-a3d8-6eff3d68a640"
      },
      "source": [
        "!pip install pyspark"
      ],
      "execution_count": 2,
      "outputs": [
        {
          "output_type": "stream",
          "name": "stdout",
          "text": [
            "Collecting pyspark\n",
            "  Downloading pyspark-3.2.0.tar.gz (281.3 MB)\n",
            "\u001b[K     |████████████████████████████████| 281.3 MB 39 kB/s \n",
            "\u001b[?25hCollecting py4j==0.10.9.2\n",
            "  Downloading py4j-0.10.9.2-py2.py3-none-any.whl (198 kB)\n",
            "\u001b[K     |████████████████████████████████| 198 kB 15.0 MB/s \n",
            "\u001b[?25hBuilding wheels for collected packages: pyspark\n",
            "  Building wheel for pyspark (setup.py) ... \u001b[?25l\u001b[?25hdone\n",
            "  Created wheel for pyspark: filename=pyspark-3.2.0-py2.py3-none-any.whl size=281805912 sha256=583abd0486c7795afda1eaa1e5b0b7cc4a2baff32e5bfaae264508a1ee43e71e\n",
            "  Stored in directory: /root/.cache/pip/wheels/0b/de/d2/9be5d59d7331c6c2a7c1b6d1a4f463ce107332b1ecd4e80718\n",
            "Successfully built pyspark\n",
            "Installing collected packages: py4j, pyspark\n",
            "Successfully installed py4j-0.10.9.2 pyspark-3.2.0\n"
          ]
        }
      ]
    },
    {
      "cell_type": "markdown",
      "metadata": {
        "id": "u9-R60IfVY10"
      },
      "source": [
        "13주 iris데이터 회귀분석\n",
        "앞서 사용했던 iris데이터를 사용해서 회귀분석을 해보자.\n",
        "\n",
        "iris데이터는 아래 URL에서 읽어올 수 있다.\n",
        "\n",
        "\n",
        "\n",
        "```\n",
        "\n",
        "import pandas as pd\n",
        "\n",
        "file_name = \"https://archive.ics.uci.edu/ml/machine-learning-databases/iris/iris.data\"\n",
        "\n",
        "iris = pd.read_csv(file_name, names=[\"sepal_length\",\"sepal_width\",\"petal_length\", \"petal_width\",\"species\"])\n",
        "\n",
        "```\n",
        "\n",
        "\n",
        "\n",
        "독립변수는 petal_length 컬럼, 종속변수는 petal_width 컬럼으로 해보자.\n",
        "\n",
        "* (1) DataFrame 생성\n",
        "\n",
        "* (2) 회귀선 그래프\n",
        "\n",
        "* (3) Spark를 사용하여 회귀분석하고 계수 출력\n",
        "\n",
        "* (4) 실제와 예측 출력\n",
        "\n",
        "* (4) 정확성 평가하고 출력\n",
        "\n"
      ]
    },
    {
      "cell_type": "code",
      "metadata": {
        "id": "kWaqPj8sVrDy"
      },
      "source": [
        "from pyspark.context import SparkContext\n",
        "from pyspark.sql.session import SparkSession\n",
        "sc = SparkContext('local')\n",
        "spark = SparkSession(sc)"
      ],
      "execution_count": 4,
      "outputs": []
    },
    {
      "cell_type": "code",
      "metadata": {
        "id": "GZR8TGh5Vhax"
      },
      "source": [
        "import pandas as pd\n",
        "\n",
        "file_name = \"https://archive.ics.uci.edu/ml/machine-learning-databases/iris/iris.data\"\n",
        "\n",
        "iris = pd.read_csv(file_name, names=[\"sepal_length\",\"sepal_width\",\"petal_length\", \"petal_width\",\"species\"])"
      ],
      "execution_count": 5,
      "outputs": []
    },
    {
      "cell_type": "markdown",
      "metadata": {
        "id": "7zNFcawVVfSR"
      },
      "source": [
        "## (1) DataFrame 생성"
      ]
    },
    {
      "cell_type": "code",
      "metadata": {
        "id": "ELeEEckyVPyC"
      },
      "source": [
        "irisDf=spark.createDataFrame(iris)"
      ],
      "execution_count": 6,
      "outputs": []
    },
    {
      "cell_type": "code",
      "metadata": {
        "colab": {
          "base_uri": "https://localhost:8080/"
        },
        "id": "EHYBC5RMVP0T",
        "outputId": "5c50d432-5fab-4b37-f8f8-f037f0d46db5"
      },
      "source": [
        "irisDf.printSchema()"
      ],
      "execution_count": 7,
      "outputs": [
        {
          "output_type": "stream",
          "name": "stdout",
          "text": [
            "root\n",
            " |-- sepal_length: double (nullable = true)\n",
            " |-- sepal_width: double (nullable = true)\n",
            " |-- petal_length: double (nullable = true)\n",
            " |-- petal_width: double (nullable = true)\n",
            " |-- species: string (nullable = true)\n",
            "\n"
          ]
        }
      ]
    },
    {
      "cell_type": "markdown",
      "metadata": {
        "id": "BqTVuSqUVy8r"
      },
      "source": [
        "## (2) 회귀선 그래프"
      ]
    },
    {
      "cell_type": "code",
      "metadata": {
        "id": "cPizhT4oVP2p"
      },
      "source": [
        "from sklearn import linear_model\n",
        "x=iris['petal_length']\n",
        "y=iris['petal_width']"
      ],
      "execution_count": 8,
      "outputs": []
    },
    {
      "cell_type": "code",
      "metadata": {
        "id": "UH0Gk-E7VP43"
      },
      "source": [
        "import numpy as np\n",
        "x=np.array([x,np.ones(len(x))])#matrix inverse\n",
        "x=x.T"
      ],
      "execution_count": 9,
      "outputs": []
    },
    {
      "cell_type": "code",
      "metadata": {
        "colab": {
          "base_uri": "https://localhost:8080/"
        },
        "id": "l1FedfDlVP7S",
        "outputId": "f1508808-de8f-4878-d346-7127e8d116e4"
      },
      "source": [
        "x.shape\n",
        "x[1]"
      ],
      "execution_count": 10,
      "outputs": [
        {
          "output_type": "execute_result",
          "data": {
            "text/plain": [
              "array([1.4, 1. ])"
            ]
          },
          "metadata": {},
          "execution_count": 10
        }
      ]
    },
    {
      "cell_type": "markdown",
      "metadata": {
        "id": "dDtXgT6qV-Dv"
      },
      "source": [
        "w"
      ]
    },
    {
      "cell_type": "code",
      "metadata": {
        "colab": {
          "base_uri": "https://localhost:8080/"
        },
        "id": "nHzYiLXUVP9w",
        "outputId": "1519ac51-07e8-4704-c670-e52eacc6063c"
      },
      "source": [
        "w1, w0=np.dot(np.linalg.inv(np.dot(x.T, x)), np.dot(x.T, y)) #1이 뒤에있으니까 2번째가 w0이다\n",
        "print(\"w1:{} w0:{}\".format(w1,w0))"
      ],
      "execution_count": 11,
      "outputs": [
        {
          "output_type": "stream",
          "name": "stdout",
          "text": [
            "w1:0.4164191322854026 w0:-0.3665140452167337\n"
          ]
        }
      ]
    },
    {
      "cell_type": "markdown",
      "metadata": {
        "id": "7TzBHizmV_Ln"
      },
      "source": [
        "yhat"
      ]
    },
    {
      "cell_type": "code",
      "metadata": {
        "id": "1ZfF8uCzVP_q"
      },
      "source": [
        "yhat = w0*x[:,1] + w1*x[:,0]"
      ],
      "execution_count": 12,
      "outputs": []
    },
    {
      "cell_type": "code",
      "metadata": {
        "id": "7KbeYpTrWFm1"
      },
      "source": [
        "alpha = 0.002\n",
        "theta=np.array(np.ones([x.shape[1]]))\n",
        "def gradientDescent(x,y,theta,alpha,numIterations):\n",
        "    for i in range(numIterations):\n",
        "        #i+=1\n",
        "        h=np.dot(x,theta)\n",
        "        error=h-y\n",
        "        cost=np.sum((h-y)**2)/len(x) #full MSE\n",
        "        gradient=np.dot(x.T,error)*2/len(x) #w0,w1\n",
        "        theta-=alpha*gradient\n",
        "        if i%100==0:\n",
        "            print(\"Iteration {0} | theta{1} Cost {2:.5f}\".format(i,theta,cost))\n",
        "\n",
        "    return theta\n"
      ],
      "execution_count": 13,
      "outputs": []
    },
    {
      "cell_type": "code",
      "metadata": {
        "colab": {
          "base_uri": "https://localhost:8080/"
        },
        "id": "W77Z2x0jWGGv",
        "outputId": "dd565117-32a6-493b-feaa-d66dac538964"
      },
      "source": [
        "w1g, w0g=gradientDescent(x, y, theta, alpha, 10000) "
      ],
      "execution_count": 14,
      "outputs": [
        {
          "output_type": "stream",
          "name": "stdout",
          "text": [
            "Iteration 0 | theta[0.93925787 0.98576   ] Cost 13.76907\n",
            "Iteration 100 | theta[0.17401059 0.73508253] Cost 0.26058\n",
            "Iteration 200 | theta[0.18966613 0.6619995 ] Cost 0.23261\n",
            "Iteration 300 | theta[0.20469088 0.59384868] Cost 0.20822\n",
            "Iteration 400 | theta[0.21872029 0.53021369] Cost 0.18696\n",
            "Iteration 500 | theta[0.2318201  0.47079524] Cost 0.16842\n",
            "Iteration 600 | theta[0.24405189 0.41531394] Cost 0.15226\n",
            "Iteration 700 | theta[0.25547319 0.36350891] Cost 0.13817\n",
            "Iteration 800 | theta[0.2661377  0.31513656] Cost 0.12589\n",
            "Iteration 900 | theta[0.27609556 0.26996942] Cost 0.11517\n",
            "Iteration 1000 | theta[0.2853936  0.22779513] Cost 0.10584\n",
            "Iteration 1100 | theta[0.29407553 0.18841536] Cost 0.09769\n",
            "Iteration 1200 | theta[0.30218219 0.15164495] Cost 0.09059\n",
            "Iteration 1300 | theta[0.30975169 0.117311  ] Cost 0.08441\n",
            "Iteration 1400 | theta[0.31681963 0.08525207] Cost 0.07901\n",
            "Iteration 1500 | theta[0.32341923 0.05531741] Cost 0.07430\n",
            "Iteration 1600 | theta[0.32958154 0.02736626] Cost 0.07020\n",
            "Iteration 1700 | theta[0.33533552 0.00126719] Cost 0.06663\n",
            "Iteration 1800 | theta[ 0.34070824 -0.02310251] Cost 0.06351\n",
            "Iteration 1900 | theta[ 0.34572495 -0.04585745] Cost 0.06079\n",
            "Iteration 2000 | theta[ 0.35040924 -0.06710461] Cost 0.05842\n",
            "Iteration 2100 | theta[ 0.35478315 -0.0869439 ] Cost 0.05635\n",
            "Iteration 2200 | theta[ 0.35886724 -0.10546862] Cost 0.05455\n",
            "Iteration 2300 | theta[ 0.36268071 -0.12276586] Cost 0.05298\n",
            "Iteration 2400 | theta[ 0.36624149 -0.13891696] Cost 0.05161\n",
            "Iteration 2500 | theta[ 0.36956633 -0.15399786] Cost 0.05042\n",
            "Iteration 2600 | theta[ 0.37267087 -0.16807948] Cost 0.04937\n",
            "Iteration 2700 | theta[ 0.37556969 -0.18122804] Cost 0.04847\n",
            "Iteration 2800 | theta[ 0.37827643 -0.19350535] Cost 0.04768\n",
            "Iteration 2900 | theta[ 0.38080382 -0.20496915] Cost 0.04699\n",
            "Iteration 3000 | theta[ 0.38316374 -0.21567335] Cost 0.04638\n",
            "Iteration 3100 | theta[ 0.38536729 -0.22566827] Cost 0.04586\n",
            "Iteration 3200 | theta[ 0.38742483 -0.23500091] Cost 0.04540\n",
            "Iteration 3300 | theta[ 0.38934603 -0.24371515] Cost 0.04500\n",
            "Iteration 3400 | theta[ 0.39113994 -0.25185198] Cost 0.04466\n",
            "Iteration 3500 | theta[ 0.39281497 -0.25944965] Cost 0.04435\n",
            "Iteration 3600 | theta[ 0.39437902 -0.26654389] Cost 0.04409\n",
            "Iteration 3700 | theta[ 0.39583943 -0.27316805] Cost 0.04386\n",
            "Iteration 3800 | theta[ 0.39720307 -0.27935329] Cost 0.04366\n",
            "Iteration 3900 | theta[ 0.39847635 -0.28512869] Cost 0.04348\n",
            "Iteration 4000 | theta[ 0.39966526 -0.2905214 ] Cost 0.04333\n",
            "Iteration 4100 | theta[ 0.4007754  -0.29555678] Cost 0.04320\n",
            "Iteration 4200 | theta[ 0.40181197 -0.30025851] Cost 0.04308\n",
            "Iteration 4300 | theta[ 0.40277987 -0.30464869] Cost 0.04298\n",
            "Iteration 4400 | theta[ 0.40368362 -0.30874798] Cost 0.04289\n",
            "Iteration 4500 | theta[ 0.4045275  -0.31257564] Cost 0.04281\n",
            "Iteration 4600 | theta[ 0.40531545 -0.31614967] Cost 0.04275\n",
            "Iteration 4700 | theta[ 0.4060512  -0.31948689] Cost 0.04269\n",
            "Iteration 4800 | theta[ 0.40673819 -0.32260297] Cost 0.04264\n",
            "Iteration 4900 | theta[ 0.40737966 -0.32551258] Cost 0.04259\n",
            "Iteration 5000 | theta[ 0.40797863 -0.3282294 ] Cost 0.04255\n",
            "Iteration 5100 | theta[ 0.40853791 -0.33076619] Cost 0.04252\n",
            "Iteration 5200 | theta[ 0.40906013 -0.3331349 ] Cost 0.04249\n",
            "Iteration 5300 | theta[ 0.40954775 -0.33534665] Cost 0.04246\n",
            "Iteration 5400 | theta[ 0.41000306 -0.33741184] Cost 0.04244\n",
            "Iteration 5500 | theta[ 0.4104282 -0.3393402] Cost 0.04242\n",
            "Iteration 5600 | theta[ 0.41082516 -0.34114077] Cost 0.04241\n",
            "Iteration 5700 | theta[ 0.41119583 -0.34282204] Cost 0.04239\n",
            "Iteration 5800 | theta[ 0.41154193 -0.34439191] Cost 0.04238\n",
            "Iteration 5900 | theta[ 0.4118651  -0.34585775] Cost 0.04237\n",
            "Iteration 6000 | theta[ 0.41216686 -0.34722647] Cost 0.04236\n",
            "Iteration 6100 | theta[ 0.41244862 -0.34850449] Cost 0.04235\n",
            "Iteration 6200 | theta[ 0.41271171 -0.34969783] Cost 0.04234\n",
            "Iteration 6300 | theta[ 0.41295737 -0.35081209] Cost 0.04233\n",
            "Iteration 6400 | theta[ 0.41318675 -0.35185253] Cost 0.04233\n",
            "Iteration 6500 | theta[ 0.41340093 -0.35282402] Cost 0.04232\n",
            "Iteration 6600 | theta[ 0.41360092 -0.35373114] Cost 0.04232\n",
            "Iteration 6700 | theta[ 0.41378766 -0.35457815] Cost 0.04232\n",
            "Iteration 6800 | theta[ 0.41396203 -0.35536904] Cost 0.04231\n",
            "Iteration 6900 | theta[ 0.41412484 -0.35610753] Cost 0.04231\n",
            "Iteration 7000 | theta[ 0.41427686 -0.35679708] Cost 0.04231\n",
            "Iteration 7100 | theta[ 0.41441881 -0.35744094] Cost 0.04230\n",
            "Iteration 7200 | theta[ 0.41455136 -0.35804213] Cost 0.04230\n",
            "Iteration 7300 | theta[ 0.41467512 -0.3586035 ] Cost 0.04230\n",
            "Iteration 7400 | theta[ 0.41479068 -0.35912766] Cost 0.04230\n",
            "Iteration 7500 | theta[ 0.41489858 -0.35961709] Cost 0.04230\n",
            "Iteration 7600 | theta[ 0.41499934 -0.36007409] Cost 0.04230\n",
            "Iteration 7700 | theta[ 0.41509341 -0.36050081] Cost 0.04230\n",
            "Iteration 7800 | theta[ 0.41518126 -0.36089926] Cost 0.04230\n",
            "Iteration 7900 | theta[ 0.41526328 -0.3612713 ] Cost 0.04229\n",
            "Iteration 8000 | theta[ 0.41533987 -0.36161869] Cost 0.04229\n",
            "Iteration 8100 | theta[ 0.41541138 -0.36194307] Cost 0.04229\n",
            "Iteration 8200 | theta[ 0.41547816 -0.36224595] Cost 0.04229\n",
            "Iteration 8300 | theta[ 0.41554051 -0.36252876] Cost 0.04229\n",
            "Iteration 8400 | theta[ 0.41559873 -0.36279283] Cost 0.04229\n",
            "Iteration 8500 | theta[ 0.41565309 -0.3630394 ] Cost 0.04229\n",
            "Iteration 8600 | theta[ 0.41570385 -0.36326964] Cost 0.04229\n",
            "Iteration 8700 | theta[ 0.41575124 -0.36348462] Cost 0.04229\n",
            "Iteration 8800 | theta[ 0.4157955  -0.36368535] Cost 0.04229\n",
            "Iteration 8900 | theta[ 0.41583682 -0.36387278] Cost 0.04229\n",
            "Iteration 9000 | theta[ 0.41587541 -0.3640478 ] Cost 0.04229\n",
            "Iteration 9100 | theta[ 0.41591143 -0.36421121] Cost 0.04229\n",
            "Iteration 9200 | theta[ 0.41594507 -0.3643638 ] Cost 0.04229\n",
            "Iteration 9300 | theta[ 0.41597649 -0.36450628] Cost 0.04229\n",
            "Iteration 9400 | theta[ 0.41600582 -0.36463932] Cost 0.04229\n",
            "Iteration 9500 | theta[ 0.4160332  -0.36476354] Cost 0.04229\n",
            "Iteration 9600 | theta[ 0.41605878 -0.36487953] Cost 0.04229\n",
            "Iteration 9700 | theta[ 0.41608265 -0.36498784] Cost 0.04229\n",
            "Iteration 9800 | theta[ 0.41610495 -0.36508897] Cost 0.04229\n",
            "Iteration 9900 | theta[ 0.41612577 -0.36518339] Cost 0.04229\n"
          ]
        }
      ]
    },
    {
      "cell_type": "markdown",
      "metadata": {
        "id": "IJF_6YR0WNHL"
      },
      "source": [
        "yhat"
      ]
    },
    {
      "cell_type": "code",
      "metadata": {
        "id": "4-Y3qgYOWMKG"
      },
      "source": [
        "yhatGV = w0g*x[:,1] + w1g*x[:,0]"
      ],
      "execution_count": 15,
      "outputs": []
    },
    {
      "cell_type": "code",
      "metadata": {
        "colab": {
          "base_uri": "https://localhost:8080/",
          "height": 298
        },
        "id": "cxfzO01xWPMt",
        "outputId": "1af9116b-7108-4dd3-8a68-b37d5f81d359"
      },
      "source": [
        "%matplotlib inline\n",
        "import matplotlib.pyplot as plt\n",
        "import numpy as np\n",
        "\n",
        "fig=plt.figure()\n",
        "ax=fig.add_subplot(111)\n",
        "ax.scatter(x[:,0],y,alpha=0.4,c=iris.petal_length)\n",
        "plt.plot(x[:,0],yhatGV,'r-')\n",
        "plt.plot(x[:,0],yhat,'bx')\n",
        "ax.set_ylabel('petal_width') \n",
        "ax.set_xlabel('petal_length')"
      ],
      "execution_count": 16,
      "outputs": [
        {
          "output_type": "execute_result",
          "data": {
            "text/plain": [
              "Text(0.5, 0, 'petal_length')"
            ]
          },
          "metadata": {},
          "execution_count": 16
        },
        {
          "output_type": "display_data",
          "data": {
            "image/png": "[encoded data removed]",
            "text/plain": [
              "<Figure size 432x288 with 1 Axes>"
            ]
          },
          "metadata": {
            "needs_background": "light"
          }
        }
      ]
    },
    {
      "cell_type": "markdown",
      "metadata": {
        "id": "pFS9o9KPWUV6"
      },
      "source": [
        "## (3) Spark를 사용하여 회귀분석하고 계수 출력"
      ]
    },
    {
      "cell_type": "code",
      "metadata": {
        "id": "jwUR3D6TWT0m"
      },
      "source": [
        "(trainDf, testDf) = irisDf.randomSplit([0.6, 0.4])"
      ],
      "execution_count": 17,
      "outputs": []
    },
    {
      "cell_type": "markdown",
      "metadata": {
        "id": "yYp2aziNWX1K"
      },
      "source": [
        "모델링"
      ]
    },
    {
      "cell_type": "code",
      "metadata": {
        "id": "zXsr6dUgWaJc"
      },
      "source": [
        "from pyspark.ml.feature import VectorAssembler\n",
        "va = VectorAssembler(inputCols = [\"petal_length\"],\n",
        "                                   outputCol = 'features')"
      ],
      "execution_count": 18,
      "outputs": []
    },
    {
      "cell_type": "code",
      "metadata": {
        "id": "jm0vljToWaLP"
      },
      "source": [
        "from pyspark.ml.regression import LinearRegression\n",
        "lr = LinearRegression(featuresCol = 'features', labelCol='petal_width', maxIter=10, regParam=0.3, elasticNetParam=0.8)\n"
      ],
      "execution_count": 20,
      "outputs": []
    },
    {
      "cell_type": "code",
      "metadata": {
        "id": "4nOPKOlLWaNt"
      },
      "source": [
        "from pyspark.ml import Pipeline\n",
        "\n",
        "pipeline = Pipeline(stages=[va,lr])"
      ],
      "execution_count": 21,
      "outputs": []
    },
    {
      "cell_type": "code",
      "metadata": {
        "id": "2V9AA31qWaQA"
      },
      "source": [
        "model = pipeline.fit(trainDf)\n",
        "modelTrainDf = model.transform(trainDf)"
      ],
      "execution_count": 22,
      "outputs": []
    },
    {
      "cell_type": "markdown",
      "metadata": {
        "id": "i_GcW4mSWmDA"
      },
      "source": [
        "계수 출력"
      ]
    },
    {
      "cell_type": "code",
      "metadata": {
        "colab": {
          "base_uri": "https://localhost:8080/"
        },
        "id": "U811b1YNWmon",
        "outputId": "b2ddcab3-acf4-4348-c6df-aa1d86064b4e"
      },
      "source": [
        "print(\"Coefficients: {}\".format(model.stages[-1].coefficients))\n",
        "print(\"Intercept: {:.3f}\".format(model.stages[-1].intercept)) #y절편"
      ],
      "execution_count": 23,
      "outputs": [
        {
          "output_type": "stream",
          "name": "stdout",
          "text": [
            "Coefficients: [0.2435073141404565]\n",
            "Intercept: 0.253\n"
          ]
        }
      ]
    },
    {
      "cell_type": "markdown",
      "metadata": {
        "id": "3krMU9XyWqSh"
      },
      "source": [
        "## (4) 실제와 예측 출력"
      ]
    },
    {
      "cell_type": "code",
      "metadata": {
        "colab": {
          "base_uri": "https://localhost:8080/"
        },
        "id": "uhK-_ElSWsJL",
        "outputId": "8b363d96-0f8e-4d55-e1f8-d4e5a668b330"
      },
      "source": [
        "modelTestDf=model.transform(testDf)\n",
        "modelTestDf.select('petal_width','prediction').show(10)"
      ],
      "execution_count": 24,
      "outputs": [
        {
          "output_type": "stream",
          "name": "stdout",
          "text": [
            "+-----------+------------------+\n",
            "|petal_width|        prediction|\n",
            "+-----------+------------------+\n",
            "|        0.2|0.5939948700826704|\n",
            "|        0.3|0.5939948700826704|\n",
            "|        0.3|0.5939948700826704|\n",
            "|        0.2|0.6426963329107618|\n",
            "|        0.2|0.7157485271528987|\n",
            "|        1.7|1.3488675439180855|\n",
            "|        0.2|0.6426963329107618|\n",
            "|        0.2|0.5939948700826704|\n",
            "|        0.6|0.6426963329107618|\n",
            "|        0.5|0.6670470643248074|\n",
            "+-----------+------------------+\n",
            "only showing top 10 rows\n",
            "\n"
          ]
        }
      ]
    },
    {
      "cell_type": "code",
      "metadata": {
        "id": "kj9Fwsg-WsLa"
      },
      "source": [
        "petal_l=modelTestDf.rdd.map(lambda x:x[3]).collect()\n",
        "pred=modelTestDf.rdd.map(lambda x:x[6]).collect()"
      ],
      "execution_count": 25,
      "outputs": []
    },
    {
      "cell_type": "code",
      "metadata": {
        "colab": {
          "base_uri": "https://localhost:8080/",
          "height": 298
        },
        "id": "ILRLSSGNWsNp",
        "outputId": "8bff4ab2-3480-4627-e9e7-96a94837e16d"
      },
      "source": [
        "%matplotlib inline\n",
        "import matplotlib.pyplot as plt\n",
        "import numpy as np\n",
        "\n",
        "fig=plt.figure()\n",
        "ax=fig.add_subplot(111)\n",
        "ax.scatter(petal_l,pred,alpha=0.8)\n",
        "ax.set_ylabel('Predicted petal_width') \n",
        "ax.set_xlabel('Actual petal_width')\n",
        "ax.plot(petal_l,petal_l,'y')"
      ],
      "execution_count": 26,
      "outputs": [
        {
          "output_type": "execute_result",
          "data": {
            "text/plain": [
              "[<matplotlib.lines.Line2D at 0x7f6e3fba03d0>]"
            ]
          },
          "metadata": {},
          "execution_count": 26
        },
        {
          "output_type": "display_data",
          "data": {
            "image/png": "[encoded data removed]",
            "text/plain": [
              "<Figure size 432x288 with 1 Axes>"
            ]
          },
          "metadata": {
            "needs_background": "light"
          }
        }
      ]
    },
    {
      "cell_type": "markdown",
      "metadata": {
        "id": "ifYxfsGeWzQh"
      },
      "source": [
        "## (5) 정확성 평가"
      ]
    },
    {
      "cell_type": "code",
      "metadata": {
        "id": "r615iPrZWxs-"
      },
      "source": [
        "from pyspark.ml.evaluation import RegressionEvaluator\n",
        "\n",
        "evaluator=RegressionEvaluator(labelCol=\"petal_width\", predictionCol=\"prediction\", metricName=\"rmse\")\n"
      ],
      "execution_count": 27,
      "outputs": []
    },
    {
      "cell_type": "code",
      "metadata": {
        "id": "XDQV9TsPWxvW"
      },
      "source": [
        "rmse=evaluator.evaluate(modelTestDf)"
      ],
      "execution_count": 28,
      "outputs": []
    },
    {
      "cell_type": "code",
      "metadata": {
        "colab": {
          "base_uri": "https://localhost:8080/",
          "height": 35
        },
        "id": "v3JXGnLzWxxo",
        "outputId": "3ccaa3f2-f6d4-4994-ae78-eb09966da4ee"
      },
      "source": [
        "f\"Root Mean Squared Error (RMSE) on test data: {rmse:.3f}\""
      ],
      "execution_count": 29,
      "outputs": [
        {
          "output_type": "execute_result",
          "data": {
            "application/vnd.google.colaboratory.intrinsic+json": {
              "type": "string"
            },
            "text/plain": [
              "'Root Mean Squared Error (RMSE) on test data: 0.422'"
            ]
          },
          "metadata": {},
          "execution_count": 29
        }
      ]
    },
    {
      "cell_type": "markdown",
      "metadata": {
        "id": "V1WQ0IftW_w5"
      },
      "source": [
        "R^2"
      ]
    },
    {
      "cell_type": "code",
      "metadata": {
        "id": "lS1OINDFW70K"
      },
      "source": [
        "from pyspark.ml.evaluation import RegressionEvaluator\n",
        "\n",
        "evaluator=RegressionEvaluator(labelCol=\"petal_width\", predictionCol=\"prediction\", metricName=\"r2\")\n"
      ],
      "execution_count": 30,
      "outputs": []
    },
    {
      "cell_type": "code",
      "metadata": {
        "colab": {
          "base_uri": "https://localhost:8080/",
          "height": 35
        },
        "id": "S9xwBqlLW9PV",
        "outputId": "c090777d-2643-4266-f635-158fb0f3c399"
      },
      "source": [
        "f\"r2: {evaluator.evaluate(modelTestDf):.3f}\""
      ],
      "execution_count": 31,
      "outputs": [
        {
          "output_type": "execute_result",
          "data": {
            "application/vnd.google.colaboratory.intrinsic+json": {
              "type": "string"
            },
            "text/plain": [
              "'r2: 0.732'"
            ]
          },
          "metadata": {},
          "execution_count": 31
        }
      ]
    }
  ]
}
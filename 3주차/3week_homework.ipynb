{
 "cells": [
  {
   "cell_type": "markdown",
   "metadata": {
    "application/vnd.databricks.v1+cell": {
     "inputWidgets": {},
     "nuid": "f4cc3ce9-2f02-46cd-b954-a660f8806abc",
     "showTitle": false,
     "title": ""
    }
   },
   "source": [
    "# 문제 1: 오픈API를 통해 데이터를 5천 ~ 1만 건 정도 수집해서 파일로 저장한다"
   ]
  },
  {
   "cell_type": "code",
   "execution_count": 1,
   "metadata": {},
   "outputs": [],
   "source": [
    "import os\n",
    "from src import mylib # Ok: import src.mylib\n",
    "\n",
    "keyPath=os.path.join(os.getcwd(), 'src', 'key.properties')\n",
    "key=mylib.getKey(keyPath)\n",
    "KEY=key['dataseoul'] "
   ]
  },
  {
   "cell_type": "code",
   "execution_count": 2,
   "metadata": {},
   "outputs": [
    {
     "name": "stdout",
     "output_type": "stream",
     "text": [
      "495a6e694e6e696338326567777766/json/VwsmTrdarFlpopQq/1/10/2017\n"
     ]
    }
   ],
   "source": [
    "import os\n",
    "\n",
    "TYPE='json'\n",
    "SERVICE='VwsmTrdarFlpopQq' #OLD: SERVICE='InfoTrdarFlpop'\n",
    "START_INDEX=str(1)\n",
    "END_INDEX=str(10)\n",
    "STDR_YM_CD=str(2017)\n",
    "params=\"/\".join([KEY,TYPE,SERVICE,START_INDEX,END_INDEX,STDR_YM_CD]) # '73725...847/json/VwsmTrdarFlpopQq/1/10/2017'\n",
    "print(params)"
   ]
  },
  {
   "cell_type": "code",
   "execution_count": 3,
   "metadata": {},
   "outputs": [
    {
     "name": "stdout",
     "output_type": "stream",
     "text": [
      "http://openapi.seoul.go.kr:8088/495a6e694e6e696338326567777766/json/VwsmTrdarFlpopQq/1/10/2017\n"
     ]
    }
   ],
   "source": [
    "import urllib.parse\n",
    "\n",
    "_url='http://openapi.seoul.go.kr:8088/'\n",
    "url=urllib.parse.urljoin(_url,params)\n",
    "print(url)"
   ]
  },
  {
   "cell_type": "code",
   "execution_count": 109,
   "metadata": {},
   "outputs": [
    {
     "name": "stdout",
     "output_type": "stream",
     "text": [
      "Overwriting src/week3_homework.py\n"
     ]
    }
   ],
   "source": [
    "%%writefile src/week3_homework.py\n",
    "import os\n",
    "import mylib\n",
    "import requests\n",
    "import pandas as pd\n",
    "import json \n",
    "import urllib.parse\n",
    "from pandas import json_normalize\n",
    "\n",
    "def doIt():\n",
    "    keyPath=os.path.join(os.getcwd(), 'src', 'key.properties')\n",
    "    key=mylib.getKey(keyPath)\n",
    "    KEY=key['dataseoul'] \n",
    "    TYPE='json'\n",
    "    SERVICE='VwsmTrdarFlpopQq' #OLD: SERVICE='InfoTrdarFlpop'\n",
    "    START_INDEX=str(1)\n",
    "    END_INDEX=str(10)\n",
    "    STDR_YM_CD=str(2017)\n",
    "    params=\"/\".join([KEY,TYPE,SERVICE,START_INDEX,END_INDEX,STDR_YM_CD])\n",
    "    \n",
    "    _url='http://openapi.seoul.go.kr:8088/'\n",
    "    url=urllib.parse.urljoin(_url,params)\n",
    "    print(url)\n",
    "    r=requests.get(url)\n",
    "    how=r.json()\n",
    "    t=r.text\n",
    "    print(\"데이터개수는:\",how['VwsmTrdarFlpopQq']['list_total_count'])\n",
    "    print(\"마지막줄은 FAG_60_ABOVE_SUNTM_6_FLPOP_CO: 44\")\n",
    "    fp=open('week3_homework.json','w')\n",
    "    fp.write(t)\n",
    "    \n",
    "    \n",
    "if __name__ == \"__main__\":\n",
    "    doIt()"
   ]
  },
  {
   "cell_type": "code",
   "execution_count": 110,
   "metadata": {
    "scrolled": true
   },
   "outputs": [
    {
     "name": "stdout",
     "output_type": "stream",
     "text": [
      "http://openapi.seoul.go.kr:8088/495a6e694e6e696338326567777766/json/VwsmTrdarFlpopQq/1/10/2017\n",
      "데이터개수는: 5980\n",
      "마지막줄은 FAG_60_ABOVE_SUNTM_6_FLPOP_CO: 44\n"
     ]
    }
   ],
   "source": [
    "!python src/week3_homework.py"
   ]
  },
  {
   "cell_type": "code",
   "execution_count": 111,
   "metadata": {},
   "outputs": [
    {
     "name": "stdout",
     "output_type": "stream",
     "text": [
      " C 드라이브의 볼륨: Windows\n",
      " 볼륨 일련 번호: 5016-23B1\n",
      "\n",
      " C:\\Users\\nicky\\Desktop\\3-2학기\\bigdata 디렉터리\n",
      "\n",
      "2021-09-20  오전 01:38           169,839 week3_homework.json\n",
      "               1개 파일             169,839 바이트\n",
      "               0개 디렉터리  92,475,916,288 바이트 남음\n"
     ]
    }
   ],
   "source": [
    "!dir week3_homework.json"
   ]
  },
  {
   "cell_type": "code",
   "execution_count": 112,
   "metadata": {},
   "outputs": [],
   "source": [
    "# import json\n",
    "\n",
    "# with open('week3_homework.json','r') as f:\n",
    "#     data = json.load(f)\n",
    "\n",
    "#print(json.dumps(json_data) )\n"
   ]
  },
  {
   "cell_type": "markdown",
   "metadata": {},
   "source": [
    "# 문제 2: 노트북에서 pyspark 실행"
   ]
  },
  {
   "cell_type": "code",
   "execution_count": 8,
   "metadata": {},
   "outputs": [
    {
     "name": "stdout",
     "output_type": "stream",
     "text": [
      "3.1.2\n"
     ]
    }
   ],
   "source": [
    "import pyspark\n",
    "print(pyspark.__version__)\n"
   ]
  },
  {
   "cell_type": "code",
   "execution_count": 9,
   "metadata": {},
   "outputs": [
    {
     "name": "stdout",
     "output_type": "stream",
     "text": [
      "java 11.0.12 2021-07-20 LTS\n",
      "Java(TM) SE Runtime Environment 18.9 (build 11.0.12+8-LTS-237)\n",
      "Java HotSpot(TM) 64-Bit Server VM 18.9 (build 11.0.12+8-LTS-237, mixed mode)\n",
      "javac 11.0.12\n",
      "Python 3.8.8\n"
     ]
    }
   ],
   "source": [
    "!java --version  \n",
    "\n",
    "!javac --version  \n",
    "\n",
    "!python --version  "
   ]
  },
  {
   "cell_type": "code",
   "execution_count": 10,
   "metadata": {},
   "outputs": [
    {
     "name": "stdout",
     "output_type": "stream",
     "text": [
      "3.8.8 (default, Apr 13 2021, 15:08:03) [MSC v.1916 64 bit (AMD64)]\n"
     ]
    }
   ],
   "source": [
    "import sys\n",
    "\n",
    "print(sys.version) # 자신이 사용하는 python 버전과 동일한지 확인한다."
   ]
  },
  {
   "cell_type": "markdown",
   "metadata": {},
   "source": [
    "# 문제 3: 다음 파일을 읽어서 RDD를 생성하고, 5줄을 화면출력하세요."
   ]
  },
  {
   "cell_type": "code",
   "execution_count": 0,
   "metadata": {
    "application/vnd.databricks.v1+cell": {
     "inputWidgets": {},
     "nuid": "c560a27f-04cc-4857-9dc1-70cef47ba02d",
     "showTitle": false,
     "title": ""
    }
   },
   "outputs": [
    {
     "data": {
      "text/html": [
       "<style scoped>\n",
       "  .ansiout {\n",
       "    display: block;\n",
       "    unicode-bidi: embed;\n",
       "    white-space: pre-wrap;\n",
       "    word-wrap: break-word;\n",
       "    word-break: break-all;\n",
       "    font-family: \"Source Code Pro\", \"Menlo\", monospace;;\n",
       "    font-size: 13px;\n",
       "    color: #555;\n",
       "    margin-left: 4px;\n",
       "    line-height: 19px;\n",
       "  }\n",
       "</style>\n",
       "<div class='ansiout'>[FileInfo(path='dbfs:/FileStore/tables/&#44221;&#44592;&#46020;_&#51032;&#51221;&#48512;&#49884;_&#51064;&#44396;&#54788;&#54889;_20210910.csv', name='&#44221;&#44592;&#46020;_&#51032;&#51221;&#48512;&#49884;_&#51064;&#44396;&#54788;&#54889;_20210910.csv', size=1577),\n",
       " FileInfo(path='dbfs:/FileStore/tables/&#51228;&#51452;&#53945;&#48324;&#51088;&#52824;&#46020;_&#49436;&#44480;&#54252;&#49884;_&#44256;&#47161;&#54868;&#48708;&#50984;&#48143;&#45432;&#47161;&#54868;&#51648;&#49688;&#54788;&#54889;_20210831.csv', name='&#51228;&#51452;&#53945;&#48324;&#51088;&#52824;&#46020;_&#49436;&#44480;&#54252;&#49884;_&#44256;&#47161;&#54868;&#48708;&#50984;&#48143;&#45432;&#47161;&#54868;&#51648;&#49688;&#54788;&#54889;_20210831.csv', size=583)]</div>"
      ]
     },
     "metadata": {
      "application/vnd.databricks.v1+output": {
       "addedWidgets": {},
       "arguments": {},
       "data": "<div class='ansiout'>[FileInfo(path='dbfs:/FileStore/tables/&#44221;&#44592;&#46020;_&#51032;&#51221;&#48512;&#49884;_&#51064;&#44396;&#54788;&#54889;_20210910.csv', name='&#44221;&#44592;&#46020;_&#51032;&#51221;&#48512;&#49884;_&#51064;&#44396;&#54788;&#54889;_20210910.csv', size=1577),\n FileInfo(path='dbfs:/FileStore/tables/&#51228;&#51452;&#53945;&#48324;&#51088;&#52824;&#46020;_&#49436;&#44480;&#54252;&#49884;_&#44256;&#47161;&#54868;&#48708;&#50984;&#48143;&#45432;&#47161;&#54868;&#51648;&#49688;&#54788;&#54889;_20210831.csv', name='&#51228;&#51452;&#53945;&#48324;&#51088;&#52824;&#46020;_&#49436;&#44480;&#54252;&#49884;_&#44256;&#47161;&#54868;&#48708;&#50984;&#48143;&#45432;&#47161;&#54868;&#51648;&#49688;&#54788;&#54889;_20210831.csv', size=583)]</div>",
       "datasetInfos": [],
       "metadata": {},
       "removedWidgets": [],
       "type": "html"
      }
     },
     "output_type": "display_data"
    }
   ],
   "source": [
    "dbutils.fs.ls('/FileStore/tables/')"
   ]
  },
  {
   "cell_type": "code",
   "execution_count": 0,
   "metadata": {
    "application/vnd.databricks.v1+cell": {
     "inputWidgets": {},
     "nuid": "19b8f2fa-54fe-4675-ac1c-fe579ddb5165",
     "showTitle": false,
     "title": ""
    }
   },
   "outputs": [],
   "source": [
    "import os"
   ]
  },
  {
   "cell_type": "code",
   "execution_count": 0,
   "metadata": {
    "application/vnd.databricks.v1+cell": {
     "inputWidgets": {},
     "nuid": "59f52e46-a5bc-4aa6-95e4-5cd2a1658b0b",
     "showTitle": false,
     "title": ""
    }
   },
   "outputs": [
    {
     "data": {
      "text/html": [
       "<style scoped>\n",
       "  .ansiout {\n",
       "    display: block;\n",
       "    unicode-bidi: embed;\n",
       "    white-space: pre-wrap;\n",
       "    word-wrap: break-word;\n",
       "    word-break: break-all;\n",
       "    font-family: \"Source Code Pro\", \"Menlo\", monospace;;\n",
       "    font-size: 13px;\n",
       "    color: #555;\n",
       "    margin-left: 4px;\n",
       "    line-height: 19px;\n",
       "  }\n",
       "</style>\n",
       "<div class='ansiout'>&#65533;&#65533;&#65533;&#65533;&#65533;&#65533;&#65533;,&#65533;&alpha;&#65533;&#65533;&#65533;(&#65533;&#65533;),&#65533;&alpha;&#65533;&#65533;&#65533;(&#65533;&#65533;),&#65533;&alpha;&#65533;&#65533;&#65533;(&#65533;&#65533;),&#65533;&#65533;&#65533;&#65533;&#65533;&#65533;(&#65533;&#65533;),&#65533;&#65533;&#65533;&#65533;&#65533;&#65533;(&#65533;&#65533;),&#65533;&#65533;&#65533;&#65533;&#65533;&#65533;(&#65533;&#65533;),&#65533;&#65533;&#65533;&#65533;,&#65533;&#65533;&#65533;&#65533;&#65533;,&#65533;&#65533;&#65533;&#65533;&#65533;&#65533;&alpha;&#65533;,&#65533;&#65533;&#65533;&#65533;&#65533;&#65533;&#65533;&#65533;&#65533;,&#65533;&#65533;&#65533;&#65533;&#65533;&mu;&#65533;&#65533;&#65533;,&#65533;&mu;&#65533;&#65533;&#65533;&#557;&#65533;&#65533;&#547;,&#65533;&#65533;&#65533;&#65533;&#65533;&#881;&#65533;&#65533;&#65533;&#65533;&#65533;&#65533;&#65533;\n",
       "&#65533;&#65533;&#65533;&#65533;&#65533;&#65533;1&#65533;&#65533;,32292,16538,15754,6.97,3.57,3.4,104.98,19998,1.61,&#65533;&#65533;&#65533;&#65533;&#65533;&nu;&#65533;,&#65533;&omicron;&#65533;&#65533;&#65533;&#65533;&#496;&#65533;,031-828-2466,2021-09-10\n",
       "&#65533;&#65533;&#65533;&#65533;&#65533;&#65533;2&#65533;&#65533;,31380,15608,15772,6.77,3.37,3.4,98.96,16410,1.91,&#65533;&#65533;&#65533;&#65533;&#65533;&nu;&#65533;,&#65533;&omicron;&#65533;&#65533;&#65533;&#65533;&#496;&#65533;,031-828-2466,2021-09-10\n",
       "&#547;&#65533;&#65533;1&#65533;&#65533;,36124,17595,18529,7.8,3.8,4,94.96,15653,2.31,&#65533;&#65533;&#65533;&#65533;&#65533;&nu;&#65533;,&#65533;&omicron;&#65533;&#65533;&#65533;&#65533;&#496;&#65533;,031-828-2466,2021-09-10\n",
       "&#547;&#65533;&#65533;2&#65533;&#65533;,34957,16923,18034,7.54,3.65,3.89,93.84,13683,2.55,&#65533;&#65533;&#65533;&#65533;&#65533;&nu;&#65533;,&#65533;&omicron;&#65533;&#65533;&#65533;&#65533;&#496;&#65533;,031-828-2466,2021-09-10\n",
       "</div>"
      ]
     },
     "metadata": {
      "application/vnd.databricks.v1+output": {
       "addedWidgets": {},
       "arguments": {},
       "data": "<div class='ansiout'>&#65533;&#65533;&#65533;&#65533;&#65533;&#65533;&#65533;,&#65533;&alpha;&#65533;&#65533;&#65533;(&#65533;&#65533;),&#65533;&alpha;&#65533;&#65533;&#65533;(&#65533;&#65533;),&#65533;&alpha;&#65533;&#65533;&#65533;(&#65533;&#65533;),&#65533;&#65533;&#65533;&#65533;&#65533;&#65533;(&#65533;&#65533;),&#65533;&#65533;&#65533;&#65533;&#65533;&#65533;(&#65533;&#65533;),&#65533;&#65533;&#65533;&#65533;&#65533;&#65533;(&#65533;&#65533;),&#65533;&#65533;&#65533;&#65533;,&#65533;&#65533;&#65533;&#65533;&#65533;,&#65533;&#65533;&#65533;&#65533;&#65533;&#65533;&alpha;&#65533;,&#65533;&#65533;&#65533;&#65533;&#65533;&#65533;&#65533;&#65533;&#65533;,&#65533;&#65533;&#65533;&#65533;&#65533;&mu;&#65533;&#65533;&#65533;,&#65533;&mu;&#65533;&#65533;&#65533;&#557;&#65533;&#65533;&#547;,&#65533;&#65533;&#65533;&#65533;&#65533;&#881;&#65533;&#65533;&#65533;&#65533;&#65533;&#65533;&#65533;\n&#65533;&#65533;&#65533;&#65533;&#65533;&#65533;1&#65533;&#65533;,32292,16538,15754,6.97,3.57,3.4,104.98,19998,1.61,&#65533;&#65533;&#65533;&#65533;&#65533;&nu;&#65533;,&#65533;&omicron;&#65533;&#65533;&#65533;&#65533;&#496;&#65533;,031-828-2466,2021-09-10\n&#65533;&#65533;&#65533;&#65533;&#65533;&#65533;2&#65533;&#65533;,31380,15608,15772,6.77,3.37,3.4,98.96,16410,1.91,&#65533;&#65533;&#65533;&#65533;&#65533;&nu;&#65533;,&#65533;&omicron;&#65533;&#65533;&#65533;&#65533;&#496;&#65533;,031-828-2466,2021-09-10\n&#547;&#65533;&#65533;1&#65533;&#65533;,36124,17595,18529,7.8,3.8,4,94.96,15653,2.31,&#65533;&#65533;&#65533;&#65533;&#65533;&nu;&#65533;,&#65533;&omicron;&#65533;&#65533;&#65533;&#65533;&#496;&#65533;,031-828-2466,2021-09-10\n&#547;&#65533;&#65533;2&#65533;&#65533;,34957,16923,18034,7.54,3.65,3.89,93.84,13683,2.55,&#65533;&#65533;&#65533;&#65533;&#65533;&nu;&#65533;,&#65533;&omicron;&#65533;&#65533;&#65533;&#65533;&#496;&#65533;,031-828-2466,2021-09-10\n</div>",
       "datasetInfos": [],
       "metadata": {},
       "removedWidgets": [],
       "type": "html"
      }
     },
     "output_type": "display_data"
    }
   ],
   "source": [
    "myRdd1=spark.sparkContext\\\n",
    "    .textFile(os.path.join(\"/FileStore/tables/\",\"경기도_의정부시_인구현황_20210910.csv\"))\n",
    "for i in myRdd1.take(5):\n",
    "    print (i)"
   ]
  },
  {
   "cell_type": "code",
   "execution_count": 0,
   "metadata": {
    "application/vnd.databricks.v1+cell": {
     "inputWidgets": {},
     "nuid": "52e02163-7428-43a0-9f66-0405984191ca",
     "showTitle": false,
     "title": ""
    }
   },
   "outputs": [
    {
     "data": {
      "text/html": [
       "<style scoped>\n",
       "  .ansiout {\n",
       "    display: block;\n",
       "    unicode-bidi: embed;\n",
       "    white-space: pre-wrap;\n",
       "    word-wrap: break-word;\n",
       "    word-break: break-all;\n",
       "    font-family: \"Source Code Pro\", \"Menlo\", monospace;;\n",
       "    font-size: 13px;\n",
       "    color: #555;\n",
       "    margin-left: 4px;\n",
       "    line-height: 19px;\n",
       "  }\n",
       "</style>\n",
       "<div class='ansiout'>&#65533;&#65533;&#65533;&#65533;&#65533;&#65533;,&#65533;&#65533;&#65533;&#65533;&#65533;&#65533;&#65533;&#65533; &#65533;&alpha;&#65533;&#65533;&#65533;,65&#65533;&#65533;&#65533;&#827;&#65533; &#65533;&alpha;&#65533;&#65533;&#65533; ,14&#65533;&#65533;&#65533;&#65533;&#65533;&#65533; &#65533;&alpha;&#65533;&#65533;&#65533;,&#65533;&#65533;&#65533;&#557;&#65533;&#65533;&#65533;&#65533;,&#65533;&#65533;&#65533;&#557;&#65533;&#65533;&#65533;&#65533;,&#65533;&#65533;&#65533;&#65533;&#65533;&#881;&#65533;&#65533;&#65533;&#65533;&#65533;&#65533;&#65533;\n",
       "2012,154057,25826,22861,16.76,112.97,2021-08-31\n",
       "2013,155641,26936,22393,17.31,120.29,2021-08-31\n",
       "2014,158512,27877,22058,17.59,126.38,2021-08-31\n",
       "2015,164519,28979,22362,17.61,129.59,2021-08-31\n",
       "</div>"
      ]
     },
     "metadata": {
      "application/vnd.databricks.v1+output": {
       "addedWidgets": {},
       "arguments": {},
       "data": "<div class='ansiout'>&#65533;&#65533;&#65533;&#65533;&#65533;&#65533;,&#65533;&#65533;&#65533;&#65533;&#65533;&#65533;&#65533;&#65533; &#65533;&alpha;&#65533;&#65533;&#65533;,65&#65533;&#65533;&#65533;&#827;&#65533; &#65533;&alpha;&#65533;&#65533;&#65533; ,14&#65533;&#65533;&#65533;&#65533;&#65533;&#65533; &#65533;&alpha;&#65533;&#65533;&#65533;,&#65533;&#65533;&#65533;&#557;&#65533;&#65533;&#65533;&#65533;,&#65533;&#65533;&#65533;&#557;&#65533;&#65533;&#65533;&#65533;,&#65533;&#65533;&#65533;&#65533;&#65533;&#881;&#65533;&#65533;&#65533;&#65533;&#65533;&#65533;&#65533;\n2012,154057,25826,22861,16.76,112.97,2021-08-31\n2013,155641,26936,22393,17.31,120.29,2021-08-31\n2014,158512,27877,22058,17.59,126.38,2021-08-31\n2015,164519,28979,22362,17.61,129.59,2021-08-31\n</div>",
       "datasetInfos": [],
       "metadata": {},
       "removedWidgets": [],
       "type": "html"
      }
     },
     "output_type": "display_data"
    }
   ],
   "source": [
    "myRdd1=spark.sparkContext\\\n",
    "    .textFile(os.path.join(\"/FileStore/tables/\",\"제주특별자치도_서귀포시_고령화비율및노령화지수현황_20210831.csv\"))\n",
    "for i in myRdd1.take(5):\n",
    "    print (i)"
   ]
  },
  {
   "cell_type": "markdown",
   "metadata": {},
   "source": [
    "### 한글이 깨진 결과가 나오게 된다 \n",
    "* 이유: 한글은 UTF-8등의 인코딩을 사용해야 깨지지 않는데 csv파일을 메모장으로 확인해보니 ANSI로 되어있었다. \n"
   ]
  }
 ],
 "metadata": {
  "application/vnd.databricks.v1+notebook": {
   "dashboards": [],
   "language": "python",
   "notebookMetadata": {
    "pythonIndentUnit": 2
   },
   "notebookName": "3week",
   "notebookOrigID": 2745594643097019,
   "widgets": {}
  },
  "kernelspec": {
   "display_name": "Python 3",
   "language": "python",
   "name": "python3"
  },
  "language_info": {
   "codemirror_mode": {
    "name": "ipython",
    "version": 3
   },
   "file_extension": ".py",
   "mimetype": "text/x-python",
   "name": "python",
   "nbconvert_exporter": "python",
   "pygments_lexer": "ipython3",
   "version": "3.8.8"
  }
 },
 "nbformat": 4,
 "nbformat_minor": 1
}

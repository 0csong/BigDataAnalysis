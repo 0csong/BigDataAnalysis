{
  "nbformat": 4,
  "nbformat_minor": 0,
  "metadata": {
    "colab": {
      "name": "기말고사.ipynb",
      "provenance": [],
      "collapsed_sections": []
    },
    "kernelspec": {
      "name": "python3",
      "display_name": "Python 3"
    },
    "language_info": {
      "name": "python"
    }
  },
  "cells": [
    {
      "cell_type": "markdown",
      "source": [
        "## 201710781 송영도"
      ],
      "metadata": {
        "id": "-fQVGn0ZlqX8"
      }
    },
    {
      "cell_type": "code",
      "execution_count": 1,
      "metadata": {
        "colab": {
          "base_uri": "https://localhost:8080/"
        },
        "id": "UT1xwW12K7aH",
        "outputId": "30b9c0f9-ec48-4251-9202-2b69877f80b1"
      },
      "outputs": [
        {
          "output_type": "stream",
          "name": "stdout",
          "text": [
            "Drive already mounted at /content/gdrive; to attempt to forcibly remount, call drive.mount(\"/content/gdrive\", force_remount=True).\n"
          ]
        }
      ],
      "source": [
        "from google.colab import drive\n",
        "drive.mount('/content/gdrive')"
      ]
    },
    {
      "cell_type": "code",
      "source": [
        "!pip install pyspark"
      ],
      "metadata": {
        "colab": {
          "base_uri": "https://localhost:8080/"
        },
        "id": "kSnV7QQoLcLx",
        "outputId": "da5ac903-3b95-491c-afb2-c89f479880e1"
      },
      "execution_count": 2,
      "outputs": [
        {
          "output_type": "stream",
          "name": "stdout",
          "text": [
            "Requirement already satisfied: pyspark in /usr/local/lib/python3.7/dist-packages (3.2.0)\n",
            "Requirement already satisfied: py4j==0.10.9.2 in /usr/local/lib/python3.7/dist-packages (from pyspark) (0.10.9.2)\n"
          ]
        }
      ]
    },
    {
      "cell_type": "code",
      "source": [
        "import os\n",
        "from pyspark.context import SparkContext\n",
        "from pyspark.sql.session import SparkSession\n",
        "sc = SparkContext('local')\n",
        "spark = SparkSession(sc)"
      ],
      "metadata": {
        "id": "FvRYe3VkLcN2"
      },
      "execution_count": 3,
      "outputs": []
    },
    {
      "cell_type": "code",
      "source": [
        "print(spark)"
      ],
      "metadata": {
        "colab": {
          "base_uri": "https://localhost:8080/"
        },
        "id": "bIk83f5ELcQH",
        "outputId": "d1ace645-577d-4d77-c252-f0deae4a3679"
      },
      "execution_count": 4,
      "outputs": [
        {
          "output_type": "stream",
          "name": "stdout",
          "text": [
            "<pyspark.sql.session.SparkSession object at 0x7f509e5d2090>\n"
          ]
        }
      ]
    },
    {
      "cell_type": "markdown",
      "source": [
        "## 문제: 서울시 지하철 호선별 역별 유/무임 승하차 인원 분석\n",
        "\n",
        "\n",
        "\n",
        "'서울시 지하철 호선별 역별 유/무임 승하차 인원 정보'를 csv파일로 내려받아서 분석하세요\n",
        "\n",
        "(https://data.seoul.go.kr/dataList/OA-12251/S/1/datasetView.do?tab=S)\n",
        "\n"
      ],
      "metadata": {
        "id": "aGE4oHssM4sf"
      }
    },
    {
      "cell_type": "markdown",
      "source": [
        " (1-1) '서울시 지하철 호선별 역별 유_무임 승하차 인원 정보.csv'를 데이터프레임으로 읽고, 스키마를 출력"
      ],
      "metadata": {
        "id": "l89d6XdYM7Yh"
      }
    },
    {
      "cell_type": "code",
      "source": [
        "myDf = spark\\\n",
        "        .read.format('com.databricks.spark.csv')\\\n",
        "        .options(header='true', inferschema='true')\\\n",
        "        .load(os.path.join('/content/gdrive/MyDrive/bigdata/서울시 지하철 호선별 역별 유_무임 승하차 인원 정보.csv'))"
      ],
      "metadata": {
        "id": "u1dRJ9_UL1lE"
      },
      "execution_count": 5,
      "outputs": []
    },
    {
      "cell_type": "markdown",
      "source": [
        "## 답"
      ],
      "metadata": {
        "id": "7karnY7kakQd"
      }
    },
    {
      "cell_type": "code",
      "source": [
        "myDf.printSchema()"
      ],
      "metadata": {
        "id": "fHyIouvVL1nW",
        "colab": {
          "base_uri": "https://localhost:8080/"
        },
        "outputId": "8ad45fc7-2528-46db-fd62-d0123a264ae5"
      },
      "execution_count": 6,
      "outputs": [
        {
          "output_type": "stream",
          "name": "stdout",
          "text": [
            "root\n",
            " |-- 사용월: integer (nullable = true)\n",
            " |-- 호선명: string (nullable = true)\n",
            " |-- 지하철역: string (nullable = true)\n",
            " |-- 유임승차인원: integer (nullable = true)\n",
            " |-- 무임승차인원: integer (nullable = true)\n",
            " |-- 유임하차인원: integer (nullable = true)\n",
            " |-- 무임하차인원: integer (nullable = true)\n",
            " |-- 작업일자: integer (nullable = true)\n",
            "\n"
          ]
        }
      ]
    },
    {
      "cell_type": "markdown",
      "source": [
        "* (1-2) 건수를 출력"
      ],
      "metadata": {
        "id": "O9FFFTAtOID7"
      }
    },
    {
      "cell_type": "markdown",
      "source": [
        "## 답"
      ],
      "metadata": {
        "id": "i5qLZMZkalQC"
      }
    },
    {
      "cell_type": "code",
      "source": [
        "myDf.count()"
      ],
      "metadata": {
        "id": "u3f9L-7kL1px",
        "colab": {
          "base_uri": "https://localhost:8080/"
        },
        "outputId": "e0ec14d8-11eb-49ed-dd0d-fa4080075dcb"
      },
      "execution_count": 7,
      "outputs": [
        {
          "output_type": "execute_result",
          "data": {
            "text/plain": [
              "55171"
            ]
          },
          "metadata": {},
          "execution_count": 7
        }
      ]
    },
    {
      "cell_type": "markdown",
      "source": [
        "(1-3) '호선명'별 '유임승차인원'의 순위를 매기고, 그 결과를 30줄 출력 (마지막 'rank' 컬럼)\n",
        "\n",
        "```"
      ],
      "metadata": {
        "id": "KQPgbuDxOjgN"
      }
    },
    {
      "cell_type": "markdown",
      "source": [
        "## 답"
      ],
      "metadata": {
        "id": "2YANPSumaqJO"
      }
    },
    {
      "cell_type": "code",
      "source": [
        "from pyspark.sql.functions import rank\n",
        "from pyspark.sql import functions as F\n",
        "from pyspark.sql.window import Window\n",
        "people = Window().partitionBy(['호선명']).orderBy(F.desc('유임승차인원'))\n",
        "myDf.withColumn(\"rank\",F.rank().over(people)).show(30)"
      ],
      "metadata": {
        "id": "cDll3hfDL1wv",
        "colab": {
          "base_uri": "https://localhost:8080/"
        },
        "outputId": "f767f3f0-d5a4-4f6b-8ba4-8da325e03750"
      },
      "execution_count": 8,
      "outputs": [
        {
          "output_type": "stream",
          "name": "stdout",
          "text": [
            "+------+------+--------+------------+------------+------------+------------+--------+----+\n",
            "|사용월|호선명|지하철역|유임승차인원|무임승차인원|유임하차인원|무임하차인원|작업일자|rank|\n",
            "+------+------+--------+------------+------------+------------+------------+--------+----+\n",
            "|201501| 1호선|  서울역|     1890411|     1667163|      238403|      220008|20150206|   1|\n",
            "|201503| 1호선|  서울역|     1880246|     1682965|      251663|      232039|20150408|   2|\n",
            "|201512| 1호선|  서울역|     1795435|      235606|     1574932|      216587|20160108|   3|\n",
            "|201611| 1호선|  서울역|     1764932|      233613|     1551558|      214816|20161208|   4|\n",
            "|201605| 1호선|  서울역|     1748250|      234803|     1537480|      217300|20160608|   5|\n",
            "|201505| 1호선|  서울역|     1729959|     1528601|      240726|      224543|20150608|   6|\n",
            "|201511| 1호선|  서울역|     1728236|     1520608|      225080|      208173|20151204|   7|\n",
            "|201603| 1호선|  서울역|     1726590|      233961|     1520626|      214752|20160408|   8|\n",
            "|201610| 1호선|  서울역|     1723041|      232308|     1514424|      214146|20161108|   9|\n",
            "|201610| 1호선|  서울역|     1723041|      232308|     1514424|      214146|20161108|   9|\n",
            "|201612| 1호선|  서울역|     1709077|      226036|     1506328|      206356|20170108|  11|\n",
            "|201510| 1호선|  서울역|     1702655|     1501987|      243867|      226844|20151108|  12|\n",
            "|201604| 1호선|  서울역|     1698080|      237844|     1498158|      220036|20160508|  13|\n",
            "|201502| 1호선|  서울역|     1688548|     1490571|      203854|      187730|20150311|  14|\n",
            "|201601| 1호선|  서울역|     1682629|      208109|     1440960|      190846|20160208|  15|\n",
            "|201504| 1호선|  서울역|     1676648|     1520709|      240102|      225069|20150508|  16|\n",
            "|201607| 1호선|  서울역|     1673686|      212894|     1447588|      196344|20160808|  17|\n",
            "|201608| 1호선|  서울역|     1672795|      214384|     1434594|      197604|20160908|  18|\n",
            "|201606| 1호선|  서울역|     1665738|      221157|     1456754|      204446|20160708|  19|\n",
            "|201811| 1호선|  서울역|     1618328|      230879|     1495023|      220568|20181203|  20|\n",
            "|201609| 1호선|  서울역|     1611633|      210972|     1413115|      194596|20161008|  21|\n",
            "|201609| 1호선|  서울역|     1611633|      210972|     1413115|      194596|20161008|  21|\n",
            "|201602| 1호선|  서울역|     1601463|      193565|     1384611|      177354|20160308|  23|\n",
            "|201810| 1호선|  서울역|     1592325|      241867|     1481052|      234849|20181103|  24|\n",
            "|201912| 1호선|  서울역|     1586305|      232973|     1487492|      223784|20200103|  25|\n",
            "|201508| 1호선|  서울역|     1579775|     1378184|      218120|      201208|20150908|  26|\n",
            "|201910| 1호선|  서울역|     1575010|      256847|     1492280|      250766|20191103|  27|\n",
            "|201812| 1호선|  서울역|     1573438|      227511|     1466566|      219080|20190103|  28|\n",
            "|201905| 1호선|  서울역|     1568570|      247801|     1489737|      242107|20190603|  29|\n",
            "|201703| 1호선|  서울역|     1561293|      228799|     1408058|      213739|20170403|  30|\n",
            "+------+------+--------+------------+------------+------------+------------+--------+----+\n",
            "only showing top 30 rows\n",
            "\n"
          ]
        }
      ]
    },
    {
      "cell_type": "markdown",
      "source": [
        "* (1-4) '호선명'별 '유임승차인원'이 순위가 가장 높은 경우만 30건 출력 (마지막 'rank' 컬럼이 모두 1)\n",
        "\n",
        "```"
      ],
      "metadata": {
        "id": "BLx4ERZhTkoe"
      }
    },
    {
      "cell_type": "code",
      "source": [
        "people = Window().partitionBy(['호선명']).orderBy(F.desc('유임승차인원'))"
      ],
      "metadata": {
        "id": "KWe8QKBwVXXH"
      },
      "execution_count": 9,
      "outputs": []
    },
    {
      "cell_type": "markdown",
      "source": [
        "## 답"
      ],
      "metadata": {
        "id": "QBaPXahIahlZ"
      }
    },
    {
      "cell_type": "code",
      "source": [
        "myDf.withColumn(\"rank\",F.rank().over(people))\\\n",
        "    .filter(F.col(\"rank\")==1)\\\n",
        "    .show(30)"
      ],
      "metadata": {
        "id": "2T7o1QtRL1zG",
        "colab": {
          "base_uri": "https://localhost:8080/"
        },
        "outputId": "a533bbe9-4d8d-4f5f-dedf-766d3257da7c"
      },
      "execution_count": 10,
      "outputs": [
        {
          "output_type": "stream",
          "name": "stdout",
          "text": [
            "+------+--------------+--------------------+------------+------------+------------+------------+--------+----+\n",
            "|사용월|        호선명|            지하철역|유임승차인원|무임승차인원|유임하차인원|무임하차인원|작업일자|rank|\n",
            "+------+--------------+--------------------+------------+------------+------------+------------+--------+----+\n",
            "|201501|         1호선|              서울역|     1890411|     1667163|      238403|      220008|20150206|   1|\n",
            "|201501|         2호선|                강남|     3266271|     3353256|      164508|      149186|20150206|   1|\n",
            "|201712|         3호선|          고속터미널|     1843154|      200178|     1760221|      189058|20180103|   1|\n",
            "|201512|         4호선|                혜화|     1461258|      138010|     1521596|      138133|20160108|   1|\n",
            "|201612|         5호선|광화문(세종문화회관)|     1328714|      109907|     1404285|      115604|20170108|   1|\n",
            "|201710|         6호선|              이태원|      580419|       36941|      680830|       38853|20171103|   1|\n",
            "|201512|         7호선|      가산디지털단지|     1245731|       82588|     1243464|       78424|20160108|   1|\n",
            "|201907|         8호선|                문정|      542664|       57243|      566478|       56677|20190803|   1|\n",
            "|201907|         8호선|                문정|      542664|       57243|      566478|       56677|20190803|   1|\n",
            "|201907|         8호선|                문정|      542664|       57243|      566478|       56677|20190803|   1|\n",
            "|201912|         9호선|              신논현|     1063535|       65383|     1095786|       62732|20200103|   1|\n",
            "|201912|  9호선2~3단계|              봉은사|      613139|       56618|      632524|       53899|20200103|   1|\n",
            "|201807|    9호선2단계|              봉은사|      452395|       43126|      434135|       40845|20180803|   1|\n",
            "|201910|        경강선|            경기광주|      201936|       32028|      186835|       32156|20191103|   1|\n",
            "|201512|        경부선|              영등포|     1439049|      280623|     1545631|      280969|20160108|   1|\n",
            "|201605|        경원선|              의정부|      626917|      130279|      662652|      131349|20160608|   1|\n",
            "|201703|        경의선|                일산|      257203|       59955|      247634|       60582|20170403|   1|\n",
            "|201603|        경인선|                부천|     1173740|      212425|     1160226|      212450|20160408|   1|\n",
            "|201905|        경춘선|            평내호평|      155530|       47748|      155068|       45489|20190603|   1|\n",
            "|201708|공항철도 1호선|        인천국제공항|      545461|       59577|      508252|       57008|20170903|   1|\n",
            "|201512|        과천선|                범계|      916951|      111589|      919452|      110456|20160108|   1|\n",
            "|201512|        분당선|                야탑|      769442|      157846|      809197|      156034|20160108|   1|\n",
            "|201905|        수인선|              인하대|      200474|       28246|      189885|       26442|20190603|   1|\n",
            "|201603|        안산선|              상록수|      632180|       89801|      619361|       90941|20160408|   1|\n",
            "|201905|    우이신설선|        북한산보국문|      161867|       45041|      141742|       45814|20190603|   1|\n",
            "|201605|        일산선|                화정|      515925|      139163|      535460|      142410|20160608|   1|\n",
            "|201905|        장항선|                아산|      109243|       12901|       93737|       11808|20190603|   1|\n",
            "|201603|        중앙선|                회기|      914516|      135656|      900142|      135321|20160408|   1|\n",
            "+------+--------------+--------------------+------------+------------+------------+------------+--------+----+\n",
            "\n"
          ]
        }
      ]
    },
    {
      "cell_type": "markdown",
      "source": [
        "* (1-5) '호선명'별 '유임승차인원'의 zscore를 계산하고 출력. 윈도우 함수를 사용하여야 한다.\n",
        "\n",
        "```"
      ],
      "metadata": {
        "id": "cBizUiyYViEs"
      }
    },
    {
      "cell_type": "code",
      "source": [
        "from scipy import stats\n",
        "import sys\n",
        "\n",
        "byAll = Window.rowsBetween(-sys.maxsize, sys.maxsize)"
      ],
      "metadata": {
        "id": "p3bY1YmdL11R"
      },
      "execution_count": 11,
      "outputs": []
    },
    {
      "cell_type": "code",
      "source": [
        "from pyspark.sql import functions as F\n",
        "myDf = myDf.withColumn(\"meanBYLine\", F.avg(myDf['유임승차인원']).over(byAll))"
      ],
      "metadata": {
        "id": "nXqOybVzL13w"
      },
      "execution_count": 12,
      "outputs": []
    },
    {
      "cell_type": "code",
      "source": [
        "myDf = myDf.withColumn(\"sdByLine\", F.stddev(myDf['유임승차인원']).over(byAll))"
      ],
      "metadata": {
        "id": "h8MB2Mq1L16G"
      },
      "execution_count": 13,
      "outputs": []
    },
    {
      "cell_type": "code",
      "source": [
        "myDf = myDf.withColumn(\"zscore\", (F.col('유임승차인원')-F.col('meanBYLine'))/F.col('sdByLine'))"
      ],
      "metadata": {
        "id": "Zvb2IeKEL18k"
      },
      "execution_count": 14,
      "outputs": []
    },
    {
      "cell_type": "markdown",
      "source": [
        "## 답"
      ],
      "metadata": {
        "id": "xjeG7_lTafZc"
      }
    },
    {
      "cell_type": "code",
      "source": [
        "myDf.select(\"호선명\",\"유임승차인원\",\"meanBYLine\",\"sdByLine\",\"zscore\").show()"
      ],
      "metadata": {
        "colab": {
          "base_uri": "https://localhost:8080/"
        },
        "id": "C1zQM1n3WyPK",
        "outputId": "b26d5bfc-1a79-4d21-8903-8707aa457a0c"
      },
      "execution_count": 15,
      "outputs": [
        {
          "output_type": "stream",
          "name": "stdout",
          "text": [
            "+------+------------+-----------------+-----------------+--------------------+\n",
            "|호선명|유임승차인원|       meanBYLine|         sdByLine|              zscore|\n",
            "+------+------------+-----------------+-----------------+--------------------+\n",
            "| 1호선|      516353|302546.6513023146|322895.6016002317|  0.6621531778013912|\n",
            "| 1호선|      119396|302546.6513023146|322895.6016002317| -0.5672132119317885|\n",
            "| 1호선|      271006|302546.6513023146|322895.6016002317|-0.09768064707602991|\n",
            "| 1호선|      315789|302546.6513023146|322895.6016002317| 0.04101123902604408|\n",
            "| 1호선|      797960|302546.6513023146|322895.6016002317|  1.5342833604498682|\n",
            "| 1호선|      222630|302546.6513023146|322895.6016002317| -0.2474999687399187|\n",
            "| 1호선|      210503|302546.6513023146|322895.6016002317|-0.28505699937118173|\n",
            "| 1호선|      433793|302546.6513023146|322895.6016002317|  0.4064668210011047|\n",
            "| 1호선|      362377|302546.6513023146|322895.6016002317| 0.18529316720690342|\n",
            "| 1호선|     1086374|302546.6513023146|322895.6016002317|  2.4274946602342413|\n",
            "| 2호선|      492806|302546.6513023146|322895.6016002317|  0.5892286787270653|\n",
            "| 2호선|      920409|302546.6513023146|322895.6016002317|  1.9135050017269792|\n",
            "| 2호선|      307112|302546.6513023146|322895.6016002317|0.014138776357002341|\n",
            "| 2호선|     1160908|302546.6513023146|322895.6016002317|   2.658324685885314|\n",
            "| 2호선|      218954|302546.6513023146|322895.6016002317|  -0.258884453328071|\n",
            "| 2호선|      734616|302546.6513023146|322895.6016002317|  1.3381084987110439|\n",
            "| 2호선|      329837|302546.6513023146|322895.6016002317| 0.08451756097772073|\n",
            "| 2호선|      481393|302546.6513023146|322895.6016002317|  0.5538828891175489|\n",
            "| 2호선|      798249|302546.6513023146|322895.6016002317|  1.5351783865777182|\n",
            "| 2호선|     1528201|302546.6513023146|322895.6016002317|  3.7958223730007163|\n",
            "+------+------------+-----------------+-----------------+--------------------+\n",
            "only showing top 20 rows\n",
            "\n"
          ]
        }
      ]
    },
    {
      "cell_type": "markdown",
      "source": [
        "### 문제2: 회귀분석\n",
        "\n",
        "\n",
        "\n",
        "sklearn의 make_regression함수를 다음과 같이 사용하여 데이터를 생성하고, 문제를 푸세요.\n",
        "\n",
        "\n",
        "\n",
        "```\n",
        "\n",
        "from sklearn.datasets import make_regression\n",
        "\n",
        "X, y, coef = make_regression(n_samples = 200,\n",
        "\n",
        "                            n_features = 4,\n",
        "\n",
        "                            n_informative = 3,\n",
        "\n",
        "                            n_targets = 1,\n",
        "\n",
        "                            noise = 0.0,\n",
        "\n",
        "                            coef = True) ... [식-1]"
      ],
      "metadata": {
        "id": "v531EtEhXQGj"
      }
    },
    {
      "cell_type": "code",
      "source": [
        "from sklearn.datasets import make_regression\n",
        "\n",
        "X, y, coef = make_regression(n_samples = 200,\n",
        "\n",
        "                            n_features = 4,\n",
        "\n",
        "                            n_informative = 3,\n",
        "\n",
        "                            n_targets = 1,\n",
        "\n",
        "                            noise = 0.0,\n",
        "\n",
        "                            coef = True)"
      ],
      "metadata": {
        "id": "1iv46XDDL1_O"
      },
      "execution_count": 16,
      "outputs": []
    },
    {
      "cell_type": "markdown",
      "source": [
        "* (2-1) gradient 방법으로 회귀식을 계산하고, 계수를 출력.\n",
        "\n",
        "또한 [식-1]의 'coef'를 출력하고, gradient방법에서 도출된 계수와 일치하는지 비교하세요.\n",
        "\n",
        "주의: 반복이 많으면 감점 (예를 들어, 1000 이상이면 많다고 간주할 것임)"
      ],
      "metadata": {
        "id": "M0N-xba4XZWb"
      }
    },
    {
      "cell_type": "code",
      "source": [
        "import numpy as np\n",
        "alpha = 0.02\n",
        "theta=np.array(np.ones([X.shape[1]]))"
      ],
      "metadata": {
        "id": "Le-u6MyrL2At"
      },
      "execution_count": 17,
      "outputs": []
    },
    {
      "cell_type": "code",
      "source": [
        "def gradientDescent(x,y,theta,alpha,numIterations):\n",
        "    for i in range(numIterations):\n",
        "        #i+=1\n",
        "        h=np.dot(x,theta)\n",
        "        error=h-y\n",
        "        cost=np.sum((h-y)**2)/len(x) #full MSE\n",
        "        gradient=np.dot(x.T,error)*2/len(x) #w0,w1\n",
        "        theta-=alpha*gradient\n",
        "        if i%100==0:\n",
        "            print(\"Iteration {0} | theta{1} Cost {2:.5f}\".format(i,theta,cost))\n",
        "\n",
        "    return theta"
      ],
      "metadata": {
        "id": "9ZZyIuzIXc2c"
      },
      "execution_count": 18,
      "outputs": []
    },
    {
      "cell_type": "code",
      "source": [
        "w4,w3,w2,w1=gradientDescent(X, y, theta, alpha, 800) "
      ],
      "metadata": {
        "colab": {
          "base_uri": "https://localhost:8080/"
        },
        "id": "3xouc_W8XqC4",
        "outputId": "43fe6400-02e3-4688-b362-207eb89f307f"
      },
      "execution_count": 19,
      "outputs": [
        {
          "output_type": "stream",
          "name": "stdout",
          "text": [
            "Iteration 0 | theta[1.53240164 1.77322485 0.96944229 2.15280328] Cost 1239.78109\n",
            "Iteration 100 | theta[14.39005865 21.36518165  0.08880483 23.59556471] Cost 0.38686\n",
            "Iteration 200 | theta[1.47569948e+01 2.18678653e+01 5.76541149e-03 2.36284289e+01] Cost 0.00048\n",
            "Iteration 300 | theta[1.47722244e+01 2.18832090e+01 2.87227992e-04 2.36234881e+01] Cost 0.00000\n",
            "Iteration 400 | theta[1.47728851e+01 2.18837360e+01 1.28895232e-05 2.36232330e+01] Cost 0.00000\n",
            "Iteration 500 | theta[1.47729135e+01 2.18837556e+01 5.53783647e-07 2.36232220e+01] Cost 0.00000\n",
            "Iteration 600 | theta[1.47729147e+01 2.18837564e+01 2.33555489e-08 2.36232215e+01] Cost 0.00000\n",
            "Iteration 700 | theta[1.47729147e+01 2.18837564e+01 9.77377583e-10 2.36232215e+01] Cost 0.00000\n"
          ]
        }
      ]
    },
    {
      "cell_type": "markdown",
      "source": [
        "## 답\n"
      ],
      "metadata": {
        "id": "gUHdYAo8aXZq"
      }
    },
    {
      "cell_type": "code",
      "source": [
        "print(\"예측 결과:      %.8f  %.8f  %.8f  %.8f\"%(w4,w3,w2,w1))\n",
        "print(\"[식-1의] coef:  %.8f  %.8f  %.8f  %.8f\"%(coef[0],coef[1],coef[2],coef[3]))"
      ],
      "metadata": {
        "colab": {
          "base_uri": "https://localhost:8080/"
        },
        "id": "69s4SsqhXqFJ",
        "outputId": "77042ada-f115-41ea-c4a9-54f95ddadf7d"
      },
      "execution_count": 20,
      "outputs": [
        {
          "output_type": "stream",
          "name": "stdout",
          "text": [
            "예측 결과:      14.77291475  21.88375640  0.00000000  23.62322147\n",
            "[식-1의] coef:  14.77291475  21.88375640  0.00000000  23.62322147\n"
          ]
        }
      ]
    },
    {
      "cell_type": "markdown",
      "source": [
        "* (2-2) 스파크 데이터프레임을 생성 (이후 계속 스파크로 푸세요)"
      ],
      "metadata": {
        "id": "ovnV3fuBXg17"
      }
    },
    {
      "cell_type": "code",
      "source": [
        "import pandas as pd\n",
        "pdDf=pd.DataFrame(X)\n",
        "pdDf['y']=y"
      ],
      "metadata": {
        "id": "JxnGwcr-Xc4n"
      },
      "execution_count": 21,
      "outputs": []
    },
    {
      "cell_type": "markdown",
      "source": [
        "## 답"
      ],
      "metadata": {
        "id": "jszXv-SmaTBs"
      }
    },
    {
      "cell_type": "code",
      "source": [
        "Df=spark.createDataFrame(pdDf)\n",
        "Df.printSchema()"
      ],
      "metadata": {
        "colab": {
          "base_uri": "https://localhost:8080/"
        },
        "id": "g97pwL_eXc7P",
        "outputId": "8c1d8448-b883-4d98-aeff-10bac2720f24"
      },
      "execution_count": 22,
      "outputs": [
        {
          "output_type": "stream",
          "name": "stdout",
          "text": [
            "root\n",
            " |-- 0: double (nullable = true)\n",
            " |-- 1: double (nullable = true)\n",
            " |-- 2: double (nullable = true)\n",
            " |-- 3: double (nullable = true)\n",
            " |-- y: double (nullable = true)\n",
            "\n"
          ]
        }
      ]
    },
    {
      "cell_type": "code",
      "source": [
        "Df = Df.withColumnRenamed(\"0\", \"x0\")\n",
        "Df = Df.withColumnRenamed(\"1\", \"x1\")\n",
        "Df = Df.withColumnRenamed(\"2\", \"x2\")\n",
        "Df = Df.withColumnRenamed(\"3\", \"x3\")"
      ],
      "metadata": {
        "id": "DORGnZMwX2Yj"
      },
      "execution_count": 23,
      "outputs": []
    },
    {
      "cell_type": "code",
      "source": [
        "Df.show(5)"
      ],
      "metadata": {
        "colab": {
          "base_uri": "https://localhost:8080/"
        },
        "id": "0YLGdF3CX2gd",
        "outputId": "82b46fd7-2a8d-485b-ce53-1e360bf5041a"
      },
      "execution_count": 24,
      "outputs": [
        {
          "output_type": "stream",
          "name": "stdout",
          "text": [
            "+-------------------+--------------------+--------------------+--------------------+-------------------+\n",
            "|                 x0|                  x1|                  x2|                  x3|                  y|\n",
            "+-------------------+--------------------+--------------------+--------------------+-------------------+\n",
            "|-0.6876101875490584|   1.372576235936033| -0.2652527579052315|-0.11988224867568169| 17.047112397237832|\n",
            "|-0.9723887001843645| 0.43960266345246296|-0.39358285522628633|0.026770856506504768| -4.112443899890961|\n",
            "|  1.787031221228319|  0.6154161990207595|-0.01391004386124...| -0.5094943146912125| 27.831381039780965|\n",
            "|-1.0111906162480102|  1.2871784047051713|  -1.255779476136069| -0.3765050117960871| 4.3358046045742515|\n",
            "|0.36918369994214356|-0.10486519011925523|   1.937964329365381| -1.0332602288164097|-21.249860173633188|\n",
            "+-------------------+--------------------+--------------------+--------------------+-------------------+\n",
            "only showing top 5 rows\n",
            "\n"
          ]
        }
      ]
    },
    {
      "cell_type": "markdown",
      "source": [
        "* (2-3) 훈련, 테스트 데이터를 6:4 비율로 분리하고,"
      ],
      "metadata": {
        "id": "w6qzLVSEXiw3"
      }
    },
    {
      "cell_type": "markdown",
      "source": [
        "## 답"
      ],
      "metadata": {
        "id": "XB9R9UQ1aPxJ"
      }
    },
    {
      "cell_type": "code",
      "source": [
        "(trainDf, testDf) = Df.randomSplit([0.6, 0.4])"
      ],
      "metadata": {
        "id": "xuhNZUQfXc9d"
      },
      "execution_count": 25,
      "outputs": []
    },
    {
      "cell_type": "markdown",
      "source": [
        " (2-4) 회귀모델링하고 계수와 절편 출력. \n",
        "\n",
        "다음과 같이 실제와 예측을 10줄 출력."
      ],
      "metadata": {
        "id": "rvEWjgbRXkBK"
      }
    },
    {
      "cell_type": "code",
      "source": [
        "from pyspark.ml.feature import VectorAssembler\n",
        "va = VectorAssembler(inputCols = [\"x0\",\"x1\",\"x2\",\"x3\"],\n",
        "                                   outputCol = 'features')"
      ],
      "metadata": {
        "id": "TNclYFMNXc_S"
      },
      "execution_count": 26,
      "outputs": []
    },
    {
      "cell_type": "code",
      "source": [
        "from pyspark.ml.regression import LinearRegression\n",
        "lr = LinearRegression(featuresCol = 'features', labelCol='y', maxIter=10, regParam=0.3, elasticNetParam=0.8)\n"
      ],
      "metadata": {
        "id": "d8GfndkkYE7k"
      },
      "execution_count": 27,
      "outputs": []
    },
    {
      "cell_type": "code",
      "source": [
        "from pyspark.ml import Pipeline\n",
        "pipeline = Pipeline(stages=[va,lr])"
      ],
      "metadata": {
        "id": "b0GpsUcNYE-a"
      },
      "execution_count": 28,
      "outputs": []
    },
    {
      "cell_type": "code",
      "source": [
        "model = pipeline.fit(trainDf)\n",
        "modelTrainDf = model.transform(trainDf)\n",
        "modelTestDf=model.transform(testDf)"
      ],
      "metadata": {
        "id": "fzMwsBq1YFCu"
      },
      "execution_count": 29,
      "outputs": []
    },
    {
      "cell_type": "markdown",
      "source": [
        "##답"
      ],
      "metadata": {
        "id": "QZri1_A6ZhfV"
      }
    },
    {
      "cell_type": "code",
      "source": [
        "print(\"Coefficients: {}\".format(model.stages[-1].coefficients)) #계수\n",
        "print(\"Intercept: {:.3f}\".format(model.stages[-1].intercept)) #y절편"
      ],
      "metadata": {
        "colab": {
          "base_uri": "https://localhost:8080/"
        },
        "id": "1ukxtqTeYFFK",
        "outputId": "a1a96026-34ab-4806-ef04-e26f67e11489"
      },
      "execution_count": 30,
      "outputs": [
        {
          "output_type": "stream",
          "name": "stdout",
          "text": [
            "Coefficients: [14.458078638434397,21.579770423974015,0.0,23.337615451036502]\n",
            "Intercept: 0.082\n"
          ]
        }
      ]
    },
    {
      "cell_type": "code",
      "source": [
        "modelTestDf.select(\"y\", \"prediction\").show(10)"
      ],
      "metadata": {
        "colab": {
          "base_uri": "https://localhost:8080/"
        },
        "id": "gs1EWp06cEqn",
        "outputId": "9d36cced-9cf0-4232-fa6e-e930e00f64a6"
      },
      "execution_count": 31,
      "outputs": [
        {
          "output_type": "stream",
          "name": "stdout",
          "text": [
            "+-------------------+-------------------+\n",
            "|                  y|         prediction|\n",
            "+-------------------+-------------------+\n",
            "| -82.79018306872197| -81.34875775052659|\n",
            "| -32.04083751153449|-31.265162589321132|\n",
            "| -46.39288878992134|-45.461642455554255|\n",
            "|-12.079116520950851|-11.625726727483853|\n",
            "|  67.81382938342324|  67.24536645119112|\n",
            "| -8.472815756826918| -8.127908540892596|\n",
            "| -66.44653531346476| -65.32691278294578|\n",
            "| -8.743708769982721| -8.364553373328055|\n",
            "|-22.299860071198182|-21.804867945111226|\n",
            "| -16.91891604023228| -16.48441541903353|\n",
            "+-------------------+-------------------+\n",
            "only showing top 10 rows\n",
            "\n"
          ]
        }
      ]
    },
    {
      "cell_type": "markdown",
      "source": [
        "* (2-5) 테스트 데이터에 대해 R2를 구해서 출력하세요.\n",
        "\n"
      ],
      "metadata": {
        "id": "e2E8tu_fYOhP"
      }
    },
    {
      "cell_type": "code",
      "source": [
        "from pyspark.ml.evaluation import RegressionEvaluator\n",
        "\n",
        "evaluator=RegressionEvaluator(labelCol=\"y\", predictionCol=\"prediction\", metricName=\"r2\")"
      ],
      "metadata": {
        "id": "w6HoxwYpYP4P"
      },
      "execution_count": 32,
      "outputs": []
    },
    {
      "cell_type": "markdown",
      "source": [
        "## 답\n"
      ],
      "metadata": {
        "id": "y34u1ev9Zb-E"
      }
    },
    {
      "cell_type": "code",
      "source": [
        "f\"r2: {evaluator.evaluate(modelTestDf):.8f}\""
      ],
      "metadata": {
        "colab": {
          "base_uri": "https://localhost:8080/",
          "height": 35
        },
        "id": "FIBn-Kw4YhMC",
        "outputId": "a143da69-9da3-4ea5-d0f8-f9905d75f71f"
      },
      "execution_count": 33,
      "outputs": [
        {
          "output_type": "execute_result",
          "data": {
            "application/vnd.google.colaboratory.intrinsic+json": {
              "type": "string"
            },
            "text/plain": [
              "'r2: 0.99978756'"
            ]
          },
          "metadata": {},
          "execution_count": 33
        }
      ]
    },
    {
      "cell_type": "markdown",
      "source": [
        "### 문제3: 텍스트 분류\n",
        "\n",
        "\n",
        "\n",
        "다음은 영화리뷰이다.\n",
        "\n"
      ],
      "metadata": {
        "id": "jq8--KGkYkfI"
      }
    },
    {
      "cell_type": "code",
      "source": [
        "import os"
      ],
      "metadata": {
        "id": "1V-0pWtyYmhb"
      },
      "execution_count": 34,
      "outputs": []
    },
    {
      "cell_type": "markdown",
      "source": [
        "* (3-1) 데이터프레임을 생성하세요.\n",
        "\n",
        "\t* 영화리뷰를 파일로 작성하자. ipynb에서 직접 하거나 편리한 에디터를 사용함.\n",
        "\n",
        "\t* 리뷰는 한 줄씩 저장하며, 각각의 긍정, 부정을 구분하여 레이블을 지정하고 함께 저장함.\n",
        "\n",
        "    * 파일로 작성하지 못하면, 이후 문제를 포기하지 말고 리스트로 만들거나 자신이 할 수 있는 방법을 통해서 만들어도 됨."
      ],
      "metadata": {
        "id": "PLFNaamiZEgI"
      }
    },
    {
      "cell_type": "code",
      "source": [
        "movieDf = spark\\\n",
        "    .read\\\n",
        "    .options(header='false', inferschema='true', delimiter='\\t')\\\n",
        "    .csv(os.path.join('/content/gdrive/MyDrive/bigdata/3번.txt'))"
      ],
      "metadata": {
        "id": "j6HFt_ynYmjf"
      },
      "execution_count": 35,
      "outputs": []
    },
    {
      "cell_type": "code",
      "source": [
        "movieDf.printSchema()"
      ],
      "metadata": {
        "colab": {
          "base_uri": "https://localhost:8080/"
        },
        "id": "m54KfCdlZQC2",
        "outputId": "ccc89ffd-c67f-4541-a23e-9fab06e567a2"
      },
      "execution_count": 36,
      "outputs": [
        {
          "output_type": "stream",
          "name": "stdout",
          "text": [
            "root\n",
            " |-- _c0: string (nullable = true)\n",
            "\n"
          ]
        }
      ]
    },
    {
      "cell_type": "code",
      "source": [
        "from pyspark.sql.functions import lit\n",
        "movieDf = movieDf.withColumnRenamed(\"_c0\", \"movies\")\n",
        "movieDf=movieDf.withColumn(\"label\",lit(0))"
      ],
      "metadata": {
        "id": "XA2rOKo5YmmB"
      },
      "execution_count": 37,
      "outputs": []
    },
    {
      "cell_type": "markdown",
      "source": [
        "## 답"
      ],
      "metadata": {
        "id": "zBxeSVwXfEZy"
      }
    },
    {
      "cell_type": "code",
      "source": [
        "movieDf.show(10)"
      ],
      "metadata": {
        "colab": {
          "base_uri": "https://localhost:8080/"
        },
        "id": "94boboSFYmoP",
        "outputId": "aa481451-f3a6-4356-d9e9-643933ba8d59"
      },
      "execution_count": 38,
      "outputs": [
        {
          "output_type": "stream",
          "name": "stdout",
          "text": [
            "+--------------------------------+-----+\n",
            "|                          movies|label|\n",
            "+--------------------------------+-----+\n",
            "|                        ### 긍정|    0|\n",
            "| - 고구마 먹은 영화 유치해서 ...|    0|\n",
            "|  - 노잼이네요.. 왜 배우들이 ...|    0|\n",
            "| - 제발 뻘짓 좀 그만하셨으면....|    0|\n",
            "|     - 스토리가 매우 매우 아쉽다|    0|\n",
            "|         - 영화 약간 이해가 안됨|    0|\n",
            "|- 좋아하는 배우들인데 최근 영...|    0|\n",
            "| - 그지같네 도대체 이 따위 영...|    0|\n",
            "| - 스크린보다 시계를 더 많이 ...|    0|\n",
            "| - 이때까지 본 영화중에 제일 ...|    0|\n",
            "+--------------------------------+-----+\n",
            "only showing top 10 rows\n",
            "\n"
          ]
        }
      ]
    },
    {
      "cell_type": "markdown",
      "source": [
        "* (3-2) 불용어 제거, 불필요 단어 정리\n",
        "\n",
        "    * 느낌표, 점, '...', 'ㅋㅋㅋ', 'ㅠ', 'ㄹㅇ' 불필요한 단어 제거\n",
        "\n",
        "    * 불용어 제거: '그', '수', '본', '등', '때', '걸', '다', '게', '날',\n",
        "\n",
        "\t'짱', '거', '중', '더', '넘', '두', '달', '올', '뻔', '단', '개', '듯'"
      ],
      "metadata": {
        "id": "fFE7hjKffIXU"
      }
    },
    {
      "cell_type": "code",
      "source": [
        "from pyspark.ml.feature import Tokenizer\n",
        "tokenizer = Tokenizer(inputCol=\"movies\", outputCol=\"tokens\")\n",
        "tokDf = tokenizer.transform(movieDf)"
      ],
      "metadata": {
        "id": "3m3p1NO4Ymqs"
      },
      "execution_count": 39,
      "outputs": []
    },
    {
      "cell_type": "code",
      "source": [
        "tokDf.show(3)"
      ],
      "metadata": {
        "colab": {
          "base_uri": "https://localhost:8080/"
        },
        "id": "BrBw9c0TYmsM",
        "outputId": "423ca063-a295-4b09-bdb3-e196fa19909e"
      },
      "execution_count": 40,
      "outputs": [
        {
          "output_type": "stream",
          "name": "stdout",
          "text": [
            "+-------------------------------+-----+---------------------------+\n",
            "|                         movies|label|                     tokens|\n",
            "+-------------------------------+-----+---------------------------+\n",
            "|                       ### 긍정|    0|                [###, 긍정]|\n",
            "|- 고구마 먹은 영화 유치해서 ...|    0|[-, 고구마, 먹은, 영화, ...|\n",
            "| - 노잼이네요.. 왜 배우들이 ...|    0|[-, 노잼이네요.., 왜, 배...|\n",
            "+-------------------------------+-----+---------------------------+\n",
            "only showing top 3 rows\n",
            "\n"
          ]
        }
      ]
    },
    {
      "cell_type": "code",
      "source": [
        "from pyspark.ml.feature import StopWordsRemover\n",
        "stop = StopWordsRemover(inputCol=\"tokens\", outputCol=\"nostops\")"
      ],
      "metadata": {
        "id": "VN6Jklo3e7EM"
      },
      "execution_count": 41,
      "outputs": []
    },
    {
      "cell_type": "code",
      "source": [
        "stopwords=list()\n",
        "_stopwords=stop.getStopWords()\n",
        "for e in _stopwords:\n",
        "    stopwords.append(e)"
      ],
      "metadata": {
        "id": "kEYA5Mf6fR9l"
      },
      "execution_count": 42,
      "outputs": []
    },
    {
      "cell_type": "markdown",
      "source": [
        "## 답"
      ],
      "metadata": {
        "id": "C6xkTdF7hB14"
      }
    },
    {
      "cell_type": "code",
      "source": [
        "_mystopwords=[u\"!\",u\".\",u\"ㅋㅋㅋ\",u\"...\",u\",\",u\"ㄹㅇ\",u\"ㅠ\",\n",
        "              u\"그\",u\"수\",u\"본\",u\"등\",u\"때\",u\"걸\",u\"다\",u\"게\",\n",
        "              u\"날\",u\"짱\",u\"거\",u\"중\",u\"더\",u\"넘\",u\"두\",u\"달\",\n",
        "              u\"올\",u\"뻔\",u\"단\",u\"개\",u\"듯\",u\"-\",u\"###\",'-',u'[',u']',u'어우'\n",
        "              ,u'왜',u'좀',u'제발',u'뻘짓']\n",
        "for e in _mystopwords:\n",
        "    stopwords.append(e)\n",
        "stop.setStopWords(stopwords)\n",
        "stopDf=stop.transform(tokDf)\n",
        "stopDf.show()"
      ],
      "metadata": {
        "colab": {
          "base_uri": "https://localhost:8080/"
        },
        "id": "-yAXVf5lfUEG",
        "outputId": "992096f4-98c8-4763-d452-3cd075f60ecd"
      },
      "execution_count": 43,
      "outputs": [
        {
          "output_type": "stream",
          "name": "stdout",
          "text": [
            "+---------------------------------+-----+------------------------------+--------------------------------+\n",
            "|                           movies|label|                        tokens|                         nostops|\n",
            "+---------------------------------+-----+------------------------------+--------------------------------+\n",
            "|                         ### 긍정|    0|                   [###, 긍정]|                          [긍정]|\n",
            "|  - 고구마 먹은 영화 유치해서 ...|    0|   [-, 고구마, 먹은, 영화, ...|  [고구마, 먹은, 영화, 유치해...|\n",
            "|   - 노잼이네요.. 왜 배우들이 ...|    0|   [-, 노잼이네요.., 왜, 배...|  [노잼이네요.., 배우들이, 출...|\n",
            "|  - 제발 뻘짓 좀 그만하셨으면....|    0|   [-, 제발, 뻘짓, 좀, 그만...|    [그만하셨으면...., 이건, ...|\n",
            "|      - 스토리가 매우 매우 아쉽다|    0|  [-, 스토리가, 매우, 매우,...|  [스토리가, 매우, 매우, 아쉽다]|\n",
            "|          - 영화 약간 이해가 안됨|    0| [-, 영화, 약간, 이해가, 안됨]|      [영화, 약간, 이해가, 안됨]|\n",
            "| - 좋아하는 배우들인데 최근 영...|    0| [-, 좋아하는, 배우들인데, ...| [좋아하는, 배우들인데, 최근,...|\n",
            "|  - 그지같네 도대체 이 따위 영...|    0|  [-, 그지같네, 도대체, 이,...|  [그지같네, 도대체, 이, 따위...|\n",
            "|  - 스크린보다 시계를 더 많이 ...|    0| [-, 스크린보다, 시계를, 더...|  [스크린보다, 시계를, 많이, ...|\n",
            "|  - 이때까지 본 영화중에 제일 ...|    0| [-, 이때까지, 본, 영화중에...|  [이때까지, 영화중에, 제일, ...|\n",
            "|   - 나만 짜증.. 줄거리 한줄평...|    0|   [-, 나만, 짜증.., 줄거리...|    [나만, 짜증.., 줄거리, 한...|\n",
            "| - 로맨틱 코미디로 방향을 잡았...|    0| [-, 로맨틱, 코미디로, 방향...|  [로맨틱, 코미디로, 방향을, ...|\n",
            "|  - 똥 싸다가 막힌 느낌 안보는...|    0|   [-, 똥, 싸다가, 막힌, 느...|    [똥, 싸다가, 막힌, 느낌, ...|\n",
            "|  - 어우 핵노잼 영화가 왜 이렇...|    0|  [-, 어우, 핵노잼, 영화가,...|  [핵노잼, 영화가, 이렇게, 하...|\n",
            "|  - 솔직히 재미없음 감독이 뭘 ...|    0| [-, 솔직히, 재미없음, 감독...|  [솔직히, 재미없음, 감독이, ...|\n",
            "|- 뭘 말하고싶은지 모르겠다 아쉽다|    0| [-, 뭘, 말하고싶은지, 모르...| [뭘, 말하고싶은지, 모르겠다,...|\n",
            "| - 새벽에 케이블에서 볼거 없어...|    0| [-, 새벽에, 케이블에서, 볼...|  [새벽에, 케이블에서, 볼거, ...|\n",
            "|      - 핵노잼 억지 착한척 오졌다|    0|  [-, 핵노잼, 억지, 착한척,...|  [핵노잼, 억지, 착한척, 오졌다]|\n",
            "| - 오그라드는 대사는 기본에 옵...|    0| [-, 오그라드는, 대사는, 기...| [오그라드는, 대사는, 기본에,...|\n",
            "|- 역대급 호화캐스팅인데 스토리...|    0|[-, 역대급, 호화캐스팅인데,...|[역대급, 호화캐스팅인데, 스토...|\n",
            "+---------------------------------+-----+------------------------------+--------------------------------+\n",
            "only showing top 20 rows\n",
            "\n"
          ]
        }
      ]
    },
    {
      "cell_type": "markdown",
      "source": [
        "* (3-3) TF-IDF를 계산"
      ],
      "metadata": {
        "id": "XN3yE8_EhDne"
      }
    },
    {
      "cell_type": "code",
      "source": [
        "from pyspark.ml.feature import HashingTF, IDF\n",
        "hashTF = HashingTF(inputCol=\"nostops\", outputCol=\"features\")\n",
        "hashDf = hashTF.transform(stopDf)"
      ],
      "metadata": {
        "id": "z11MXPM7hEgw"
      },
      "execution_count": 44,
      "outputs": []
    },
    {
      "cell_type": "code",
      "source": [
        "idf = IDF(inputCol=\"features\", outputCol=\"idf\")\n",
        "\n",
        "idfModel = idf.fit(hashDf)\n",
        "idfDf = idfModel.transform(hashDf)"
      ],
      "metadata": {
        "id": "RYsVN2iohEi1"
      },
      "execution_count": 45,
      "outputs": []
    },
    {
      "cell_type": "markdown",
      "source": [
        "## 답"
      ],
      "metadata": {
        "id": "lQZVXk7whwaq"
      }
    },
    {
      "cell_type": "code",
      "source": [
        "idfDf.select(\"nostops\", \"features\",\"idf\").show(3)"
      ],
      "metadata": {
        "colab": {
          "base_uri": "https://localhost:8080/"
        },
        "id": "8MmW49pZhElA",
        "outputId": "96e2f2ec-e9ef-4c62-d698-cc03925c3cce"
      },
      "execution_count": 46,
      "outputs": [
        {
          "output_type": "stream",
          "name": "stdout",
          "text": [
            "+------------------------------+--------------------+--------------------+\n",
            "|                       nostops|            features|                 idf|\n",
            "+------------------------------+--------------------+--------------------+\n",
            "|                        [긍정]|(262144,[81545],[...|(262144,[81545],[...|\n",
            "|[고구마, 먹은, 영화, 유치해...|(262144,[114067,1...|(262144,[114067,1...|\n",
            "|[노잼이네요.., 배우들이, 출...|(262144,[14123,77...|(262144,[14123,77...|\n",
            "+------------------------------+--------------------+--------------------+\n",
            "only showing top 3 rows\n",
            "\n"
          ]
        }
      ]
    },
    {
      "cell_type": "markdown",
      "source": [
        "* (3-4) 베이지안 모델을 적용해서 분류 (alpha는 1.0으로 설정)"
      ],
      "metadata": {
        "id": "sNUz9WFmgvH2"
      }
    },
    {
      "cell_type": "code",
      "source": [
        "from pyspark.ml.classification import NaiveBayes\n",
        "nb=NaiveBayes(featuresCol='features', labelCol='label', modelType='multinomial', predictionCol='prediction',smoothing=1.0)"
      ],
      "metadata": {
        "id": "NZbwbfOVh6fK"
      },
      "execution_count": 47,
      "outputs": []
    },
    {
      "cell_type": "code",
      "source": [
        "model=nb.fit(hashDf)"
      ],
      "metadata": {
        "id": "8uFZybY4h6ih"
      },
      "execution_count": 48,
      "outputs": []
    },
    {
      "cell_type": "code",
      "source": [
        "predictions=model.transform(hashDf)\n",
        "predictions.select('movies','label','prediction').show(20)"
      ],
      "metadata": {
        "colab": {
          "base_uri": "https://localhost:8080/"
        },
        "id": "7AoQ3Fg9h6mG",
        "outputId": "81715ac3-d1e0-43ad-ed0b-6f743d55340f"
      },
      "execution_count": 49,
      "outputs": [
        {
          "output_type": "stream",
          "name": "stdout",
          "text": [
            "+---------------------------------+-----+----------+\n",
            "|                           movies|label|prediction|\n",
            "+---------------------------------+-----+----------+\n",
            "|                         ### 긍정|    0|       0.0|\n",
            "|  - 고구마 먹은 영화 유치해서 ...|    0|       0.0|\n",
            "|   - 노잼이네요.. 왜 배우들이 ...|    0|       0.0|\n",
            "|  - 제발 뻘짓 좀 그만하셨으면....|    0|       0.0|\n",
            "|      - 스토리가 매우 매우 아쉽다|    0|       0.0|\n",
            "|          - 영화 약간 이해가 안됨|    0|       0.0|\n",
            "| - 좋아하는 배우들인데 최근 영...|    0|       0.0|\n",
            "|  - 그지같네 도대체 이 따위 영...|    0|       0.0|\n",
            "|  - 스크린보다 시계를 더 많이 ...|    0|       0.0|\n",
            "|  - 이때까지 본 영화중에 제일 ...|    0|       0.0|\n",
            "|   - 나만 짜증.. 줄거리 한줄평...|    0|       0.0|\n",
            "| - 로맨틱 코미디로 방향을 잡았...|    0|       0.0|\n",
            "|  - 똥 싸다가 막힌 느낌 안보는...|    0|       0.0|\n",
            "|  - 어우 핵노잼 영화가 왜 이렇...|    0|       0.0|\n",
            "|  - 솔직히 재미없음 감독이 뭘 ...|    0|       0.0|\n",
            "|- 뭘 말하고싶은지 모르겠다 아쉽다|    0|       0.0|\n",
            "| - 새벽에 케이블에서 볼거 없어...|    0|       0.0|\n",
            "|      - 핵노잼 억지 착한척 오졌다|    0|       0.0|\n",
            "| - 오그라드는 대사는 기본에 옵...|    0|       0.0|\n",
            "|- 역대급 호화캐스팅인데 스토리...|    0|       0.0|\n",
            "+---------------------------------+-----+----------+\n",
            "only showing top 20 rows\n",
            "\n"
          ]
        }
      ]
    },
    {
      "cell_type": "markdown",
      "source": [
        "* (3-5) 훈련, 테스트 데이터를 반반씩 분리하고, 훈련 후 정확성을 계산하고 출력."
      ],
      "metadata": {
        "id": "Ihik2b6HkB-j"
      }
    },
    {
      "cell_type": "code",
      "source": [
        "(trainDf, testDf) = hashDf.randomSplit([0.5, 0.5])"
      ],
      "metadata": {
        "id": "rFydFRxvh6pA"
      },
      "execution_count": 50,
      "outputs": []
    },
    {
      "cell_type": "code",
      "source": [
        "train=nb.fit(trainDf)#trainDf로 훈련"
      ],
      "metadata": {
        "id": "EZ2RkwBxkGXJ"
      },
      "execution_count": 51,
      "outputs": []
    },
    {
      "cell_type": "code",
      "source": [
        "predictions_train=train.transform(trainDf) #train예측"
      ],
      "metadata": {
        "id": "QvqNVPKhkGZu"
      },
      "execution_count": 52,
      "outputs": []
    },
    {
      "cell_type": "code",
      "source": [
        "predictions_train.select('movies','label','prediction').show(20)"
      ],
      "metadata": {
        "colab": {
          "base_uri": "https://localhost:8080/"
        },
        "id": "091yMibekGb6",
        "outputId": "623e323d-1c97-4f6e-a1b2-11a1dfa6c482"
      },
      "execution_count": 53,
      "outputs": [
        {
          "output_type": "stream",
          "name": "stdout",
          "text": [
            "+---------------------------------+-----+----------+\n",
            "|                           movies|label|prediction|\n",
            "+---------------------------------+-----+----------+\n",
            "|                         ### 부정|    0|       0.0|\n",
            "|     - 감동 그 자체 스파이더맨 짱|    0|       0.0|\n",
            "|   - 그냥 진짜 재밌어 진짜 잘 ...|    0|       0.0|\n",
            "|  - 그지같네 도대체 이 따위 영...|    0|       0.0|\n",
            "|            - 꼭 보세여 넘 재밌어|    0|       0.0|\n",
            "|    - 노잼 하 2시간 반 돌려내 ...|    0|       0.0|\n",
            "|             - 띵작입니다 ㄹㅇ!!!|    0|       0.0|\n",
            "| - 로맨틱 코미디로 방향을 잡았...|    0|       0.0|\n",
            "|- 뭘 말하고싶은지 모르겠다 아쉽다|    0|       0.0|\n",
            "|  - 솔직히 재미없음 감독이 뭘 ...|    0|       0.0|\n",
            "|  - 스토리 개 말도 안되는 억지...|    0|       0.0|\n",
            "| - 어렸을때는 그냥 액션과 화려...|    0|       0.0|\n",
            "| - 어릴적 영화관에서 처음으로 ...|    0|       0.0|\n",
            "|  - 어설픈 연출력 어설픈 결말 ...|    0|       0.0|\n",
            "|  - 엔드게임 이후 마블이 한 번...|    0|       0.0|\n",
            "|          - 영화 약간 이해가 안됨|    0|       0.0|\n",
            "|   - 올해 본 영화 중 최고의 영...|    0|       0.0|\n",
            "|  - 이때까지 본 영화중에 제일 ...|    0|       0.0|\n",
            "|  - 자연과 인간, 아버지와 아들...|    0|       0.0|\n",
            "|  - 제발 뻘짓 좀 그만하셨으면....|    0|       0.0|\n",
            "+---------------------------------+-----+----------+\n",
            "only showing top 20 rows\n",
            "\n"
          ]
        }
      ]
    },
    {
      "cell_type": "code",
      "source": [
        "from pyspark.ml.evaluation import BinaryClassificationEvaluator\n",
        "evaluator=BinaryClassificationEvaluator(rawPredictionCol=\"prediction\", labelCol=\"label\")"
      ],
      "metadata": {
        "id": "HXE_fDzzklF3"
      },
      "execution_count": 54,
      "outputs": []
    },
    {
      "cell_type": "code",
      "source": [
        "predictions_test=train.transform(testDf)"
      ],
      "metadata": {
        "id": "Jg1YPqnjmGh2"
      },
      "execution_count": 55,
      "outputs": []
    },
    {
      "cell_type": "markdown",
      "source": [
        "## 답"
      ],
      "metadata": {
        "id": "bdGu24QTmSbJ"
      }
    },
    {
      "cell_type": "code",
      "source": [
        "evaluator.evaluate(predictions_train)"
      ],
      "metadata": {
        "colab": {
          "base_uri": "https://localhost:8080/"
        },
        "id": "7vjv7FkVl9A4",
        "outputId": "640a5d77-f365-423c-b60c-4242d6801c17"
      },
      "execution_count": 56,
      "outputs": [
        {
          "output_type": "execute_result",
          "data": {
            "text/plain": [
              "0.0"
            ]
          },
          "metadata": {},
          "execution_count": 56
        }
      ]
    },
    {
      "cell_type": "code",
      "source": [
        "evaluator.evaluate(predictions_test)"
      ],
      "metadata": {
        "colab": {
          "base_uri": "https://localhost:8080/"
        },
        "id": "yPBQor6Rl9DL",
        "outputId": "6cf9fc63-d92a-440b-f077-3bd59a0563b0"
      },
      "execution_count": 57,
      "outputs": [
        {
          "output_type": "execute_result",
          "data": {
            "text/plain": [
              "0.0"
            ]
          },
          "metadata": {},
          "execution_count": 57
        }
      ]
    },
    {
      "cell_type": "markdown",
      "source": [
        "* (3-6) 앞서 훈련한 베이지안 모델로 다음 문장을 긍정, 부정으로 분류하세요\n",
        "\n",
        "- 고구가 먹은 느낌 킬링타음으로도 아쉽다\n",
        "\n",
        "- 내돈 아깝 핵노잼 영화가 이렇게 지루해서 못보겠다\n",
        "\n",
        "- 보다가 채널 돌림 재미없다\n",
        "\n",
        "- 최고의 영화\n",
        "\n",
        "- 여운이 긴 명작\n",
        "\n",
        "- 띵작입니다 몰입하고 숨도 못쉬고 봤어요 꼭 보세요\n",
        "\n",
        "##풀지못함\n"
      ],
      "metadata": {
        "id": "rgmTQezoncON"
      }
    },
    {
      "cell_type": "code",
      "source": [
        "test=spark.createDataFrame(\n",
        "    [\n",
        "     [\"고구가 먹은 느낌 킬링타음으로도 아쉽다\"],\n",
        "     [\"내돈 아깝 핵노잼 영화가 이렇게 지루해서 못보겠다\"],\n",
        "     [\"보다가 채널 돌림 재미없다\"],\n",
        "     [\"최고의 영화\"],\n",
        "     [\"여운이 긴 명작\"],\n",
        "     [\"띵작입니다 몰입하고 숨도 못쉬고 봤어요 꼭 보세요\"]\n",
        "    ]\n",
        ")"
      ],
      "metadata": {
        "id": "k_geMRGencBp"
      },
      "execution_count": 58,
      "outputs": []
    },
    {
      "cell_type": "code",
      "source": [
        "test.printSchema()"
      ],
      "metadata": {
        "colab": {
          "base_uri": "https://localhost:8080/"
        },
        "id": "KoWjfB7boE0v",
        "outputId": "9f7a33b9-3050-4ab0-a1d5-395ee2dce990"
      },
      "execution_count": 59,
      "outputs": [
        {
          "output_type": "stream",
          "name": "stdout",
          "text": [
            "root\n",
            " |-- _1: string (nullable = true)\n",
            "\n"
          ]
        }
      ]
    },
    {
      "cell_type": "code",
      "source": [
        "from pyspark.ml.feature import Tokenizer\n",
        "tokenizer = Tokenizer(inputCol=\"_1\", outputCol=\"tokens\")\n",
        "test_tokDf = tokenizer.transform(test)"
      ],
      "metadata": {
        "id": "XjybRGF6oDKz"
      },
      "execution_count": 60,
      "outputs": []
    },
    {
      "cell_type": "code",
      "source": [
        ""
      ],
      "metadata": {
        "id": "NmGkiW9DoPt8"
      },
      "execution_count": 60,
      "outputs": []
    }
  ]
}
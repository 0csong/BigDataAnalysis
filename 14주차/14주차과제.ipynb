{
  "nbformat": 4,
  "nbformat_minor": 0,
  "metadata": {
    "colab": {
      "name": "14주차과제.ipynb",
      "provenance": []
    },
    "kernelspec": {
      "name": "python3",
      "display_name": "Python 3"
    },
    "language_info": {
      "name": "python"
    }
  },
  "cells": [
    {
      "cell_type": "code",
      "metadata": {
        "colab": {
          "base_uri": "https://localhost:8080/"
        },
        "id": "_eqqg7og4xBV",
        "outputId": "df7870f8-001e-42ed-ca8e-d403ee4e7ca8"
      },
      "source": [
        "from google.colab import drive\n",
        "drive.mount('/content/gdrive')"
      ],
      "execution_count": 1,
      "outputs": [
        {
          "output_type": "stream",
          "name": "stdout",
          "text": [
            "Mounted at /content/gdrive\n"
          ]
        }
      ]
    },
    {
      "cell_type": "markdown",
      "metadata": {
        "id": "VyC5pTsi5WDK"
      },
      "source": [
        "14주 이진 베이지안 모델\n",
        "Sklearn의 make_classification() 함수는 분류에 쓰일 수 있는 데이터를 생성해준다.\n",
        "\n",
        "\n",
        "\n",
        "from sklearn.datasets import make_classification\n",
        "\n",
        "X, Y = make_classification(n_samples=100, n_features=2, n_informative=2, n_redundant=0)\n",
        "\n",
        "\n",
        "\n",
        "Sklearn으로 이진 베이지안 모델링을 해보자.\n",
        "\n",
        "* (1) X, Y 데이터를 생성\n",
        "\n",
        "* (2) X의 평균과 표준편차 계산해서 출력\n",
        "\n",
        "* (3) 그래프 작성\n",
        "\n",
        "    * scatter() 함수에 c=Y 옵션을 넣으면, Y의 값에 대해 다른 색으로 표시할 수 있다.\n",
        "\n",
        "* (4) 훈련데이터, 테스트데이터 3:1로 분리\n",
        "\n",
        "    * train_test_split()함수를 사용하면 원하는 비율로 분리할 수 있다.\n",
        "\n",
        "* (5) 훈련데이터에 대하여 BernoulliNB 모델링\n",
        "\n",
        "    * X데이터는 연속 값이다. binarize=0.0으로 설정하여 이진수로 모델링한다.\n",
        "\n",
        "* (6) 테스트데이터에 대하여 예측값을 출력\n",
        "\n",
        "    * 예측이 맞는지 실제값 Y와 비교해보자.\n",
        "\n",
        "* (7) 테스트데이터에 대하여 예측과 실제의 정확성 출력\n",
        "\n"
      ]
    },
    {
      "cell_type": "markdown",
      "metadata": {
        "id": "flAdlCwO5Yc7"
      },
      "source": [
        "## (1) X, Y 데이터를 생성"
      ]
    },
    {
      "cell_type": "code",
      "metadata": {
        "id": "tg9zoEJA5QNF"
      },
      "source": [
        "from sklearn.datasets import make_classification\n",
        "X, Y = make_classification(n_samples=100, n_features=2, n_informative=2, n_redundant=0)"
      ],
      "execution_count": 2,
      "outputs": []
    },
    {
      "cell_type": "code",
      "metadata": {
        "colab": {
          "base_uri": "https://localhost:8080/"
        },
        "id": "7MMgkH3y5QPY",
        "outputId": "1916889b-a243-4df6-b4b1-465dd1830d1c"
      },
      "source": [
        "print(X.shape)\n",
        "print(X[:3])\n",
        "\n",
        "print(Y.shape)\n",
        "print(Y[:3]) #1또는0 이진"
      ],
      "execution_count": 3,
      "outputs": [
        {
          "output_type": "stream",
          "name": "stdout",
          "text": [
            "(100, 2)\n",
            "[[-1.17185216 -1.27916989]\n",
            " [ 0.79856213  0.94174273]\n",
            " [-0.87155801  1.87680035]]\n",
            "(100,)\n",
            "[0 1 0]\n"
          ]
        }
      ]
    },
    {
      "cell_type": "markdown",
      "metadata": {
        "id": "Ss5jzQ3h5gmz"
      },
      "source": [
        "(2) X의 평균과 표준편차 계산해서 출력"
      ]
    },
    {
      "cell_type": "code",
      "metadata": {
        "colab": {
          "base_uri": "https://localhost:8080/"
        },
        "id": "hFmfRspt5QRe",
        "outputId": "2152010f-80b3-4a07-a7a2-a0b580524096"
      },
      "source": [
        "print('평균: ',X.mean())\n",
        "print('표준편차:', X.std())"
      ],
      "execution_count": 4,
      "outputs": [
        {
          "output_type": "stream",
          "name": "stdout",
          "text": [
            "평균:  0.06578632079923993\n",
            "표준편차: 1.2031253184604018\n"
          ]
        }
      ]
    },
    {
      "cell_type": "markdown",
      "metadata": {
        "id": "bVhihI405jRa"
      },
      "source": [
        "(3) 그래프 작성"
      ]
    },
    {
      "cell_type": "code",
      "metadata": {
        "colab": {
          "base_uri": "https://localhost:8080/",
          "height": 297
        },
        "id": "6TddFnFX5QTn",
        "outputId": "8ca780f8-0a00-45ee-eb7a-5585474e3a2b"
      },
      "source": [
        "%matplotlib inline\n",
        "import matplotlib.pyplot as plt\n",
        "\n",
        "plt.scatter(X[:,0], X[:,1], c=Y)\n",
        "plt.xlabel('X[:,0]')\n",
        "plt.ylabel('X[:,1]')"
      ],
      "execution_count": 5,
      "outputs": [
        {
          "output_type": "execute_result",
          "data": {
            "text/plain": [
              "Text(0, 0.5, 'X[:,1]')"
            ]
          },
          "metadata": {},
          "execution_count": 5
        },
        {
          "output_type": "display_data",
          "data": {
            "image/png": "[encoded data removed]",
            "text/plain": [
              "<Figure size 432x288 with 1 Axes>"
            ]
          },
          "metadata": {
            "needs_background": "light"
          }
        }
      ]
    },
    {
      "cell_type": "markdown",
      "metadata": {
        "id": "F8KD61Lq5ntY"
      },
      "source": [
        "(4) 훈련데이터, 테스트데이터 3:1로 분리"
      ]
    },
    {
      "cell_type": "code",
      "metadata": {
        "id": "gjGku3Fi5pTk"
      },
      "source": [
        "from sklearn.model_selection import train_test_split\n",
        "\n",
        "X_train, X_test, Y_train, Y_test = train_test_split(X, Y, test_size=0.25,random_state=41)"
      ],
      "execution_count": 6,
      "outputs": []
    },
    {
      "cell_type": "markdown",
      "metadata": {
        "id": "XJzsEueA5sEV"
      },
      "source": [
        "(5) 훈련데이터에 대하여 BernoulliNB 모델링"
      ]
    },
    {
      "cell_type": "code",
      "metadata": {
        "colab": {
          "base_uri": "https://localhost:8080/"
        },
        "id": "zu1HSapM5pce",
        "outputId": "d0682092-23c0-45be-a018-1d51d1993174"
      },
      "source": [
        "from sklearn.naive_bayes import BernoulliNB\n",
        "clf = BernoulliNB(binarize=0.0)\n",
        "clf.fit(X_train, Y_train)"
      ],
      "execution_count": 7,
      "outputs": [
        {
          "output_type": "execute_result",
          "data": {
            "text/plain": [
              "BernoulliNB()"
            ]
          },
          "metadata": {},
          "execution_count": 7
        }
      ]
    },
    {
      "cell_type": "markdown",
      "metadata": {
        "id": "u7vM6KYX5utJ"
      },
      "source": [
        "(6) 테스트데이터에 대하여 예측값을 출력\n",
        " * 예측이 맞는지 실제값 Y와 비교해보자."
      ]
    },
    {
      "cell_type": "code",
      "metadata": {
        "colab": {
          "base_uri": "https://localhost:8080/"
        },
        "id": "vLvMJInp5phS",
        "outputId": "b77b9b40-03fb-416d-80f9-0d4dd278ce76"
      },
      "source": [
        "clf.predict(X_test)"
      ],
      "execution_count": 8,
      "outputs": [
        {
          "output_type": "execute_result",
          "data": {
            "text/plain": [
              "array([0, 1, 1, 0, 0, 0, 0, 0, 1, 1, 0, 1, 1, 0, 1, 0, 1, 0, 0, 1, 0, 0,\n",
              "       0, 0, 0])"
            ]
          },
          "metadata": {},
          "execution_count": 8
        }
      ]
    },
    {
      "cell_type": "code",
      "metadata": {
        "colab": {
          "base_uri": "https://localhost:8080/"
        },
        "id": "sSZKC4tw5plM",
        "outputId": "25a5f35d-de3b-48dd-e174-03ada2051b76"
      },
      "source": [
        "import pandas as pd\n",
        "df=pd.DataFrame({'Predict':clf.predict(X_test),'Y_test':Y_test})\n",
        "df['result']=(df['Predict']==df['Y_test'])\n",
        "print(df)"
      ],
      "execution_count": 10,
      "outputs": [
        {
          "output_type": "stream",
          "name": "stdout",
          "text": [
            "    Predict  Y_test  result\n",
            "0         0       0    True\n",
            "1         1       1    True\n",
            "2         1       1    True\n",
            "3         0       0    True\n",
            "4         0       0    True\n",
            "5         0       0    True\n",
            "6         0       0    True\n",
            "7         0       0    True\n",
            "8         1       1    True\n",
            "9         1       1    True\n",
            "10        0       0    True\n",
            "11        1       1    True\n",
            "12        1       1    True\n",
            "13        0       0    True\n",
            "14        1       1    True\n",
            "15        0       0    True\n",
            "16        1       1    True\n",
            "17        0       0    True\n",
            "18        0       0    True\n",
            "19        1       1    True\n",
            "20        0       0    True\n",
            "21        0       0    True\n",
            "22        0       0    True\n",
            "23        0       0    True\n",
            "24        0       0    True\n"
          ]
        }
      ]
    },
    {
      "cell_type": "code",
      "metadata": {
        "colab": {
          "base_uri": "https://localhost:8080/",
          "height": 50
        },
        "id": "W4fl-CNC6G2-",
        "outputId": "1621f19c-b62b-4d88-8ded-28ad97517561"
      },
      "source": [
        "df[df['result']==False]"
      ],
      "execution_count": 11,
      "outputs": [
        {
          "output_type": "execute_result",
          "data": {
            "text/html": [
              "<div>\n",
              "<style scoped>\n",
              "    .dataframe tbody tr th:only-of-type {\n",
              "        vertical-align: middle;\n",
              "    }\n",
              "\n",
              "    .dataframe tbody tr th {\n",
              "        vertical-align: top;\n",
              "    }\n",
              "\n",
              "    .dataframe thead th {\n",
              "        text-align: right;\n",
              "    }\n",
              "</style>\n",
              "<table border=\"1\" class=\"dataframe\">\n",
              "  <thead>\n",
              "    <tr style=\"text-align: right;\">\n",
              "      <th></th>\n",
              "      <th>Predict</th>\n",
              "      <th>Y_test</th>\n",
              "      <th>result</th>\n",
              "    </tr>\n",
              "  </thead>\n",
              "  <tbody>\n",
              "  </tbody>\n",
              "</table>\n",
              "</div>"
            ],
            "text/plain": [
              "Empty DataFrame\n",
              "Columns: [Predict, Y_test, result]\n",
              "Index: []"
            ]
          },
          "metadata": {},
          "execution_count": 11
        }
      ]
    },
    {
      "cell_type": "markdown",
      "metadata": {
        "id": "v6SYSR_u6RnP"
      },
      "source": [
        "(7) 테스트데이터에 대하여 예측과 실제의 정확성 출력"
      ]
    },
    {
      "cell_type": "code",
      "metadata": {
        "id": "UH5gODYH6P-L",
        "outputId": "28f777c4-92b0-429d-bea0-c97cf8f6129a",
        "colab": {
          "base_uri": "https://localhost:8080/"
        }
      },
      "source": [
        "clf.score(X_test,Y_test)"
      ],
      "execution_count": 12,
      "outputs": [
        {
          "output_type": "execute_result",
          "data": {
            "text/plain": [
              "1.0"
            ]
          },
          "metadata": {},
          "execution_count": 12
        }
      ]
    }
  ]
}